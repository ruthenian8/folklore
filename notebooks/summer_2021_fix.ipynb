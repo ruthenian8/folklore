{
 "cells": [
  {
   "cell_type": "code",
   "execution_count": 1,
   "metadata": {},
   "outputs": [],
   "source": [
    "import pandas as pd\n",
    "import mysql.connector\n",
    "from config import DB, USR, PWD"
   ]
  },
  {
   "cell_type": "code",
   "execution_count": 2,
   "metadata": {},
   "outputs": [],
   "source": [
    "con = mysql.connector.connect(database=DB, user=USR, password=PWD)\n",
    "cur = con.cursor()"
   ]
  },
  {
   "cell_type": "markdown",
   "metadata": {},
   "source": [
    "**Вопросы копия в доп**"
   ]
  },
  {
   "cell_type": "code",
   "execution_count": 9,
   "metadata": {},
   "outputs": [],
   "source": [
    "dop = pd.read_sql(\"SELECT id, question_list, question_num FROM questions WHERE question_letter = 'доп' AND question_text IS NULL\", con=con)"
   ]
  },
  {
   "cell_type": "code",
   "execution_count": 10,
   "metadata": {},
   "outputs": [
    {
     "data": {
      "text/html": [
       "<div>\n",
       "<style scoped>\n",
       "    .dataframe tbody tr th:only-of-type {\n",
       "        vertical-align: middle;\n",
       "    }\n",
       "\n",
       "    .dataframe tbody tr th {\n",
       "        vertical-align: top;\n",
       "    }\n",
       "\n",
       "    .dataframe thead th {\n",
       "        text-align: right;\n",
       "    }\n",
       "</style>\n",
       "<table border=\"1\" class=\"dataframe\">\n",
       "  <thead>\n",
       "    <tr style=\"text-align: right;\">\n",
       "      <th></th>\n",
       "      <th>id</th>\n",
       "      <th>question_list</th>\n",
       "      <th>question_num</th>\n",
       "    </tr>\n",
       "  </thead>\n",
       "  <tbody>\n",
       "    <tr>\n",
       "      <th>0</th>\n",
       "      <td>1710</td>\n",
       "      <td>IVa</td>\n",
       "      <td>19</td>\n",
       "    </tr>\n",
       "    <tr>\n",
       "      <th>1</th>\n",
       "      <td>1711</td>\n",
       "      <td>XXIIa</td>\n",
       "      <td>14</td>\n",
       "    </tr>\n",
       "    <tr>\n",
       "      <th>2</th>\n",
       "      <td>1712</td>\n",
       "      <td>IIIa</td>\n",
       "      <td>9</td>\n",
       "    </tr>\n",
       "    <tr>\n",
       "      <th>3</th>\n",
       "      <td>1713</td>\n",
       "      <td>XVI</td>\n",
       "      <td>1</td>\n",
       "    </tr>\n",
       "    <tr>\n",
       "      <th>4</th>\n",
       "      <td>1714</td>\n",
       "      <td>XXIa</td>\n",
       "      <td>12</td>\n",
       "    </tr>\n",
       "    <tr>\n",
       "      <th>...</th>\n",
       "      <td>...</td>\n",
       "      <td>...</td>\n",
       "      <td>...</td>\n",
       "    </tr>\n",
       "    <tr>\n",
       "      <th>229</th>\n",
       "      <td>2003</td>\n",
       "      <td>XVIII</td>\n",
       "      <td>14</td>\n",
       "    </tr>\n",
       "    <tr>\n",
       "      <th>230</th>\n",
       "      <td>2005</td>\n",
       "      <td>Ia</td>\n",
       "      <td>10</td>\n",
       "    </tr>\n",
       "    <tr>\n",
       "      <th>231</th>\n",
       "      <td>2006</td>\n",
       "      <td>IVa</td>\n",
       "      <td>7</td>\n",
       "    </tr>\n",
       "    <tr>\n",
       "      <th>232</th>\n",
       "      <td>2010</td>\n",
       "      <td>XIX</td>\n",
       "      <td>3</td>\n",
       "    </tr>\n",
       "    <tr>\n",
       "      <th>233</th>\n",
       "      <td>2011</td>\n",
       "      <td>Ia</td>\n",
       "      <td>30</td>\n",
       "    </tr>\n",
       "  </tbody>\n",
       "</table>\n",
       "<p>234 rows × 3 columns</p>\n",
       "</div>"
      ],
      "text/plain": [
       "       id question_list  question_num\n",
       "0    1710           IVa            19\n",
       "1    1711         XXIIa            14\n",
       "2    1712          IIIa             9\n",
       "3    1713           XVI             1\n",
       "4    1714          XXIa            12\n",
       "..    ...           ...           ...\n",
       "229  2003         XVIII            14\n",
       "230  2005            Ia            10\n",
       "231  2006           IVa             7\n",
       "232  2010           XIX             3\n",
       "233  2011            Ia            30\n",
       "\n",
       "[234 rows x 3 columns]"
      ]
     },
     "execution_count": 10,
     "metadata": {},
     "output_type": "execute_result"
    }
   ],
   "source": [
    "dop"
   ]
  },
  {
   "cell_type": "code",
   "execution_count": 8,
   "metadata": {},
   "outputs": [],
   "source": [
    "questions = pd.read_sql(\"SELECT id, question_list, question_num, question_text, question_theme FROM questions WHERE question_letter = ''\", con=con)"
   ]
  },
  {
   "cell_type": "code",
   "execution_count": 11,
   "metadata": {},
   "outputs": [
    {
     "data": {
      "text/html": [
       "<div>\n",
       "<style scoped>\n",
       "    .dataframe tbody tr th:only-of-type {\n",
       "        vertical-align: middle;\n",
       "    }\n",
       "\n",
       "    .dataframe tbody tr th {\n",
       "        vertical-align: top;\n",
       "    }\n",
       "\n",
       "    .dataframe thead th {\n",
       "        text-align: right;\n",
       "    }\n",
       "</style>\n",
       "<table border=\"1\" class=\"dataframe\">\n",
       "  <thead>\n",
       "    <tr style=\"text-align: right;\">\n",
       "      <th></th>\n",
       "      <th>id</th>\n",
       "      <th>question_list</th>\n",
       "      <th>question_num</th>\n",
       "      <th>question_text</th>\n",
       "      <th>question_theme</th>\n",
       "    </tr>\n",
       "  </thead>\n",
       "  <tbody>\n",
       "    <tr>\n",
       "      <th>0</th>\n",
       "      <td>1</td>\n",
       "      <td>Ia</td>\n",
       "      <td>1</td>\n",
       "      <td>Где и как выбирали невесту?</td>\n",
       "      <td>Выбор невесты</td>\n",
       "    </tr>\n",
       "    <tr>\n",
       "      <th>1</th>\n",
       "      <td>2</td>\n",
       "      <td>Ia</td>\n",
       "      <td>2</td>\n",
       "      <td>Сватовство</td>\n",
       "      <td>Сватовство</td>\n",
       "    </tr>\n",
       "    <tr>\n",
       "      <th>2</th>\n",
       "      <td>8</td>\n",
       "      <td>Ia</td>\n",
       "      <td>3</td>\n",
       "      <td>Рукобитье.</td>\n",
       "      <td>Рукобитье</td>\n",
       "    </tr>\n",
       "    <tr>\n",
       "      <th>3</th>\n",
       "      <td>12</td>\n",
       "      <td>Ia</td>\n",
       "      <td>4</td>\n",
       "      <td>Смотрины</td>\n",
       "      <td>Смотрины</td>\n",
       "    </tr>\n",
       "    <tr>\n",
       "      <th>4</th>\n",
       "      <td>15</td>\n",
       "      <td>Ia</td>\n",
       "      <td>5</td>\n",
       "      <td>Что происходит в доме невесты от смотрин до ве...</td>\n",
       "      <td>Подготовка невесты к свадьбе</td>\n",
       "    </tr>\n",
       "    <tr>\n",
       "      <th>...</th>\n",
       "      <td>...</td>\n",
       "      <td>...</td>\n",
       "      <td>...</td>\n",
       "      <td>...</td>\n",
       "      <td>...</td>\n",
       "    </tr>\n",
       "    <tr>\n",
       "      <th>543</th>\n",
       "      <td>1693</td>\n",
       "      <td>XXVII</td>\n",
       "      <td>19</td>\n",
       "      <td>Иуда</td>\n",
       "      <td>Иуда</td>\n",
       "    </tr>\n",
       "    <tr>\n",
       "      <th>544</th>\n",
       "      <td>1702</td>\n",
       "      <td>XXVII</td>\n",
       "      <td>20</td>\n",
       "      <td>Конец света.</td>\n",
       "      <td>Конец света</td>\n",
       "    </tr>\n",
       "    <tr>\n",
       "      <th>545</th>\n",
       "      <td>1840</td>\n",
       "      <td>XI</td>\n",
       "      <td>0</td>\n",
       "      <td>None</td>\n",
       "      <td>None</td>\n",
       "    </tr>\n",
       "    <tr>\n",
       "      <th>546</th>\n",
       "      <td>1994</td>\n",
       "      <td>XXII</td>\n",
       "      <td>19</td>\n",
       "      <td>None</td>\n",
       "      <td>None</td>\n",
       "    </tr>\n",
       "    <tr>\n",
       "      <th>547</th>\n",
       "      <td>2009</td>\n",
       "      <td>XXIa</td>\n",
       "      <td>19</td>\n",
       "      <td>None</td>\n",
       "      <td>None</td>\n",
       "    </tr>\n",
       "  </tbody>\n",
       "</table>\n",
       "<p>548 rows × 5 columns</p>\n",
       "</div>"
      ],
      "text/plain": [
       "       id question_list  question_num  \\\n",
       "0       1            Ia             1   \n",
       "1       2            Ia             2   \n",
       "2       8            Ia             3   \n",
       "3      12            Ia             4   \n",
       "4      15            Ia             5   \n",
       "..    ...           ...           ...   \n",
       "543  1693         XXVII            19   \n",
       "544  1702         XXVII            20   \n",
       "545  1840            XI             0   \n",
       "546  1994          XXII            19   \n",
       "547  2009          XXIa            19   \n",
       "\n",
       "                                         question_text  \\\n",
       "0                          Где и как выбирали невесту?   \n",
       "1                                           Сватовство   \n",
       "2                                           Рукобитье.   \n",
       "3                                             Смотрины   \n",
       "4    Что происходит в доме невесты от смотрин до ве...   \n",
       "..                                                 ...   \n",
       "543                                               Иуда   \n",
       "544                                       Конец света.   \n",
       "545                                               None   \n",
       "546                                               None   \n",
       "547                                               None   \n",
       "\n",
       "                   question_theme  \n",
       "0                   Выбор невесты  \n",
       "1                      Сватовство  \n",
       "2                       Рукобитье  \n",
       "3                        Смотрины  \n",
       "4    Подготовка невесты к свадьбе  \n",
       "..                            ...  \n",
       "543                          Иуда  \n",
       "544                   Конец света  \n",
       "545                          None  \n",
       "546                          None  \n",
       "547                          None  \n",
       "\n",
       "[548 rows x 5 columns]"
      ]
     },
     "execution_count": 11,
     "metadata": {},
     "output_type": "execute_result"
    }
   ],
   "source": [
    "questions"
   ]
  },
  {
   "cell_type": "code",
   "execution_count": 18,
   "metadata": {},
   "outputs": [
    {
     "data": {
      "text/plain": [
       "1935    3\n",
       "2011    1\n",
       "1796    1\n",
       "1806    1\n",
       "1805    1\n",
       "       ..\n",
       "1896    1\n",
       "1895    1\n",
       "1894    1\n",
       "1893    1\n",
       "1710    1\n",
       "Name: id_x, Length: 210, dtype: int64"
      ]
     },
     "execution_count": 18,
     "metadata": {},
     "output_type": "execute_result"
    }
   ],
   "source": [
    "dop.merge(questions, on=[\"question_list\", \"question_num\"])[\"id_x\"].value_counts()"
   ]
  },
  {
   "cell_type": "code",
   "execution_count": 22,
   "metadata": {},
   "outputs": [],
   "source": [
    "new = dop.merge(questions, on=[\"question_list\", \"question_num\"])\n",
    "new = new[~new[\"id_x\"].isin([1935])]"
   ]
  },
  {
   "cell_type": "code",
   "execution_count": 27,
   "metadata": {},
   "outputs": [],
   "source": [
    "cur.executemany(\"UPDATE questions SET question_text = %s, question_theme = %s WHERE id = %s\",\n",
    "            new[[\"question_text\", \"question_theme\", \"id_x\"]].values.tolist())\n",
    "con.commit()"
   ]
  },
  {
   "cell_type": "code",
   "execution_count": 28,
   "metadata": {},
   "outputs": [],
   "source": [
    "dop = pd.read_sql(\"SELECT id, question_list, question_num FROM questions WHERE question_letter = 'доп' AND question_text IS NULL\", con=con)"
   ]
  },
  {
   "cell_type": "code",
   "execution_count": 30,
   "metadata": {},
   "outputs": [
    {
     "data": {
      "text/plain": [
       "(22, 3)"
      ]
     },
     "execution_count": 30,
     "metadata": {},
     "output_type": "execute_result"
    }
   ],
   "source": [
    "dop.shape"
   ]
  },
  {
   "cell_type": "code",
   "execution_count": 35,
   "metadata": {},
   "outputs": [],
   "source": [
    "questions = pd.read_sql(\"SELECT question_list, question_list_name FROM q_list_name\", con=con)"
   ]
  },
  {
   "cell_type": "code",
   "execution_count": 38,
   "metadata": {},
   "outputs": [],
   "source": [
    "new = dop.merge(questions)"
   ]
  },
  {
   "cell_type": "code",
   "execution_count": 40,
   "metadata": {},
   "outputs": [],
   "source": [
    "cur.executemany(\"UPDATE questions SET question_text = %s, question_theme = %s WHERE id = %s\",\n",
    "            new[[\"question_list_name\", \"question_list_name\", \"id\"]].values.tolist())\n",
    "con.commit()"
   ]
  },
  {
   "cell_type": "markdown",
   "metadata": {},
   "source": [
    "## Старые данные"
   ]
  },
  {
   "cell_type": "code",
   "execution_count": 3,
   "metadata": {},
   "outputs": [
    {
     "data": {
      "text/html": [
       "<div>\n",
       "<style scoped>\n",
       "    .dataframe tbody tr th:only-of-type {\n",
       "        vertical-align: middle;\n",
       "    }\n",
       "\n",
       "    .dataframe tbody tr th {\n",
       "        vertical-align: top;\n",
       "    }\n",
       "\n",
       "    .dataframe thead th {\n",
       "        text-align: right;\n",
       "    }\n",
       "</style>\n",
       "<table border=\"1\" class=\"dataframe\">\n",
       "  <thead>\n",
       "    <tr style=\"text-align: right;\">\n",
       "      <th></th>\n",
       "      <th>текст</th>\n",
       "      <th>аннотация</th>\n",
       "      <th>ключевые слова</th>\n",
       "      <th>термины</th>\n",
       "      <th>программа</th>\n",
       "      <th>вопрос</th>\n",
       "      <th>село</th>\n",
       "      <th>год</th>\n",
       "      <th>информант</th>\n",
       "      <th>информант2</th>\n",
       "      <th>...</th>\n",
       "      <th>информант4</th>\n",
       "      <th>собиратель</th>\n",
       "      <th>собиратель2</th>\n",
       "      <th>собиратель3</th>\n",
       "      <th>собиратель4</th>\n",
       "      <th>номер</th>\n",
       "      <th>zvuk</th>\n",
       "      <th>zvuk2</th>\n",
       "      <th>photo</th>\n",
       "      <th>photo2</th>\n",
       "    </tr>\n",
       "  </thead>\n",
       "  <tbody>\n",
       "    <tr>\n",
       "      <th>0</th>\n",
       "      <td>[Шёл разговор о пьющей женщине из Карпиловки, ...</td>\n",
       "      <td>NaN</td>\n",
       "      <td>Водка, Плата, Питье, Девственность, Женщина, П...</td>\n",
       "      <td>NaN</td>\n",
       "      <td>XXIa</td>\n",
       "      <td>5 б</td>\n",
       "      <td>Брянская обл., Злынковский р-н, Спиридонова Буда</td>\n",
       "      <td>2017</td>\n",
       "      <td>А</td>\n",
       "      <td>Г</td>\n",
       "      <td>...</td>\n",
       "      <td>NaN</td>\n",
       "      <td>МЭГ</td>\n",
       "      <td>НВП</td>\n",
       "      <td>СЕ</td>\n",
       "      <td>ФЕЕ</td>\n",
       "      <td>1</td>\n",
       "      <td>NaN</td>\n",
       "      <td>NaN</td>\n",
       "      <td>NaN</td>\n",
       "      <td>NaN</td>\n",
       "    </tr>\n",
       "    <tr>\n",
       "      <th>1</th>\n",
       "      <td>[Разговор о кусачей собаке:] [Г:] А раз её\\ э\\...</td>\n",
       "      <td>NaN</td>\n",
       "      <td>Первый, Прозвище, Имя, Еврей, Народ, Свой-чужой</td>\n",
       "      <td>NaN</td>\n",
       "      <td>XXIa</td>\n",
       "      <td>5 б</td>\n",
       "      <td>Брянская обл., Злынковский р-н, Спиридонова Буда</td>\n",
       "      <td>2017</td>\n",
       "      <td>А</td>\n",
       "      <td>Г</td>\n",
       "      <td>...</td>\n",
       "      <td>NaN</td>\n",
       "      <td>МЭГ</td>\n",
       "      <td>НВП</td>\n",
       "      <td>СЕ</td>\n",
       "      <td>ФЕЕ</td>\n",
       "      <td>2</td>\n",
       "      <td>NaN</td>\n",
       "      <td>NaN</td>\n",
       "      <td>NaN</td>\n",
       "      <td>NaN</td>\n",
       "    </tr>\n",
       "  </tbody>\n",
       "</table>\n",
       "<p>2 rows × 21 columns</p>\n",
       "</div>"
      ],
      "text/plain": [
       "                                               текст  аннотация  \\\n",
       "0  [Шёл разговор о пьющей женщине из Карпиловки, ...        NaN   \n",
       "1  [Разговор о кусачей собаке:] [Г:] А раз её\\ э\\...        NaN   \n",
       "\n",
       "                                      ключевые слова термины программа вопрос  \\\n",
       "0  Водка, Плата, Питье, Девственность, Женщина, П...     NaN      XXIa    5 б   \n",
       "1    Первый, Прозвище, Имя, Еврей, Народ, Свой-чужой     NaN      XXIa    5 б   \n",
       "\n",
       "                                               село   год информант  \\\n",
       "0  Брянская обл., Злынковский р-н, Спиридонова Буда  2017         А   \n",
       "1  Брянская обл., Злынковский р-н, Спиридонова Буда  2017         А   \n",
       "\n",
       "  информант2  ... информант4 собиратель собиратель2 собиратель3 собиратель4  \\\n",
       "0          Г  ...        NaN        МЭГ         НВП          СЕ         ФЕЕ   \n",
       "1          Г  ...        NaN        МЭГ         НВП          СЕ         ФЕЕ   \n",
       "\n",
       "  номер  zvuk  zvuk2  photo  photo2  \n",
       "0     1   NaN    NaN    NaN     NaN  \n",
       "1     2   NaN    NaN    NaN     NaN  \n",
       "\n",
       "[2 rows x 21 columns]"
      ]
     },
     "execution_count": 3,
     "metadata": {},
     "output_type": "execute_result"
    }
   ],
   "source": [
    "df = pd.read_csv(\"data/done/tblCards.csv\")\n",
    "df.head(2)"
   ]
  },
  {
   "cell_type": "code",
   "execution_count": 127,
   "metadata": {},
   "outputs": [],
   "source": [
    "df = pd.read_sql_query(\"SELECT * FROM informators\", con=con)"
   ]
  },
  {
   "cell_type": "code",
   "execution_count": 4,
   "metadata": {},
   "outputs": [],
   "source": [
    "import numpy as np"
   ]
  },
  {
   "cell_type": "code",
   "execution_count": 128,
   "metadata": {},
   "outputs": [],
   "source": [
    "drop_ids = [450, 452, 457, 455, 458, 461, 463, 464, 462, 460, 454, 433, 465, 466, 467, 447, 446, 448, 449, 451, 453, 456, 436, 458, 459, 443, 465]\n",
    "\n",
    "# 258 Южа, Лукино\n",
    "# 261 Южа, Южа"
   ]
  },
  {
   "cell_type": "code",
   "execution_count": 129,
   "metadata": {},
   "outputs": [],
   "source": [
    "df = df[~df[\"id\"].isin(drop_ids)].astype(\"object\").where(pd.notnull(df),None)\n",
    "cur.executemany(\"INSERT INTO informators2 VALUES (%s,%s,%s,%s,%s,%s,%s,%s,%s,%s,%s,%s,%s,%s,%s)\", df.values.tolist())\n",
    "con.commit()"
   ]
  },
  {
   "cell_type": "code",
   "execution_count": 234,
   "metadata": {},
   "outputs": [
    {
     "data": {
      "text/html": [
       "<div>\n",
       "<style scoped>\n",
       "    .dataframe tbody tr th:only-of-type {\n",
       "        vertical-align: middle;\n",
       "    }\n",
       "\n",
       "    .dataframe tbody tr th {\n",
       "        vertical-align: top;\n",
       "    }\n",
       "\n",
       "    .dataframe thead th {\n",
       "        text-align: right;\n",
       "    }\n",
       "</style>\n",
       "<table border=\"1\" class=\"dataframe\">\n",
       "  <thead>\n",
       "    <tr style=\"text-align: right;\">\n",
       "      <th></th>\n",
       "      <th>id_text</th>\n",
       "      <th>id_informator</th>\n",
       "    </tr>\n",
       "  </thead>\n",
       "  <tbody>\n",
       "    <tr>\n",
       "      <th>30</th>\n",
       "      <td>61</td>\n",
       "      <td>124</td>\n",
       "    </tr>\n",
       "    <tr>\n",
       "      <th>31</th>\n",
       "      <td>61</td>\n",
       "      <td>125</td>\n",
       "    </tr>\n",
       "    <tr>\n",
       "      <th>36</th>\n",
       "      <td>66</td>\n",
       "      <td>125</td>\n",
       "    </tr>\n",
       "    <tr>\n",
       "      <th>37</th>\n",
       "      <td>66</td>\n",
       "      <td>124</td>\n",
       "    </tr>\n",
       "    <tr>\n",
       "      <th>124</th>\n",
       "      <td>141</td>\n",
       "      <td>87</td>\n",
       "    </tr>\n",
       "    <tr>\n",
       "      <th>...</th>\n",
       "      <td>...</td>\n",
       "      <td>...</td>\n",
       "    </tr>\n",
       "    <tr>\n",
       "      <th>10936</th>\n",
       "      <td>7290</td>\n",
       "      <td>463</td>\n",
       "    </tr>\n",
       "    <tr>\n",
       "      <th>10937</th>\n",
       "      <td>7291</td>\n",
       "      <td>463</td>\n",
       "    </tr>\n",
       "    <tr>\n",
       "      <th>10938</th>\n",
       "      <td>7292</td>\n",
       "      <td>463</td>\n",
       "    </tr>\n",
       "    <tr>\n",
       "      <th>10939</th>\n",
       "      <td>7293</td>\n",
       "      <td>463</td>\n",
       "    </tr>\n",
       "    <tr>\n",
       "      <th>10940</th>\n",
       "      <td>7294</td>\n",
       "      <td>463</td>\n",
       "    </tr>\n",
       "  </tbody>\n",
       "</table>\n",
       "<p>2506 rows × 2 columns</p>\n",
       "</div>"
      ],
      "text/plain": [
       "       id_text  id_informator\n",
       "30          61            124\n",
       "31          61            125\n",
       "36          66            125\n",
       "37          66            124\n",
       "124        141             87\n",
       "...        ...            ...\n",
       "10936     7290            463\n",
       "10937     7291            463\n",
       "10938     7292            463\n",
       "10939     7293            463\n",
       "10940     7294            463\n",
       "\n",
       "[2506 rows x 2 columns]"
      ]
     },
     "execution_count": 234,
     "metadata": {},
     "output_type": "execute_result"
    }
   ],
   "source": [
    "df"
   ]
  },
  {
   "cell_type": "code",
   "execution_count": 355,
   "metadata": {},
   "outputs": [
    {
     "data": {
      "text/html": [
       "<div>\n",
       "<style scoped>\n",
       "    .dataframe tbody tr th:only-of-type {\n",
       "        vertical-align: middle;\n",
       "    }\n",
       "\n",
       "    .dataframe tbody tr th {\n",
       "        vertical-align: top;\n",
       "    }\n",
       "\n",
       "    .dataframe thead th {\n",
       "        text-align: right;\n",
       "    }\n",
       "</style>\n",
       "<table border=\"1\" class=\"dataframe\">\n",
       "  <thead>\n",
       "    <tr style=\"text-align: right;\">\n",
       "      <th></th>\n",
       "      <th>текст</th>\n",
       "      <th>аннотация</th>\n",
       "      <th>ключевые слова</th>\n",
       "      <th>термины</th>\n",
       "      <th>программа</th>\n",
       "      <th>вопрос</th>\n",
       "      <th>село</th>\n",
       "      <th>год</th>\n",
       "      <th>информант</th>\n",
       "      <th>информант2</th>\n",
       "      <th>...</th>\n",
       "      <th>информант4</th>\n",
       "      <th>собиратель</th>\n",
       "      <th>собиратель2</th>\n",
       "      <th>собиратель3</th>\n",
       "      <th>собиратель4</th>\n",
       "      <th>номер</th>\n",
       "      <th>zvuk</th>\n",
       "      <th>zvuk2</th>\n",
       "      <th>photo</th>\n",
       "      <th>photo2</th>\n",
       "    </tr>\n",
       "  </thead>\n",
       "  <tbody>\n",
       "    <tr>\n",
       "      <th>0</th>\n",
       "      <td>[Шёл разговор о пьющей женщине из Карпиловки, ...</td>\n",
       "      <td>NaN</td>\n",
       "      <td>Водка, Плата, Питье, Девственность, Женщина, П...</td>\n",
       "      <td>NaN</td>\n",
       "      <td>XXIa</td>\n",
       "      <td>5 б</td>\n",
       "      <td>Брянская обл., Злынковский р-н, Спиридонова Буда</td>\n",
       "      <td>2017</td>\n",
       "      <td>А</td>\n",
       "      <td>Г</td>\n",
       "      <td>...</td>\n",
       "      <td>NaN</td>\n",
       "      <td>МЭГ</td>\n",
       "      <td>НВП</td>\n",
       "      <td>СЕ</td>\n",
       "      <td>ФЕЕ</td>\n",
       "      <td>1</td>\n",
       "      <td>NaN</td>\n",
       "      <td>NaN</td>\n",
       "      <td>NaN</td>\n",
       "      <td>NaN</td>\n",
       "    </tr>\n",
       "    <tr>\n",
       "      <th>1</th>\n",
       "      <td>[Разговор о кусачей собаке:] [Г:] А раз её\\ э\\...</td>\n",
       "      <td>NaN</td>\n",
       "      <td>Первый, Прозвище, Имя, Еврей, Народ, Свой-чужой</td>\n",
       "      <td>NaN</td>\n",
       "      <td>XXIa</td>\n",
       "      <td>5 б</td>\n",
       "      <td>Брянская обл., Злынковский р-н, Спиридонова Буда</td>\n",
       "      <td>2017</td>\n",
       "      <td>А</td>\n",
       "      <td>Г</td>\n",
       "      <td>...</td>\n",
       "      <td>NaN</td>\n",
       "      <td>МЭГ</td>\n",
       "      <td>НВП</td>\n",
       "      <td>СЕ</td>\n",
       "      <td>ФЕЕ</td>\n",
       "      <td>2</td>\n",
       "      <td>NaN</td>\n",
       "      <td>NaN</td>\n",
       "      <td>NaN</td>\n",
       "      <td>NaN</td>\n",
       "    </tr>\n",
       "  </tbody>\n",
       "</table>\n",
       "<p>2 rows × 21 columns</p>\n",
       "</div>"
      ],
      "text/plain": [
       "                                               текст  аннотация  \\\n",
       "0  [Шёл разговор о пьющей женщине из Карпиловки, ...        NaN   \n",
       "1  [Разговор о кусачей собаке:] [Г:] А раз её\\ э\\...        NaN   \n",
       "\n",
       "                                      ключевые слова термины программа вопрос  \\\n",
       "0  Водка, Плата, Питье, Девственность, Женщина, П...     NaN      XXIa    5 б   \n",
       "1    Первый, Прозвище, Имя, Еврей, Народ, Свой-чужой     NaN      XXIa    5 б   \n",
       "\n",
       "                                               село   год информант  \\\n",
       "0  Брянская обл., Злынковский р-н, Спиридонова Буда  2017         А   \n",
       "1  Брянская обл., Злынковский р-н, Спиридонова Буда  2017         А   \n",
       "\n",
       "  информант2  ... информант4 собиратель собиратель2 собиратель3 собиратель4  \\\n",
       "0          Г  ...        NaN        МЭГ         НВП          СЕ         ФЕЕ   \n",
       "1          Г  ...        NaN        МЭГ         НВП          СЕ         ФЕЕ   \n",
       "\n",
       "  номер  zvuk  zvuk2  photo  photo2  \n",
       "0     1   NaN    NaN    NaN     NaN  \n",
       "1     2   NaN    NaN    NaN     NaN  \n",
       "\n",
       "[2 rows x 21 columns]"
      ]
     },
     "execution_count": 355,
     "metadata": {},
     "output_type": "execute_result"
    }
   ],
   "source": [
    "df = pd.read_csv(\"data/done/tblCards.csv\")\n",
    "df.head(2)"
   ]
  },
  {
   "cell_type": "code",
   "execution_count": 341,
   "metadata": {},
   "outputs": [],
   "source": [
    "geo_map = {\n",
    "    \"Глубочица\": \"Себеж\",\n",
    "    \"Спиридонова Буда\": \"Рогов\",\n",
    "    \"Рогов\": \"Карпиловка\",\n",
    "    \"Себеж\": \"Псков\",\n",
    "}\n",
    "\n",
    "name_map = {\n",
    "    \"C\": \"С\",\n",
    "    \"ЧВФ\": \"ЧФВ\",\n",
    "    \"ЮС\": \"СЮ\",\n",
    "    \"ВЛ\": \"ЛВ\"\n",
    "}"
   ]
  },
  {
   "cell_type": "code",
   "execution_count": 342,
   "metadata": {},
   "outputs": [],
   "source": [
    "from nltk.tokenize import wordpunct_tokenize"
   ]
  },
  {
   "cell_type": "code",
   "execution_count": 343,
   "metadata": {},
   "outputs": [],
   "source": [
    "def clean(text):\n",
    "    text = wordpunct_tokenize(text)\n",
    "    return \"\".join(i for i in text if i.isalpha()).lower()"
   ]
  },
  {
   "cell_type": "code",
   "execution_count": 344,
   "metadata": {},
   "outputs": [
    {
     "name": "stdout",
     "output_type": "stream",
     "text": [
      "2332 3194;2333 3195;2334 3196;2335 3197;2336 3198;2337 3199;2338 3200;2339 3201;2209 3639;2210 3640;2211 3641;2212 3642;2213 3643;2214 3644;2215 3645;2216 3646;3988 3989;4902 4903;5265 5266;6927 6928;6944 6945;4484 7082;7199 7200;7240 7241;"
     ]
    }
   ],
   "source": [
    "K = 300\n",
    "cur.execute(\"SELECT raw_text, year, id FROM texts\")\n",
    "text_map = dict()\n",
    "\n",
    "text_seen = set()\n",
    "\n",
    "for i, year, j in cur.fetchall():\n",
    "    if i:\n",
    "        tclean = clean(i)[:K]\n",
    "        if (tclean, year) not in text_seen:\n",
    "            text_map[(tclean, year)] = j\n",
    "            text_seen.add((tclean, year))\n",
    "        else:\n",
    "            print(text_map[(tclean, year)], j, end=\";\")\n",
    "            del text_map[(tclean, year)]"
   ]
  },
  {
   "cell_type": "code",
   "execution_count": 345,
   "metadata": {},
   "outputs": [
    {
     "name": "stdout",
     "output_type": "stream",
     "text": [
      "194 КВТ Спиридонова Буда ['КВТ']\n",
      "208 ХВН Спиридонова Буда ['АВС', 'ХВН', 'БВ', 'АС']\n",
      "4547 ГРВ Эпимахово ['ГРВ', 'ГАВ']\n",
      "590  Азаричи ['ЛЕМ', ' ???']\n",
      "1600 СРС Азаричи ['СРС', 'ЛПС']\n",
      "2026 ЛС Малые Щербиничи ['ЛС']\n",
      "======== 2213 [Рассказывает, что у отца была мельница.] [А мельница осталась?] Не, нема\\, во\\т, э\\то, где\\ шко\\ла \n",
      "======== 2214 [Песни из тетрадки НФЛ, которая она слышала по радио и исполняла в клубе: «Поговори со мною, мама», \n",
      "======== 2215 [Напевает по записям некоторые песни, которые когда-то пели в клубе.] [А у вас есть записи местных п\n",
      "======== 2216 [Красный угол в доме информантки имеет небольшие шторки, на одной из икон есть белая пелена из круже\n",
      "======== 2217 [Говорит, что держит огород в 25 соток, раньше держала коров, теперь хочет завести уток.] Дак что ты\n",
      "======== 2218 [Соб: Нас интересует что-нибудь про народную медицину, как кто-нибудь к знахарю ходил…] А, к зна\\хар\n",
      "======== 2219 [До этого говорили о том, что умели заговарить грыжу.] [А помните, как заговаривали, кто?] Ну, у ког\n",
      "======== 2220 Летят утки, летят утки\n",
      "Ще два гуся, оу_... (нема\\-та го\\лосу)\n",
      "О, кого люблю, кого люблю,\n",
      "На-на-на\n",
      "======== 2339 [До этого рассказывала про бабу Надю, которая значет много старинных песен.] Я то\\же вот когда\\ прие\n",
      "======== 2340 Зде\\сь, я заме\\тила, взя\\ть, вот, мы с Хаба\\ровска, там нет тако\\го предпочте\\ния вот к це\\рквям, та\n",
      "======== 2341 [Сама вспоминает, что собирателю надо рассказывать про обычаи, обряды.] Пото\\м… обря\\ды. Меня\\ одно\\\n",
      "======== 2342 [До этого рассказывала про то, как празднуют свадьбы.] По\\том Ива\\н Купа\\ла у на\\с вот зде\\сь прово\\\n",
      "======== 2343 [До этого рассказывала, что в Рогове придерживаются старых праздников. – См. XXIIa-15 доп.] Вот, все\n",
      "======== 2344 [ЛО сама начинает:] Ну, вот ещё\\ что тут из фолькло\\ра? [Например, зимой какие праздники тут праздну\n",
      "======== 2345 [М:] Тут у нас была\\ це\\рковь. Её в войну\\ разбомби\\ли и всё\\. [ЛО:] Тут была це\\рковь. [М:] А краси\n",
      "======== 2346 [До этого рассказывала, что на Масленицу украшали чучело, поджигали его, водили хороводы. – См. VIa-\n",
      "======== 2484 [После вопроса о бесчинствах на зимние или летние святки рассказывает о дне Ивана Купала в Латвии и \n",
      "2645 КГМ Рогов ['КГМ', 'ЦАП']\n",
      "======== 2912 [Праздник Купало у вас как-то отмечался?] Обожди\\. Ива\\н Купа\\ла? [Соб.: Да.] А не. Он у нас незаме\\\n",
      "======== 3023 [Ранее информант уже упоминала, что у нее в доме находится икона «свеча» – см. XXIIa-12 Соб.: ВДК, Ф\n",
      "======== 3152 [Не знаете про обереги?] Про обере\\ги? Я, наприме\\р, что\\-то сама\\ собира\\ла про обере\\ги. Ва… в обе\n",
      "======== 3234 [Ивану Купала раньше не праздновали?] Ива\\на Купа\\лу? [Соб.: Да.] Зна\\ете, ра\\ньше пра\\здновали, сей\n",
      "======== 3239 [До этого рассказывала про бабу Надю, которая значет много старинных песен.] Я то\\же вот когда\\ прие\n",
      "======== 3240 Зде\\сь, я заме\\тила, взя\\ть, вот, мы с Хаба\\ровска, там нет тако\\го предпочте\\ния вот к це\\рквям, та\n",
      "======== 3241 [Сама вспоминает, что собирателю надо рассказывать про обычаи, обряды.] Пото\\м… обря\\ды. Меня\\ одно\\\n",
      "======== 3242 [До этого рассказывала про то, как празднуют свадьбы.] По\\том Ива\\н Купа\\ла у на\\с вот зде\\сь прово\\\n",
      "======== 3243 [До этого рассказывала, что в Рогове придерживаются старых праздников. – См. XXIIa-15 доп.] Вот, все\n",
      "======== 3244 [ЛО сама начинает:] Ну, вот ещё\\ что тут из фолькло\\ра? [Например, зимой какие праздники тут праздну\n",
      "======== 3245 [М:] Тут у нас была\\ це\\рковь. Её в войну\\ разбомби\\ли и всё\\. [ЛО:] Тут была це\\рковь. [М:] А краси\n",
      "======== 3246 [До этого рассказывала, что на Масленицу украшали чучело, поджигали его, водили хороводы. – См. VIa-\n",
      "3312 МДК Рогов ['МДК', 'НФЛ']\n",
      "======== 3406 [МСИ родилась и до 8 лет прожила в с. Каменский Хутор Климовского р-на. Как у вас в селе отмечали Па\n",
      "======== 3407 [Бабушка МСИ готовила куличи в ночь перед Пасхой и нельзя было, чтобы кто-то ей мешал. Есть такая пр\n",
      "======== 3408 [В Климовском районе невесты после свадьбы всегда надевали платочки, это было ещё в девяностые годы.\n",
      "======== 3684 [Рассказывает, что у отца была мельница.] [А мельница осталась?] Не, нема\\, во\\т, э\\то, где\\ шко\\ла \n",
      "======== 3685 [Песни из тетрадки НФЛ, которая она слышала по радио и исполняла в клубе: «Поговори со мною, мама», \n",
      "======== 3686 [Напевает по записям некоторые песни, которые когда-то пели в клубе.] [А у вас есть записи местных п\n",
      "======== 3687 [Красный угол в доме информантки имеет небольшие шторки, на одной из икон есть белая пелена из круже\n",
      "======== 3688 [Говорит, что держит огород в 25 соток, раньше держала коров, теперь хочет завести уток.] Дак что ты\n",
      "======== 3689 [Соб: Нас интересует что-нибудь про народную медицину, как кто-нибудь к знахарю ходил…] А, к зна\\хар\n",
      "======== 3690 [До этого говорили о том, что умели заговарить грыжу.] [А помните, как заговаривали, кто?] Ну, у ког\n",
      "======== 3691 Летя\\т у\\тки, летя\\т у\\тки\n",
      "Ще\\ два гу\\ся, оу_... (нема\\-та го\\лосу)\n",
      "О, кого\\ люблю\\, кого\\ люблю\\,\n",
      "======== 3748 [Что делали на Купалу?] Ива\\н Купа\\ла… Ну, ня зна\\ю. Э\\то что гово\\ря… не на Ива\\на Купа\\лу купа\\тьс\n",
      "======== 3867 [Информантка рассказывала о свекрови, которая разбиралась в травах.] [Не помните, когда она травки с\n",
      "======== 4036 [ТВМ хранит ксерокопию тетради с заговорами, которую ей отдала крёстная. Сфотографировать и переписа\n",
      "======== 4037 [ТВМ хранит ксерокопию тетради с заговорами, которую ей отдала крёстная. Сфотографировать и переписа\n",
      "======== 4138 [Соб.: Мы увидели, у вас подкова на двери висит (см. фото AAN-Sebezh).] А_.... Подко\\ва-то. Ну_, э\\т\n",
      "======== 4230 [Ранее БС говорил, что в Себеже ничего не происходило на Ивана Купалу.] Ра\\зве э\\то, что, вот, на Ро\n",
      "======== 4523 [Может быть, слышали что-то про подземные ходы?] Чё\\-то я тако\\е пря\\мо и не зна\\ю. [Не знаете, да?]\n",
      "======== 4582 [Какие здесь праздники раньше праздновали летом?] Тут у нас бы\\ло… И Ма\\сленицы бы\\ли – все. И Ива\\н\n",
      "======== 4658 [Соб.: Иногда рассказывают, что аисты всё время вдвоём, и если один погибает, то другой тоже…] [КОТО\n",
      "======== 4664 [Соб.: Здесь, говорят, какой-то Иван справляли. Вы не помните такого?] Цветно\\й Ива\\н. [А, Цветной И\n",
      "5030 ПВА Бондари ['ПВА', 'ПВП']\n"
     ]
    }
   ],
   "source": [
    "result = []\n",
    "\n",
    "for i in range(df.shape[0]):\n",
    "    row = df.iloc[i]\n",
    "    text_id = (clean(row[\"текст\"])[:K], row[\"год\"])\n",
    "    if text_id not in text_map:\n",
    "        print(\"========\", row[\"номер\"], row[\"текст\"][:100])\n",
    "        continue\n",
    "    selo = row[\"село\"].split(\",\")[-1].strip()\n",
    "    names = []\n",
    "    for name in [\"информант\", \"информант2\", \"информант3\", \"информант4\"]:\n",
    "        if type(row[name]) == str:\n",
    "            if \",\" in row[name]:\n",
    "                names.extend(row[name].split(\",\"))\n",
    "            elif row[name].strip(\"???\"):\n",
    "                names.append(row[name])\n",
    "#     print(\"||\", row[\"номер\"], names, end=\"\\t\")\n",
    "    for name in names:\n",
    "        name = name.strip(\"?\").strip()\n",
    "        if name in name_map:\n",
    "            name = name_map[name]\n",
    "        if name not in counter:\n",
    "            print(row[\"номер\"], name, selo, names)\n",
    "            continue\n",
    "        if counter[name] == 1:\n",
    "            infor = code_village[name]\n",
    "        elif selo in code_village[name]:\n",
    "            infor = code_village[name][selo]\n",
    "        elif geo_map[selo] in code_village[name]:\n",
    "            infor = code_village[name][geo_map[selo]]    \n",
    "        else:\n",
    "            print(row[\"номер\"], name, selo, code_village[name])\n",
    "            continue\n",
    "#         print(text_map[text_id], infor, end=\"--\")\n",
    "        result.append((text_map[text_id], infor))\n",
    "#     print()"
   ]
  },
  {
   "cell_type": "code",
   "execution_count": 347,
   "metadata": {},
   "outputs": [],
   "source": [
    "cur.executemany(\"INSERT INTO t_i (id_text, id_informator) VALUES (%s, %s)\", result)\n",
    "con.commit()"
   ]
  },
  {
   "cell_type": "code",
   "execution_count": 349,
   "metadata": {},
   "outputs": [
    {
     "data": {
      "text/html": [
       "<div>\n",
       "<style scoped>\n",
       "    .dataframe tbody tr th:only-of-type {\n",
       "        vertical-align: middle;\n",
       "    }\n",
       "\n",
       "    .dataframe tbody tr th {\n",
       "        vertical-align: top;\n",
       "    }\n",
       "\n",
       "    .dataframe thead th {\n",
       "        text-align: right;\n",
       "    }\n",
       "</style>\n",
       "<table border=\"1\" class=\"dataframe\">\n",
       "  <thead>\n",
       "    <tr style=\"text-align: right;\">\n",
       "      <th></th>\n",
       "      <th>id_text</th>\n",
       "      <th>id_informator</th>\n",
       "    </tr>\n",
       "  </thead>\n",
       "  <tbody>\n",
       "    <tr>\n",
       "      <th>0</th>\n",
       "      <td>4090</td>\n",
       "      <td>287</td>\n",
       "    </tr>\n",
       "    <tr>\n",
       "      <th>1</th>\n",
       "      <td>4090</td>\n",
       "      <td>288</td>\n",
       "    </tr>\n",
       "    <tr>\n",
       "      <th>2</th>\n",
       "      <td>4090</td>\n",
       "      <td>289</td>\n",
       "    </tr>\n",
       "    <tr>\n",
       "      <th>3</th>\n",
       "      <td>4091</td>\n",
       "      <td>287</td>\n",
       "    </tr>\n",
       "    <tr>\n",
       "      <th>4</th>\n",
       "      <td>4091</td>\n",
       "      <td>288</td>\n",
       "    </tr>\n",
       "    <tr>\n",
       "      <th>...</th>\n",
       "      <td>...</td>\n",
       "      <td>...</td>\n",
       "    </tr>\n",
       "    <tr>\n",
       "      <th>2387</th>\n",
       "      <td>7290</td>\n",
       "      <td>463</td>\n",
       "    </tr>\n",
       "    <tr>\n",
       "      <th>2388</th>\n",
       "      <td>7291</td>\n",
       "      <td>463</td>\n",
       "    </tr>\n",
       "    <tr>\n",
       "      <th>2389</th>\n",
       "      <td>7292</td>\n",
       "      <td>463</td>\n",
       "    </tr>\n",
       "    <tr>\n",
       "      <th>2390</th>\n",
       "      <td>7293</td>\n",
       "      <td>463</td>\n",
       "    </tr>\n",
       "    <tr>\n",
       "      <th>2391</th>\n",
       "      <td>7294</td>\n",
       "      <td>463</td>\n",
       "    </tr>\n",
       "  </tbody>\n",
       "</table>\n",
       "<p>2392 rows × 2 columns</p>\n",
       "</div>"
      ],
      "text/plain": [
       "      id_text  id_informator\n",
       "0        4090            287\n",
       "1        4090            288\n",
       "2        4090            289\n",
       "3        4091            287\n",
       "4        4091            288\n",
       "...       ...            ...\n",
       "2387     7290            463\n",
       "2388     7291            463\n",
       "2389     7292            463\n",
       "2390     7293            463\n",
       "2391     7294            463\n",
       "\n",
       "[2392 rows x 2 columns]"
      ]
     },
     "execution_count": 349,
     "metadata": {},
     "output_type": "execute_result"
    }
   ],
   "source": [
    "replace_inf = {\n",
    "    433: 258,\n",
    "    436: 261,\n",
    "    443: 282,\n",
    "    446: 424,\n",
    "    447: 425,\n",
    "    448: 426,\n",
    "    449: 427,\n",
    "    450: 428,\n",
    "    451: 429,\n",
    "    452: 430,\n",
    "    453: 431,\n",
    "    454: 432,\n",
    "    455: 258,\n",
    "    456: 434,\n",
    "    457: 435,\n",
    "    458: 261,\n",
    "    459: 437,\n",
    "    460: 438,\n",
    "    461: 439,\n",
    "    462: 440,\n",
    "    463: 441,\n",
    "    464: 442,\n",
    "    465: 282,\n",
    "    466: 444,\n",
    "    467: 445\n",
    "}\n",
    "\n",
    "cur.execute(\"SELECT id_text FROM t_i\")\n",
    "seen = {i[0] for i in cur.fetchall()}\n",
    "\n",
    "df = pd.read_sql_query(\"SELECT id_text, id_informator FROM t_i_archived JOIN texts ON id_text = texts.id WHERE leader = 'ЮМК'\", con=con)\n",
    "df = df[~df[\"id_text\"].isin(seen)]\n",
    "\n",
    "df"
   ]
  },
  {
   "cell_type": "code",
   "execution_count": 350,
   "metadata": {},
   "outputs": [],
   "source": [
    "df['id_informator'] = df['id_informator'].apply(lambda x: replace_inf.get(x, x))"
   ]
  },
  {
   "cell_type": "code",
   "execution_count": 351,
   "metadata": {},
   "outputs": [],
   "source": [
    "cur.executemany(\"INSERT INTO t_i (id_text, id_informator) VALUES (%s, %s)\", df.values.tolist())\n",
    "con.commit()"
   ]
  },
  {
   "cell_type": "code",
   "execution_count": 362,
   "metadata": {},
   "outputs": [
    {
     "name": "stdout",
     "output_type": "stream",
     "text": [
      "2332 3194;2333 3195;2334 3196;2335 3197;2336 3198;2337 3199;2338 3200;2339 3201;2209 3639;2210 3640;2211 3641;2212 3642;2213 3643;2214 3644;2215 3645;2216 3646;3988 3989;"
     ]
    }
   ],
   "source": [
    "K = 300\n",
    "cur.execute(\"SELECT raw_text, year, id FROM texts WHERE leader = 'АБМ'\")\n",
    "text_map = dict()\n",
    "\n",
    "text_seen = set()\n",
    "\n",
    "for i, year, j in cur.fetchall():\n",
    "    if i:\n",
    "        tclean = clean(i)[:K]\n",
    "        l = len(clean(i))\n",
    "        if (tclean, year) not in text_seen:\n",
    "            text_map[(tclean, year)] = (j, l)\n",
    "            text_seen.add((tclean, year))\n",
    "        else:\n",
    "            print(text_map[(tclean, year)][0], j, end=\";\")\n",
    "            del text_map[(tclean, year)]"
   ]
  },
  {
   "cell_type": "code",
   "execution_count": 367,
   "metadata": {},
   "outputs": [],
   "source": [
    "result = []\n",
    "\n",
    "for i in range(df.shape[0]):\n",
    "    row = df.iloc[i]\n",
    "    text_id = (clean(row[\"текст\"])[:K], row[\"год\"])\n",
    "    text_len = len(clean(row[\"текст\"]))\n",
    "    if text_id not in text_map:\n",
    "#         print(\"========\", row[\"номер\"], row[\"текст\"][:100])\n",
    "        continue\n",
    "    else:\n",
    "        result.append(tuple([*text_map[text_id], text_len]))"
   ]
  },
  {
   "cell_type": "code",
   "execution_count": 368,
   "metadata": {},
   "outputs": [],
   "source": [
    "result = [tuple([*row, abs(row[1] - row[2])]) for row in result if abs(row[1] - row[2]) > 0]\n",
    "result = sorted(result, key=lambda x: x[-1], reverse=True)\n",
    "result = [i[0] for i in result]"
   ]
  },
  {
   "cell_type": "code",
   "execution_count": 371,
   "metadata": {},
   "outputs": [
    {
     "data": {
      "text/plain": [
       "'3145,6233,2217,2402,6767,6232,6019,2825,5459,6125,2628,1353,2408,6693,2269,6474,850,2822,1358,837,458,848,6853,6662,5878,2222,3428,459,3068,471,3673,6314,6234,303,6030,963,5752,2781,5709,1684,6168,1950,3599,5605,1914,150,1363,5460,1819,2611,5977,3600,1729,1060,467,5799,6017,6562,147,5788,3874,922,6066,2218,3157,1155,2604,1299'"
      ]
     },
     "execution_count": 371,
     "metadata": {},
     "output_type": "execute_result"
    }
   ],
   "source": [
    "\",\".join([str(i) for i in result])"
   ]
  },
  {
   "cell_type": "markdown",
   "metadata": {},
   "source": [
    "### собиратели"
   ]
  },
  {
   "cell_type": "code",
   "execution_count": 5,
   "metadata": {},
   "outputs": [],
   "source": [
    "import numpy as np\n",
    "from nltk.tokenize import wordpunct_tokenize"
   ]
  },
  {
   "cell_type": "code",
   "execution_count": 6,
   "metadata": {},
   "outputs": [
    {
     "data": {
      "text/html": [
       "<div>\n",
       "<style scoped>\n",
       "    .dataframe tbody tr th:only-of-type {\n",
       "        vertical-align: middle;\n",
       "    }\n",
       "\n",
       "    .dataframe tbody tr th {\n",
       "        vertical-align: top;\n",
       "    }\n",
       "\n",
       "    .dataframe thead th {\n",
       "        text-align: right;\n",
       "    }\n",
       "</style>\n",
       "<table border=\"1\" class=\"dataframe\">\n",
       "  <thead>\n",
       "    <tr style=\"text-align: right;\">\n",
       "      <th></th>\n",
       "      <th>текст</th>\n",
       "      <th>аннотация</th>\n",
       "      <th>ключевые слова</th>\n",
       "      <th>термины</th>\n",
       "      <th>программа</th>\n",
       "      <th>вопрос</th>\n",
       "      <th>село</th>\n",
       "      <th>год</th>\n",
       "      <th>информант</th>\n",
       "      <th>информант2</th>\n",
       "      <th>...</th>\n",
       "      <th>информант4</th>\n",
       "      <th>собиратель</th>\n",
       "      <th>собиратель2</th>\n",
       "      <th>собиратель3</th>\n",
       "      <th>собиратель4</th>\n",
       "      <th>номер</th>\n",
       "      <th>zvuk</th>\n",
       "      <th>zvuk2</th>\n",
       "      <th>photo</th>\n",
       "      <th>photo2</th>\n",
       "    </tr>\n",
       "  </thead>\n",
       "  <tbody>\n",
       "    <tr>\n",
       "      <th>0</th>\n",
       "      <td>[Шёл разговор о пьющей женщине из Карпиловки, ...</td>\n",
       "      <td>NaN</td>\n",
       "      <td>Водка, Плата, Питье, Девственность, Женщина, П...</td>\n",
       "      <td>NaN</td>\n",
       "      <td>XXIa</td>\n",
       "      <td>5 б</td>\n",
       "      <td>Брянская обл., Злынковский р-н, Спиридонова Буда</td>\n",
       "      <td>2017</td>\n",
       "      <td>А</td>\n",
       "      <td>Г</td>\n",
       "      <td>...</td>\n",
       "      <td>NaN</td>\n",
       "      <td>МЭГ</td>\n",
       "      <td>НВП</td>\n",
       "      <td>СЕ</td>\n",
       "      <td>ФЕЕ</td>\n",
       "      <td>1</td>\n",
       "      <td>NaN</td>\n",
       "      <td>NaN</td>\n",
       "      <td>NaN</td>\n",
       "      <td>NaN</td>\n",
       "    </tr>\n",
       "    <tr>\n",
       "      <th>1</th>\n",
       "      <td>[Разговор о кусачей собаке:] [Г:] А раз её\\ э\\...</td>\n",
       "      <td>NaN</td>\n",
       "      <td>Первый, Прозвище, Имя, Еврей, Народ, Свой-чужой</td>\n",
       "      <td>NaN</td>\n",
       "      <td>XXIa</td>\n",
       "      <td>5 б</td>\n",
       "      <td>Брянская обл., Злынковский р-н, Спиридонова Буда</td>\n",
       "      <td>2017</td>\n",
       "      <td>А</td>\n",
       "      <td>Г</td>\n",
       "      <td>...</td>\n",
       "      <td>NaN</td>\n",
       "      <td>МЭГ</td>\n",
       "      <td>НВП</td>\n",
       "      <td>СЕ</td>\n",
       "      <td>ФЕЕ</td>\n",
       "      <td>2</td>\n",
       "      <td>NaN</td>\n",
       "      <td>NaN</td>\n",
       "      <td>NaN</td>\n",
       "      <td>NaN</td>\n",
       "    </tr>\n",
       "  </tbody>\n",
       "</table>\n",
       "<p>2 rows × 21 columns</p>\n",
       "</div>"
      ],
      "text/plain": [
       "                                               текст  аннотация  \\\n",
       "0  [Шёл разговор о пьющей женщине из Карпиловки, ...        NaN   \n",
       "1  [Разговор о кусачей собаке:] [Г:] А раз её\\ э\\...        NaN   \n",
       "\n",
       "                                      ключевые слова термины программа вопрос  \\\n",
       "0  Водка, Плата, Питье, Девственность, Женщина, П...     NaN      XXIa    5 б   \n",
       "1    Первый, Прозвище, Имя, Еврей, Народ, Свой-чужой     NaN      XXIa    5 б   \n",
       "\n",
       "                                               село   год информант  \\\n",
       "0  Брянская обл., Злынковский р-н, Спиридонова Буда  2017         А   \n",
       "1  Брянская обл., Злынковский р-н, Спиридонова Буда  2017         А   \n",
       "\n",
       "  информант2  ... информант4 собиратель собиратель2 собиратель3 собиратель4  \\\n",
       "0          Г  ...        NaN        МЭГ         НВП          СЕ         ФЕЕ   \n",
       "1          Г  ...        NaN        МЭГ         НВП          СЕ         ФЕЕ   \n",
       "\n",
       "  номер  zvuk  zvuk2  photo  photo2  \n",
       "0     1   NaN    NaN    NaN     NaN  \n",
       "1     2   NaN    NaN    NaN     NaN  \n",
       "\n",
       "[2 rows x 21 columns]"
      ]
     },
     "execution_count": 6,
     "metadata": {},
     "output_type": "execute_result"
    }
   ],
   "source": [
    "df = pd.read_csv(\"data/done/tblCards.csv\")\n",
    "df.head(2)"
   ]
  },
  {
   "cell_type": "code",
   "execution_count": 7,
   "metadata": {},
   "outputs": [],
   "source": [
    "def clean(text):\n",
    "    text = wordpunct_tokenize(text)\n",
    "    return \"\".join(i for i in text if i.isalpha()).lower()"
   ]
  },
  {
   "cell_type": "code",
   "execution_count": 14,
   "metadata": {},
   "outputs": [
    {
     "name": "stdout",
     "output_type": "stream",
     "text": [
      "2332 3194;2333 3195;2334 3196;2335 3197;2336 3198;2337 3199;2338 3200;2339 3201;2209 3639;2210 3640;2211 3641;2212 3642;2213 3643;2214 3644;2215 3645;2216 3646;3988 3989;4902 4903;5265 5266;6927 6928;6944 6945;4484 7082;7199 7200;7240 7241;"
     ]
    }
   ],
   "source": [
    "K = 300\n",
    "cur.execute(\"SELECT raw_text, year, id FROM texts\")\n",
    "text_map = dict()\n",
    "\n",
    "text_seen = set()\n",
    "\n",
    "for i, year, j in cur.fetchall():\n",
    "    if i:\n",
    "        tclean = clean(i)[:K]\n",
    "        if (tclean, year) not in text_seen:\n",
    "            text_map[(tclean, year)] = j\n",
    "            text_seen.add((tclean, year))\n",
    "        else:\n",
    "            print(text_map[(tclean, year)], j, end=\";\")\n",
    "            del text_map[(tclean, year)]"
   ]
  },
  {
   "cell_type": "code",
   "execution_count": 14,
   "metadata": {},
   "outputs": [
    {
     "data": {
      "text/plain": [
       "Index(['текст', 'аннотация', 'ключевые слова', 'термины', 'программа',\n",
       "       'вопрос', 'село', 'год', 'информант', 'информант2', 'информант3',\n",
       "       'информант4', 'собиратель', 'собиратель2', 'собиратель3', 'собиратель4',\n",
       "       'номер', 'zvuk', 'zvuk2', 'photo', 'photo2'],\n",
       "      dtype='object')"
      ]
     },
     "execution_count": 14,
     "metadata": {},
     "output_type": "execute_result"
    }
   ],
   "source": [
    "df.columns"
   ]
  },
  {
   "cell_type": "code",
   "execution_count": 15,
   "metadata": {},
   "outputs": [],
   "source": [
    "collectors_dict = dict(pd.read_sql_query(\"SELECT code, id FROM collectors\", con=con).values)"
   ]
  },
  {
   "cell_type": "code",
   "execution_count": 23,
   "metadata": {},
   "outputs": [],
   "source": [
    "# sorted(collectors_dict.items())"
   ]
  },
  {
   "cell_type": "code",
   "execution_count": 16,
   "metadata": {},
   "outputs": [],
   "source": [
    "name_map = {\n",
    "    35: 58\n",
    "}"
   ]
  },
  {
   "cell_type": "code",
   "execution_count": 10,
   "metadata": {},
   "outputs": [],
   "source": [
    "# ЛКВ\n",
    "# МВА\n",
    "# ИАВ"
   ]
  },
  {
   "cell_type": "code",
   "execution_count": 17,
   "metadata": {},
   "outputs": [],
   "source": [
    "result = []\n",
    "\n",
    "for i in range(df.shape[0]):\n",
    "    row = df.iloc[i]\n",
    "    text_id = (clean(row[\"текст\"])[:K], row[\"год\"])\n",
    "    if text_id not in text_map:\n",
    "#         print(\"========\", row[\"номер\"], row[\"текст\"][:100])\n",
    "        continue\n",
    "    selo = row[\"село\"].split(\",\")[-1].strip()\n",
    "    names = []\n",
    "    for name in [\"собиратель\", \"собиратель2\", \"собиратель3\", \"собиратель4\"]:\n",
    "        if type(row[name]) == str:\n",
    "            if \",\" in row[name]:\n",
    "                names.extend(row[name].split(\",\"))\n",
    "            elif row[name].strip(\"???\"):\n",
    "                names.append(row[name])\n",
    "    if set([n for n in names if n not in collectors_dict]):\n",
    "        print(\"||\", row[\"номер\"], set([n for n in names if n not in collectors_dict]))\n",
    "    for n in names:\n",
    "        result.append((text_map[text_id], collectors_dict[n]))"
   ]
  },
  {
   "cell_type": "code",
   "execution_count": 19,
   "metadata": {},
   "outputs": [],
   "source": [
    "cur.executemany(\"INSERT INTO t_c (id_text, id_collector) VALUES (%s, %s)\", result)\n",
    "con.commit()"
   ]
  },
  {
   "cell_type": "code",
   "execution_count": 22,
   "metadata": {},
   "outputs": [],
   "source": [
    "cur.execute(\"SELECT id_text, id_collector FROM t_c_archived WHERE id_text IN (SELECT id FROM texts WHERE leader = 'ЮМК')\")\n",
    "\n",
    "data = cur.fetchall()"
   ]
  },
  {
   "cell_type": "code",
   "execution_count": 24,
   "metadata": {},
   "outputs": [],
   "source": [
    "cur.executemany(\"INSERT INTO t_c (id_text, id_collector) VALUES (%s, %s)\", data)\n",
    "con.commit()"
   ]
  },
  {
   "cell_type": "code",
   "execution_count": 25,
   "metadata": {},
   "outputs": [],
   "source": [
    "no_text = []\n",
    "\n",
    "for i in range(df.shape[0]):\n",
    "    row = df.iloc[i]\n",
    "    text_id = (clean(row[\"текст\"])[:K], row[\"год\"])\n",
    "    if text_id not in text_map:\n",
    "        no_text.append(row[\"номер\"])"
   ]
  },
  {
   "cell_type": "code",
   "execution_count": 33,
   "metadata": {},
   "outputs": [],
   "source": [
    "# no_text"
   ]
  },
  {
   "cell_type": "code",
   "execution_count": 27,
   "metadata": {},
   "outputs": [],
   "source": [
    "df2 = df[df[\"номер\"].isin(no_text)]"
   ]
  },
  {
   "cell_type": "code",
   "execution_count": 39,
   "metadata": {},
   "outputs": [],
   "source": [
    "# df2.style.set_properties(subset=['текст'], **{'width': '300px'})"
   ]
  },
  {
   "cell_type": "code",
   "execution_count": 45,
   "metadata": {
    "scrolled": false
   },
   "outputs": [],
   "source": [
    "# df2[[\"номер\", \"текст\"]].style.set_properties(subset=['текст'], **{'width': '400px'})"
   ]
  },
  {
   "cell_type": "code",
   "execution_count": 47,
   "metadata": {},
   "outputs": [],
   "source": [
    "mapping = {2213:2209, 2214:2210, 2215:2211, 2216:2212, 2217:2213, 2218:2214, 2219:2215, 2220:2216, 2339:2332, 2340:2333, 2341:2334, 2342:2335, 2343:2343, 2344:2337, 2345:2338, 2346:2339, 2484:2475, 2912:2874, 3023:2978, 3152:3107, 3234:2189, 3239:3194, 3240:3195, 3241:3196, 3242:3197, 3243:3198, 3244:3199, 3245:3200, 3246:3201, 3406:3361, 3684:3639, 3685:3640, 3686:3641, 3687:3642, 3688:3543, 3689:3644, 3690:3645, 3691:3646, 3748:3703, 3867:3822, 4036:3988, 4037:3989, 4138:5944, 4230:5980, 4523:6051, 4582:5491, 4658:5632, 4664:5626}"
   ]
  },
  {
   "cell_type": "code",
   "execution_count": 50,
   "metadata": {},
   "outputs": [],
   "source": [
    "result = []\n",
    "\n",
    "for i in range(df.shape[0]):\n",
    "    row = df.iloc[i]\n",
    "    text_id = (clean(row[\"текст\"])[:K], row[\"год\"])\n",
    "    if (text_id in text_map) or (row[\"номер\"] not in mapping):\n",
    "        continue\n",
    "    names = []\n",
    "    for name in [\"собиратель\", \"собиратель2\", \"собиратель3\", \"собиратель4\"]:\n",
    "        if type(row[name]) == str:\n",
    "            if \",\" in row[name]:\n",
    "                names.extend(row[name].split(\",\"))\n",
    "            elif row[name].strip(\"???\"):\n",
    "                names.append(row[name])\n",
    "    if set([n for n in names if n not in collectors_dict]):\n",
    "        print(\"||\", row[\"номер\"], set([n for n in names if n not in collectors_dict]))\n",
    "    for n in names:\n",
    "        result.append((mapping[row[\"номер\"]], collectors_dict[n]))"
   ]
  },
  {
   "cell_type": "code",
   "execution_count": 52,
   "metadata": {},
   "outputs": [],
   "source": [
    "cur.executemany(\"INSERT INTO t_c (id_text, id_collector) VALUES (%s, %s)\", result)\n",
    "con.commit()"
   ]
  },
  {
   "cell_type": "markdown",
   "metadata": {},
   "source": [
    "**Информанты фикс по маппингу текстов**"
   ]
  },
  {
   "cell_type": "code",
   "execution_count": 53,
   "metadata": {},
   "outputs": [],
   "source": [
    "collectors_dict = dict(pd.read_sql_query(\"SELECT code, id FROM informators\", con=con).values)"
   ]
  },
  {
   "cell_type": "code",
   "execution_count": 57,
   "metadata": {},
   "outputs": [],
   "source": [
    "result = []\n",
    "\n",
    "for i in range(df.shape[0]):\n",
    "    row = df.iloc[i]\n",
    "    text_id = (clean(row[\"текст\"])[:K], row[\"год\"])\n",
    "    if (text_id in text_map) or (row[\"номер\"] not in mapping):\n",
    "        continue\n",
    "    names = []\n",
    "    for name in [\"информант\", \"информант2\", \"информант3\", \"информант4\"]:\n",
    "        if type(row[name]) == str:\n",
    "            if \",\" in row[name]:\n",
    "                names.extend(row[name].split(\",\"))\n",
    "            elif row[name].strip(\"???\"):\n",
    "                names.append(row[name])\n",
    "    if set([n for n in names if n not in collectors_dict]):\n",
    "        print(\"||\", row[\"номер\"], set([n for n in names if n not in collectors_dict]))\n",
    "    for n in names:\n",
    "        result.append((mapping[row[\"номер\"]], collectors_dict[n]))"
   ]
  },
  {
   "cell_type": "code",
   "execution_count": 58,
   "metadata": {},
   "outputs": [],
   "source": [
    "cur.executemany(\"INSERT INTO t_i (id_text, id_informator) VALUES (%s, %s)\", result)\n",
    "con.commit()"
   ]
  },
  {
   "cell_type": "markdown",
   "metadata": {},
   "source": [
    "## Видео пропавшие"
   ]
  },
  {
   "cell_type": "code",
   "execution_count": 6,
   "metadata": {},
   "outputs": [],
   "source": [
    "df = pd.read_csv(\"/home/dkbrz/dumps/umk_videos.csv\")"
   ]
  },
  {
   "cell_type": "code",
   "execution_count": 7,
   "metadata": {},
   "outputs": [],
   "source": [
    "cur.executemany(\"INSERT INTO t_video (id_text, video) VALUES (%s,%s)\", df.values.tolist())\n",
    "con.commit()"
   ]
  }
 ],
 "metadata": {
  "kernelspec": {
   "display_name": "Python 3",
   "language": "python",
   "name": "python3"
  },
  "language_info": {
   "codemirror_mode": {
    "name": "ipython",
    "version": 3
   },
   "file_extension": ".py",
   "mimetype": "text/x-python",
   "name": "python",
   "nbconvert_exporter": "python",
   "pygments_lexer": "ipython3",
   "version": "3.8.10"
  }
 },
 "nbformat": 4,
 "nbformat_minor": 4
}
