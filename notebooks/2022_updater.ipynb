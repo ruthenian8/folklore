{
 "cells": [
  {
   "cell_type": "code",
   "execution_count": 1,
   "metadata": {},
   "outputs": [],
   "source": [
    "import sys\n",
    "import os\n",
    "from functools import wraps\n",
    "from collections.abc import Iterable\n",
    "import logging\n",
    "\n",
    "from tqdm import tqdm\n",
    "import pandas as pd\n",
    "from sqlalchemy import create_engine\n",
    "from sqlalchemy.engine import Connection\n",
    "\n",
    "import config\n",
    "\n",
    "logger = logging.getLogger(__name__)\n",
    "\n",
    "\n",
    "def loose_equality(string1: str, string2: str):\n",
    "    \"\"\"Required to make use of binary search\"\"\"\n",
    "    return string1[:100] == string2[:100]\n",
    "\n",
    "\n",
    "def count_invocations(func):\n",
    "    @wraps(func)\n",
    "    def wrapper(*args, **kwargs):\n",
    "        wrapper.invocations += 1\n",
    "        result = func(*args, **kwargs)\n",
    "        return result\n",
    "    wrapper.invocations = 0\n",
    "    return wrapper\n",
    "\n",
    "\n",
    "def binary_search(key: str, target: Iterable) -> int:\n",
    "    \"\"\"loose equality used instead of strict comparison\"\"\"\n",
    "    start = 0\n",
    "    end = len(target)\n",
    "    section = end - start\n",
    "    pivot = start + section // 2\n",
    "    pivot_element = target[pivot]\n",
    "\n",
    "    while section > 1:\n",
    "        if loose_equality(pivot_element, key):\n",
    "            return pivot\n",
    "        elif pivot_element > key:\n",
    "            end = pivot\n",
    "        else:\n",
    "            start = pivot\n",
    "        section = end - start\n",
    "        pivot = start + section // 2\n",
    "        pivot_element = target[pivot]\n",
    "\n",
    "    if loose_equality(pivot_element, key):\n",
    "        return pivot\n",
    "    return -1\n",
    "\n",
    "\n",
    "def read_original_table(connection: Connection) -> pd.DataFrame:\n",
    "    table = pd.read_sql_table(\"texts\", con=connection, schema=config.DB, index_col=None)\n",
    "    return table\n",
    "\n",
    "\n",
    "def read_new_table(filename: str) -> pd.Series:\n",
    "    table: pd.DataFrame = pd.read_csv(filename, usecols=[\"текст\"], sep=\"\\t\").dropna(axis=0)\n",
    "    return table\n",
    "\n",
    "\n",
    "def get_sorted_column(new_table: pd.DataFrame) -> list:\n",
    "    assert \"текст\" in new_table.columns\n",
    "    return new_table[\"текст\"].sort_values().tolist()\n",
    "\n",
    "\n",
    "def parse_args(args: list) -> str:\n",
    "    assert len(args) > 1, \"Filename is missing\"\n",
    "    filename: str = args[1]\n",
    "    assert os.path.isfile(filename), f\"File {filename} does not exist\"\n",
    "    assert filename.endswith(\".csv\"), \"Invalid file type, .csv required\"    \n",
    "    return filename\n",
    "\n",
    "\n",
    "@count_invocations\n",
    "def reinsert(new_text: str , _id: int, conn: Connection) -> None:\n",
    "    assert isinstance(new_text, str)\n",
    "    conn.execute(f\"UPDATE texts set raw_text = %s where id = %s\", (new_text, str(_id)))\n",
    "    return\n",
    "\n",
    "\n",
    "def find_equals(row: pd.Series, updated: pd.Series, conn: Connection) -> None:\n",
    "    _id, text = row[[\"id\", \"raw_text\"]]\n",
    "    new_idx = binary_search(text, updated)\n",
    "    if new_idx == -1:\n",
    "        return\n",
    "    new_text = updated[new_idx]\n",
    "    if new_text == text:\n",
    "        return\n",
    "    reinsert(new_text, _id, conn)\n",
    "\n",
    "\n",
    "def main(filename: str) -> None:\n",
    "    new_table: pd.DataFrame = read_new_table(filename)\n",
    "    new_values: list = get_sorted_column(new_table)\n",
    "    engine = create_engine(\"mysql+pymysql://{}:{}@{}:{}/{}\".format(\n",
    "        config.USER,\n",
    "        config.PASSWORD,\n",
    "        config.HOST,\n",
    "        config.PORT,\n",
    "        config.DB\n",
    "    ))\n",
    "    conn = engine.connect()\n",
    "    original_table: pd.DataFrame = read_original_table(connection=conn)\n",
    "    original_table.dropna(axis=0, subset=[\"raw_text\"], inplace=True)\n",
    "    for idx, row in tqdm(original_table.iterrows()):\n",
    "        find_equals(row, new_values, conn)\n",
    "        # if idx > 100:\n",
    "        #     break\n",
    "    print(f\"reinsert function has been invoked {str(reinsert.invocations)} times.\")\n",
    "    conn.close()"
   ]
  },
  {
   "cell_type": "code",
   "execution_count": 3,
   "metadata": {},
   "outputs": [
    {
     "name": "stderr",
     "output_type": "stream",
     "text": [
      "11081it [00:27, 406.01it/s] "
     ]
    },
    {
     "name": "stdout",
     "output_type": "stream",
     "text": [
      "2988\n"
     ]
    },
    {
     "name": "stderr",
     "output_type": "stream",
     "text": [
      "\n"
     ]
    }
   ],
   "source": [
    "main(\"data/undone/tblCards.csv\")"
   ]
  },
  {
   "cell_type": "code",
   "execution_count": null,
   "metadata": {},
   "outputs": [],
   "source": [
    "if __name__ == \"__main__\":\n",
    "    filename = parse_args(sys.argv)\n",
    "    main(filename)"
   ]
  }
 ],
 "metadata": {
  "interpreter": {
   "hash": "b3ba2566441a7c06988d0923437866b63cedc61552a5af99d1f4fb67d367b25f"
  },
  "kernelspec": {
   "display_name": "Python 3.8.3 64-bit ('base': conda)",
   "language": "python",
   "name": "python3"
  },
  "language_info": {
   "codemirror_mode": {
    "name": "ipython",
    "version": 3
   },
   "file_extension": ".py",
   "mimetype": "text/x-python",
   "name": "python",
   "nbconvert_exporter": "python",
   "pygments_lexer": "ipython3",
   "version": "3.8.3"
  },
  "orig_nbformat": 4
 },
 "nbformat": 4,
 "nbformat_minor": 2
}
