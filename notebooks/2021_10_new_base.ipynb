{
 "cells": [
  {
   "cell_type": "code",
   "execution_count": 41,
   "metadata": {},
   "outputs": [],
   "source": [
    "import pandas as pd\n",
    "import mysql.connector\n",
    "import re\n",
    "from collections import defaultdict, Counter\n",
    "from nltk.tokenize import wordpunct_tokenize\n",
    "from config import DB, USR, PWD"
   ]
  },
  {
   "cell_type": "code",
   "execution_count": 2,
   "metadata": {},
   "outputs": [],
   "source": [
    "con = mysql.connector.connect(database=DB, user=USR, password=PWD)\n",
    "cur = con.cursor()"
   ]
  },
  {
   "cell_type": "markdown",
   "metadata": {},
   "source": [
    "## Новые данные"
   ]
  },
  {
   "cell_type": "code",
   "execution_count": 537,
   "metadata": {},
   "outputs": [
    {
     "data": {
      "text/html": [
       "<div>\n",
       "<style scoped>\n",
       "    .dataframe tbody tr th:only-of-type {\n",
       "        vertical-align: middle;\n",
       "    }\n",
       "\n",
       "    .dataframe tbody tr th {\n",
       "        vertical-align: top;\n",
       "    }\n",
       "\n",
       "    .dataframe thead th {\n",
       "        text-align: right;\n",
       "    }\n",
       "</style>\n",
       "<table border=\"1\" class=\"dataframe\">\n",
       "  <thead>\n",
       "    <tr style=\"text-align: right;\">\n",
       "      <th></th>\n",
       "      <th>текст</th>\n",
       "      <th>ключевые слова</th>\n",
       "      <th>программа</th>\n",
       "      <th>вопрос</th>\n",
       "      <th>село</th>\n",
       "      <th>год</th>\n",
       "      <th>информант</th>\n",
       "      <th>информант2</th>\n",
       "      <th>информант3</th>\n",
       "      <th>информант4</th>\n",
       "      <th>собиратель</th>\n",
       "      <th>собиратель2</th>\n",
       "      <th>собиратель3</th>\n",
       "      <th>собиратель4</th>\n",
       "      <th>номер</th>\n",
       "    </tr>\n",
       "  </thead>\n",
       "  <tbody>\n",
       "    <tr>\n",
       "      <th>0</th>\n",
       "      <td>[А что за старичок, к которому вы водили мужа?...</td>\n",
       "      <td>Ребенок, Демонология, Говорить, Болезнь, Медиц...</td>\n",
       "      <td>XIII</td>\n",
       "      <td>9 а</td>\n",
       "      <td>Смоленская обл., Велижский р-н, Погорелье</td>\n",
       "      <td>2013</td>\n",
       "      <td>БТМ</td>\n",
       "      <td>NaN</td>\n",
       "      <td>NaN</td>\n",
       "      <td>NaN</td>\n",
       "      <td>НВП</td>\n",
       "      <td>АБМ</td>\n",
       "      <td>ОВБ</td>\n",
       "      <td>ПН</td>\n",
       "      <td>1</td>\n",
       "    </tr>\n",
       "  </tbody>\n",
       "</table>\n",
       "</div>"
      ],
      "text/plain": [
       "                                               текст  \\\n",
       "0  [А что за старичок, к которому вы водили мужа?...   \n",
       "\n",
       "                                      ключевые слова программа вопрос  \\\n",
       "0  Ребенок, Демонология, Говорить, Болезнь, Медиц...      XIII    9 а   \n",
       "\n",
       "                                        село   год информант информант2  \\\n",
       "0  Смоленская обл., Велижский р-н, Погорелье  2013       БТМ        NaN   \n",
       "\n",
       "  информант3 информант4 собиратель собиратель2 собиратель3 собиратель4  номер  \n",
       "0        NaN        NaN        НВП         АБМ         ОВБ          ПН      1  "
      ]
     },
     "execution_count": 537,
     "metadata": {},
     "output_type": "execute_result"
    }
   ],
   "source": [
    "cards = pd.read_csv(\"./data/undone/tblCards.csv\").drop([\"аннотация\", \"термины\", \"zvuk\", \"zvuk2\", \"photo\", \"photo2\"], axis=1)\n",
    "cards.head(1)"
   ]
  },
  {
   "cell_type": "code",
   "execution_count": 5,
   "metadata": {},
   "outputs": [
    {
     "data": {
      "text/html": [
       "<div>\n",
       "<style scoped>\n",
       "    .dataframe tbody tr th:only-of-type {\n",
       "        vertical-align: middle;\n",
       "    }\n",
       "\n",
       "    .dataframe tbody tr th {\n",
       "        vertical-align: top;\n",
       "    }\n",
       "\n",
       "    .dataframe thead th {\n",
       "        text-align: right;\n",
       "    }\n",
       "</style>\n",
       "<table border=\"1\" class=\"dataframe\">\n",
       "  <thead>\n",
       "    <tr style=\"text-align: right;\">\n",
       "      <th></th>\n",
       "      <th>ключевые слова</th>\n",
       "      <th>код</th>\n",
       "    </tr>\n",
       "  </thead>\n",
       "  <tbody>\n",
       "    <tr>\n",
       "      <th>0</th>\n",
       "      <td>Аборт</td>\n",
       "      <td>1</td>\n",
       "    </tr>\n",
       "  </tbody>\n",
       "</table>\n",
       "</div>"
      ],
      "text/plain": [
       "  ключевые слова  код\n",
       "0          Аборт    1"
      ]
     },
     "execution_count": 5,
     "metadata": {},
     "output_type": "execute_result"
    }
   ],
   "source": [
    "keywords = pd.read_csv(\"./data/undone/tblKeyWords.csv\")\n",
    "keywords.head(1)"
   ]
  },
  {
   "cell_type": "code",
   "execution_count": 55,
   "metadata": {},
   "outputs": [],
   "source": [
    "# keywords[\"ключевые слова\"].tolist()"
   ]
  },
  {
   "cell_type": "code",
   "execution_count": 6,
   "metadata": {},
   "outputs": [
    {
     "data": {
      "text/html": [
       "<div>\n",
       "<style scoped>\n",
       "    .dataframe tbody tr th:only-of-type {\n",
       "        vertical-align: middle;\n",
       "    }\n",
       "\n",
       "    .dataframe tbody tr th {\n",
       "        vertical-align: top;\n",
       "    }\n",
       "\n",
       "    .dataframe thead th {\n",
       "        text-align: right;\n",
       "    }\n",
       "</style>\n",
       "<table border=\"1\" class=\"dataframe\">\n",
       "  <thead>\n",
       "    <tr style=\"text-align: right;\">\n",
       "      <th></th>\n",
       "      <th>Код собирателя</th>\n",
       "      <th>ФИО собирателя</th>\n",
       "      <th>Номер</th>\n",
       "    </tr>\n",
       "  </thead>\n",
       "  <tbody>\n",
       "    <tr>\n",
       "      <th>0</th>\n",
       "      <td>АБМ</td>\n",
       "      <td>Мороз Андрей Борисович</td>\n",
       "      <td>184</td>\n",
       "    </tr>\n",
       "  </tbody>\n",
       "</table>\n",
       "</div>"
      ],
      "text/plain": [
       "  Код собирателя          ФИО собирателя  Номер\n",
       "0            АБМ  Мороз Андрей Борисович    184"
      ]
     },
     "execution_count": 6,
     "metadata": {},
     "output_type": "execute_result"
    }
   ],
   "source": [
    "collectors = pd.read_csv(\"./data/undone/tblSobirately.csv\")\n",
    "collectors.head(1)"
   ]
  },
  {
   "cell_type": "code",
   "execution_count": 186,
   "metadata": {},
   "outputs": [
    {
     "data": {
      "text/html": [
       "<div>\n",
       "<style scoped>\n",
       "    .dataframe tbody tr th:only-of-type {\n",
       "        vertical-align: middle;\n",
       "    }\n",
       "\n",
       "    .dataframe tbody tr th {\n",
       "        vertical-align: top;\n",
       "    }\n",
       "\n",
       "    .dataframe thead th {\n",
       "        text-align: right;\n",
       "    }\n",
       "</style>\n",
       "<table border=\"1\" class=\"dataframe\">\n",
       "  <thead>\n",
       "    <tr style=\"text-align: right;\">\n",
       "      <th></th>\n",
       "      <th>инициалы</th>\n",
       "      <th>ФИО</th>\n",
       "      <th>село</th>\n",
       "      <th>биография</th>\n",
       "      <th>порядковый номер информанта</th>\n",
       "    </tr>\n",
       "  </thead>\n",
       "  <tbody>\n",
       "    <tr>\n",
       "      <th>0</th>\n",
       "      <td>НЕ</td>\n",
       "      <td>Надежда Егоровна</td>\n",
       "      <td>Брянская обл., Злынковский  р-н, Карпиловка</td>\n",
       "      <td>Прим. 1937 г.р.</td>\n",
       "      <td>9692</td>\n",
       "    </tr>\n",
       "  </tbody>\n",
       "</table>\n",
       "</div>"
      ],
      "text/plain": [
       "  инициалы               ФИО                                         село  \\\n",
       "0       НЕ  Надежда Егоровна  Брянская обл., Злынковский  р-н, Карпиловка   \n",
       "\n",
       "         биография  порядковый номер информанта  \n",
       "0  Прим. 1937 г.р.                         9692  "
      ]
     },
     "execution_count": 186,
     "metadata": {},
     "output_type": "execute_result"
    }
   ],
   "source": [
    "informators = pd.read_csv(\"./data/undone/tblInformators.csv\")\n",
    "informators.head(1)"
   ]
  },
  {
   "cell_type": "markdown",
   "metadata": {},
   "source": [
    "## Препроцессинг"
   ]
  },
  {
   "cell_type": "code",
   "execution_count": 538,
   "metadata": {},
   "outputs": [],
   "source": [
    "cards.columns = ['text', 'keywords', 'qlist', 'questions', 'place', 'year', 'i1', 'i2', 'i3', 'i4', 'c1', 'c2', 'c3', 'c4', 'N']"
   ]
  },
  {
   "cell_type": "code",
   "execution_count": 539,
   "metadata": {},
   "outputs": [],
   "source": [
    "cards[\"keywords\"] = cards[\"keywords\"].apply(lambda x: [x.strip().lower() for x in x.split(\",\")])"
   ]
  },
  {
   "cell_type": "code",
   "execution_count": 540,
   "metadata": {},
   "outputs": [],
   "source": [
    "cards[\"informators\"] = cards[[\"i1\", \"i2\", \"i3\", \"i4\"]].apply(lambda x: x.dropna().tolist(), axis=1)\n",
    "cards[\"collectors\"] = cards[[\"c1\", \"c2\", \"c3\", \"c4\"]].apply(lambda x: x.dropna().tolist(), axis=1)"
   ]
  },
  {
   "cell_type": "code",
   "execution_count": 541,
   "metadata": {},
   "outputs": [],
   "source": [
    "cards[\"place\"] = cards[\"place\"].apply(lambda x: x.replace(\"обл\", \"область\").replace(\"р-н\", \"район\"))\n",
    "cards[\"place\"] = cards[\"place\"].apply(lambda x: [i.strip() for i in re.split(\"[\\.,]+\", x) if i.strip()])"
   ]
  },
  {
   "cell_type": "code",
   "execution_count": 542,
   "metadata": {},
   "outputs": [],
   "source": [
    "def parse_questions(x):\n",
    "    orig = x\n",
    "    x = re.sub(\"([0-9]+)([а-яa-z])\", \"\\g<1> \\g<2>\", x)\n",
    "    result = defaultdict(list)\n",
    "    row = wordpunct_tokenize(x)\n",
    "    cur_num = 0\n",
    "    for r in row:\n",
    "        if r.isdigit():\n",
    "            if cur_num not in result and cur_num != 0:\n",
    "                result[cur_num].append(\"\")\n",
    "            cur_num = int(r)\n",
    "        elif r in {\",\", \".\", \";\", \".,\"}:\n",
    "            continue\n",
    "        elif r.isalpha():\n",
    "            if r not in result[cur_num]:\n",
    "                result[cur_num].append(r)\n",
    "            elif r == \"доп\":\n",
    "                result[0].append(r)\n",
    "        else:\n",
    "            print(r)\n",
    "    if cur_num not in result and cur_num != 0:\n",
    "        result[cur_num].append(\"\")\n",
    "        \n",
    "    final = []\n",
    "    for q in result:\n",
    "        for subq in result[q]:\n",
    "            final.append((q, subq))\n",
    "    return sorted(final)"
   ]
  },
  {
   "cell_type": "code",
   "execution_count": 543,
   "metadata": {},
   "outputs": [],
   "source": [
    "cards[\"questions\"] = cards[\"questions\"].apply(lambda x: parse_questions(x))"
   ]
  },
  {
   "cell_type": "code",
   "execution_count": 544,
   "metadata": {},
   "outputs": [],
   "source": [
    "cards[\"qlist\"] = cards[\"qlist\"].apply(lambda x: x.replace(\" \", \"\").replace(\"а\", \"a\").replace(\"Х\", \"X\"))"
   ]
  },
  {
   "cell_type": "code",
   "execution_count": 545,
   "metadata": {},
   "outputs": [],
   "source": [
    "cards[\"place\"] = cards[\"place\"].apply(tuple)"
   ]
  },
  {
   "cell_type": "code",
   "execution_count": 546,
   "metadata": {},
   "outputs": [],
   "source": [
    "cards[\"place\"] = cards[\"place\"].apply(lambda x: (\"Смоленская обл\", \"Велижский р-н\", \"Будница\") if x == (\"Будница\", \"Велижский р-н\", \"Смоленская обл\") else x)"
   ]
  },
  {
   "cell_type": "code",
   "execution_count": 547,
   "metadata": {},
   "outputs": [],
   "source": [
    "cards[\"place\"] = cards[\"place\"].apply(lambda x: (x[0], None, x[1]) if len(x) == 2 else x)"
   ]
  },
  {
   "cell_type": "code",
   "execution_count": 548,
   "metadata": {},
   "outputs": [],
   "source": [
    "cards[\"region\"] = cards[\"place\"].apply(lambda x: x[0])\n",
    "cards[\"ditrict\"] = cards[\"place\"].apply(lambda x: x[1])\n",
    "cards[\"village\"] = cards[\"place\"].apply(lambda x: x[2])"
   ]
  },
  {
   "cell_type": "code",
   "execution_count": 549,
   "metadata": {},
   "outputs": [],
   "source": [
    "cards[\"fin_questions\"] = cards[[\"qlist\", \"questions\"]].apply(lambda x: [(x[\"qlist\"], *i) for i in x[\"questions\"]], axis=1)"
   ]
  },
  {
   "cell_type": "code",
   "execution_count": 550,
   "metadata": {},
   "outputs": [],
   "source": [
    "cards = cards[[\"text\", \"keywords\", \"place\", \"year\", \"N\", \"informators\", \"collectors\", \"region\", \"ditrict\", \"village\", \"fin_questions\"]]"
   ]
  },
  {
   "cell_type": "code",
   "execution_count": 551,
   "metadata": {},
   "outputs": [
    {
     "data": {
      "text/html": [
       "<div>\n",
       "<style scoped>\n",
       "    .dataframe tbody tr th:only-of-type {\n",
       "        vertical-align: middle;\n",
       "    }\n",
       "\n",
       "    .dataframe tbody tr th {\n",
       "        vertical-align: top;\n",
       "    }\n",
       "\n",
       "    .dataframe thead th {\n",
       "        text-align: right;\n",
       "    }\n",
       "</style>\n",
       "<table border=\"1\" class=\"dataframe\">\n",
       "  <thead>\n",
       "    <tr style=\"text-align: right;\">\n",
       "      <th></th>\n",
       "      <th>text</th>\n",
       "      <th>keywords</th>\n",
       "      <th>place</th>\n",
       "      <th>year</th>\n",
       "      <th>N</th>\n",
       "      <th>informators</th>\n",
       "      <th>collectors</th>\n",
       "      <th>region</th>\n",
       "      <th>ditrict</th>\n",
       "      <th>village</th>\n",
       "      <th>fin_questions</th>\n",
       "    </tr>\n",
       "  </thead>\n",
       "  <tbody>\n",
       "    <tr>\n",
       "      <th>0</th>\n",
       "      <td>[А что за старичок, к которому вы водили мужа?...</td>\n",
       "      <td>[ребенок, демонология, говорить, болезнь, меди...</td>\n",
       "      <td>(Смоленская область, Велижский район, Погорелье)</td>\n",
       "      <td>2013</td>\n",
       "      <td>1</td>\n",
       "      <td>[БТМ]</td>\n",
       "      <td>[НВП, АБМ, ОВБ, ПН]</td>\n",
       "      <td>Смоленская область</td>\n",
       "      <td>Велижский район</td>\n",
       "      <td>Погорелье</td>\n",
       "      <td>[(XIII, 9, а)]</td>\n",
       "    </tr>\n",
       "    <tr>\n",
       "      <th>1</th>\n",
       "      <td>[БТМ угощает собирателей у себя дома. АБМ попе...</td>\n",
       "      <td>[пища, еда, угощение, приметы, поговорка]</td>\n",
       "      <td>(Смоленская область, Велижский район, Погорелье)</td>\n",
       "      <td>2013</td>\n",
       "      <td>2</td>\n",
       "      <td>[БТМ]</td>\n",
       "      <td>[НВП, АБМ, ОВБ, ВК]</td>\n",
       "      <td>Смоленская область</td>\n",
       "      <td>Велижский район</td>\n",
       "      <td>Погорелье</td>\n",
       "      <td>[(XXV, 23, )]</td>\n",
       "    </tr>\n",
       "  </tbody>\n",
       "</table>\n",
       "</div>"
      ],
      "text/plain": [
       "                                                text  \\\n",
       "0  [А что за старичок, к которому вы водили мужа?...   \n",
       "1  [БТМ угощает собирателей у себя дома. АБМ попе...   \n",
       "\n",
       "                                            keywords  \\\n",
       "0  [ребенок, демонология, говорить, болезнь, меди...   \n",
       "1          [пища, еда, угощение, приметы, поговорка]   \n",
       "\n",
       "                                              place  year  N informators  \\\n",
       "0  (Смоленская область, Велижский район, Погорелье)  2013  1       [БТМ]   \n",
       "1  (Смоленская область, Велижский район, Погорелье)  2013  2       [БТМ]   \n",
       "\n",
       "            collectors              region          ditrict    village  \\\n",
       "0  [НВП, АБМ, ОВБ, ПН]  Смоленская область  Велижский район  Погорелье   \n",
       "1  [НВП, АБМ, ОВБ, ВК]  Смоленская область  Велижский район  Погорелье   \n",
       "\n",
       "    fin_questions  \n",
       "0  [(XIII, 9, а)]  \n",
       "1   [(XXV, 23, )]  "
      ]
     },
     "execution_count": 551,
     "metadata": {},
     "output_type": "execute_result"
    }
   ],
   "source": [
    "cards.head(2)"
   ]
  },
  {
   "cell_type": "markdown",
   "metadata": {},
   "source": [
    "## данные из базы"
   ]
  },
  {
   "cell_type": "code",
   "execution_count": 552,
   "metadata": {},
   "outputs": [],
   "source": [
    "cur.execute(\"SELECT question_list, question_num, question_letter, id FROM questions\")\n",
    "dbquestions = {(ql, qn, qlt): i for ql, qn, qlt, i in cur.fetchall()}"
   ]
  },
  {
   "cell_type": "code",
   "execution_count": 553,
   "metadata": {},
   "outputs": [],
   "source": [
    "cur.execute(\"SELECT word, id FROM keywords\")\n",
    "dbkeywords = {word.lower().strip(): i for word, i in cur.fetchall()}"
   ]
  },
  {
   "cell_type": "code",
   "execution_count": 554,
   "metadata": {},
   "outputs": [],
   "source": [
    "newkwd = set(keywords[\"ключевые слова\"].apply(lambda x: x.strip().lower()).tolist()) - set(dbkeywords)"
   ]
  },
  {
   "cell_type": "code",
   "execution_count": 555,
   "metadata": {},
   "outputs": [],
   "source": [
    "df = cards.copy()"
   ]
  },
  {
   "cell_type": "code",
   "execution_count": 244,
   "metadata": {},
   "outputs": [],
   "source": [
    "cnt = defaultdict(int)\n",
    "cnt_new = defaultdict(int)\n",
    "for kwrds in df[\"keywords\"].values:\n",
    "    no = []\n",
    "    for w in kwrds:\n",
    "        if not w:\n",
    "            continue\n",
    "        elif w in dbkeywords:\n",
    "            pass\n",
    "        elif w in newkwd:\n",
    "            cnt_new[w] += 1\n",
    "        else:\n",
    "            cnt[w] += 1"
   ]
  },
  {
   "cell_type": "code",
   "execution_count": 245,
   "metadata": {},
   "outputs": [
    {
     "name": "stdout",
     "output_type": "stream",
     "text": [
      "12\tпрозвища\n",
      "11\tварвара св.\n",
      "7\tзвон\n",
      "6\tпотоп\n",
      "5\tсказки\n",
      "4\tптица\n",
      "4\tшитье\n",
      "2\tпещера\n",
      "2\tкожа\n",
      "2\tгадание\n",
      "2\tязык\n",
      "2\tруки\n",
      "1\tрыбы\n",
      "1\tвоскрес\n",
      "1\tогурец\n",
      "1\tтерять–находить\n",
      "1\tкол\n",
      "1\tпредания.\n",
      "1\tкниг\n",
      "1\tлопата\n",
      "1\tмолодой-ста\n",
      "1\tконец петра и павла день\n",
      "1\tмуравейник\n",
      "1\tживотные\n",
      "1\tмихаил св.\n",
      "1\tудавленник\n",
      "1\tсвадебный поезд\n",
      "1\tкозел\n",
      "1\tполнолуние\n",
      "1\tкрещенье (календ.)\n",
      "1\tстарый-новый\n",
      "1\tласка\n",
      "1\tсмола\n",
      "1\tлегенда\n",
      "1\tосвящать\n",
      "1\tзастолье\n",
      "1\tзакрытый\n",
      "1\tзнамение\n",
      "1\tправы-левый\n",
      "1\tграницы\n",
      "1\tхозяин\n",
      "1\tумываться\n"
     ]
    }
   ],
   "source": [
    "for row in sorted(cnt.items(), key=lambda x: x[1], reverse=True):\n",
    "    print(*row[::-1], sep = \"\\t\")"
   ]
  },
  {
   "cell_type": "code",
   "execution_count": 66,
   "metadata": {},
   "outputs": [
    {
     "name": "stdout",
     "output_type": "stream",
     "text": [
      "59\tсмерть\n",
      "28\tнечистая сила\n",
      "22\tнепогода\n",
      "15\tугол дома\n",
      "8\tпредметы-обереги\n",
      "6\tколяда\n",
      "5\tновый\n",
      "4\tинородец\n",
      "3\tновобрачные\n",
      "2\tиноверец\n",
      "2\tдоля\n",
      "2\tбулочка\n",
      "1\tмай\n",
      "1\tзелень\n"
     ]
    }
   ],
   "source": [
    "for row in sorted(cnt_new.items(), key=lambda x: x[1], reverse=True):\n",
    "    print(*row[::-1], sep = \"\\t\")"
   ]
  },
  {
   "cell_type": "markdown",
   "metadata": {},
   "source": [
    "## Обработка данных"
   ]
  },
  {
   "cell_type": "markdown",
   "metadata": {},
   "source": [
    "### Таблица тексты"
   ]
  },
  {
   "cell_type": "code",
   "execution_count": 67,
   "metadata": {},
   "outputs": [
    {
     "data": {
      "text/plain": [
       "[(7294,)]"
      ]
     },
     "execution_count": 67,
     "metadata": {},
     "output_type": "execute_result"
    }
   ],
   "source": [
    "cur.execute(\"SELECT max(id) FROM texts\")\n",
    "cur.fetchall()"
   ]
  },
  {
   "cell_type": "code",
   "execution_count": 556,
   "metadata": {},
   "outputs": [],
   "source": [
    "df[\"id\"] = list(range(7295, 7295 + df.shape[0]))\n",
    "df[\"leader\"] = \"АБМ\""
   ]
  },
  {
   "cell_type": "code",
   "execution_count": 557,
   "metadata": {},
   "outputs": [],
   "source": [
    "df[\"txtlen\"] = df[\"text\"].apply(len)"
   ]
  },
  {
   "cell_type": "code",
   "execution_count": 248,
   "metadata": {
    "scrolled": true
   },
   "outputs": [
    {
     "name": "stdout",
     "output_type": "stream",
     "text": [
      "7763, 7706, 8145, 8149, 7759, 7543, 8260, 8261, 7315, 7467, 7753, 8817, 8052, 7630, 7786, 8421, 8505, 8247, 8355, 7928, 7796, 8053, 9136, 8490, 8283, 8259, 8472, 8679, 8467, 7466, 7305, 7306, 7872, 7959, 9333, 9342, 9375, 9392, 8508, 9326, 8169, 9373, 9394, 9331, 9368, 9367, 9393, 9378, 9332, 9379, 7560\n"
     ]
    }
   ],
   "source": [
    "long = df[[\"id\", \"txtlen\"]].sort_values(by=\"txtlen\", ascending=False).head(100)\n",
    "print(*long[long[\"txtlen\"] > 9000][\"id\"].values.tolist(), sep=\", \")"
   ]
  },
  {
   "cell_type": "code",
   "execution_count": 558,
   "metadata": {},
   "outputs": [],
   "source": [
    "data = df[[\"id\", \"text\", \"year\", \"leader\"]].values.tolist()"
   ]
  },
  {
   "cell_type": "code",
   "execution_count": 99,
   "metadata": {},
   "outputs": [],
   "source": [
    "# cur.executemany(\"INSERT INTO texts (id, raw_text, year, leader) VALUES (%s, %s, %s, %s)\", data)\n",
    "# con.commit()"
   ]
  },
  {
   "cell_type": "markdown",
   "metadata": {},
   "source": [
    "### Вопросы"
   ]
  },
  {
   "cell_type": "code",
   "execution_count": 113,
   "metadata": {},
   "outputs": [],
   "source": [
    "new_question = set()\n",
    "for row in df[\"fin_questions\"].values:\n",
    "    no = []\n",
    "    for q in row:\n",
    "#         if q[1] == 0:\n",
    "#             q = (q[0], q[1], \"\")\n",
    "        if q not in dbquestions:\n",
    "            no.append(q)\n",
    "    if no:\n",
    "        for n in no:\n",
    "            new_question.add(n)"
   ]
  },
  {
   "cell_type": "code",
   "execution_count": 116,
   "metadata": {},
   "outputs": [],
   "source": [
    "cur.executemany(\"INSERT INTO questions (question_list, question_num, question_letter) VALUES (%s, %s, %s)\", list(sorted(new_question)))\n",
    "con.commit()"
   ]
  },
  {
   "cell_type": "code",
   "execution_count": 118,
   "metadata": {},
   "outputs": [],
   "source": [
    "cur.execute(\"SELECT question_list, question_num, question_letter, id FROM questions\")\n",
    "dbquestions = {(ql, qn, qlt): i for ql, qn, qlt, i in cur.fetchall()}"
   ]
  },
  {
   "cell_type": "code",
   "execution_count": 121,
   "metadata": {},
   "outputs": [],
   "source": [
    "result = []\n",
    "\n",
    "new_question = set()\n",
    "for i, qs in df[[\"id\", \"fin_questions\"]].values:\n",
    "    for q in qs:\n",
    "        result.append((i, dbquestions[q]))"
   ]
  },
  {
   "cell_type": "code",
   "execution_count": 123,
   "metadata": {},
   "outputs": [],
   "source": [
    "cur.executemany(\"INSERT INTO t_q (id_text, id_question) VALUES (%s, %s)\", result)\n",
    "con.commit()"
   ]
  },
  {
   "cell_type": "markdown",
   "metadata": {},
   "source": [
    "### Собиратели"
   ]
  },
  {
   "cell_type": "code",
   "execution_count": 126,
   "metadata": {},
   "outputs": [],
   "source": [
    "cur.execute(\"SELECT code, id FROM collectors\")\n",
    "dbcollectors = {code: i for code, i in cur.fetchall()}"
   ]
  },
  {
   "cell_type": "code",
   "execution_count": 136,
   "metadata": {},
   "outputs": [],
   "source": [
    "clc_mapping = {\n",
    "    \"Е. М. Боганева\": \"БЕМ\", \"КВA\": \"КВА\", \"ОБВ\": \"ОВБ\"\n",
    "}"
   ]
  },
  {
   "cell_type": "code",
   "execution_count": 145,
   "metadata": {},
   "outputs": [],
   "source": [
    "clc = set()\n",
    "no = set()\n",
    "for i in df[\"collectors\"].values:\n",
    "    for j in i:\n",
    "        j = j.strip(\".\")\n",
    "        if j not in dbcollectors:\n",
    "            no.add(j)"
   ]
  },
  {
   "cell_type": "code",
   "execution_count": 146,
   "metadata": {},
   "outputs": [
    {
     "data": {
      "text/plain": [
       "{',', 'Е. М. Боганева', 'КВA', 'ОБВ'}"
      ]
     },
     "execution_count": 146,
     "metadata": {},
     "output_type": "execute_result"
    }
   ],
   "source": [
    "no"
   ]
  },
  {
   "cell_type": "code",
   "execution_count": 142,
   "metadata": {},
   "outputs": [],
   "source": [
    "collectors[\"code\"] = collectors[\"Код собирателя\"].apply(dbcollectors.get)"
   ]
  },
  {
   "cell_type": "code",
   "execution_count": 149,
   "metadata": {},
   "outputs": [
    {
     "name": "stdout",
     "output_type": "stream",
     "text": [
      ",\n"
     ]
    }
   ],
   "source": [
    "result = []\n",
    "\n",
    "for n, i in df[[\"id\", \"collectors\"]].values:\n",
    "    for j in i:\n",
    "        j = j.strip(\".\")\n",
    "        j = clc_mapping[j] if j in clc_mapping else j\n",
    "        if j in dbcollectors:\n",
    "            result.append((n, dbcollectors[j]))\n",
    "        else:\n",
    "            print(j)"
   ]
  },
  {
   "cell_type": "code",
   "execution_count": 151,
   "metadata": {},
   "outputs": [],
   "source": [
    "cur.executemany(\"INSERT INTO t_c (id_text, id_collector) VALUES (%s, %s)\", result)\n",
    "con.commit()"
   ]
  },
  {
   "cell_type": "markdown",
   "metadata": {},
   "source": [
    "### Информанты"
   ]
  },
  {
   "cell_type": "code",
   "execution_count": 559,
   "metadata": {},
   "outputs": [],
   "source": [
    "# cur.execute(\"SELECT code, id, name FROM informators\")\n",
    "# dbnameinf = {(code, n): i for code, i, n in cur.fetchall()}\n",
    "\n",
    "# # cur.execute(\"SELECT code, id FROM informators\")\n",
    "# # dbinformators = {code: i for code, i in cur.fetchall()}\n",
    "\n",
    "dbinf = pd.read_sql_query(\"SELECT id, code, name, current_region FROM informators\", con=con)"
   ]
  },
  {
   "cell_type": "code",
   "execution_count": 560,
   "metadata": {},
   "outputs": [],
   "source": [
    "dfinformators = dict(informators[[\"инициалы\", \"ФИО\"]].values)"
   ]
  },
  {
   "cell_type": "code",
   "execution_count": 562,
   "metadata": {},
   "outputs": [],
   "source": [
    "no = set()\n",
    "for i in df[\"informators\"].values:\n",
    "    for j in i:\n",
    "        j = j.strip(\". ?\")\n",
    "        if j and j not in dbinformators and j not in dfinformators:\n",
    "            no.add(j)"
   ]
  },
  {
   "cell_type": "code",
   "execution_count": 564,
   "metadata": {},
   "outputs": [],
   "source": [
    "informators[\"db_name\"] = informators[[\"инициалы\", \"ФИО\"]].apply(lambda x: dbnameinf.get((x[\"инициалы\"], x[\"ФИО\"])), axis=1)"
   ]
  },
  {
   "cell_type": "code",
   "execution_count": 565,
   "metadata": {},
   "outputs": [],
   "source": [
    "informators[\"place\"] = informators[\"село\"].apply(lambda x: x.replace(\"обл\", \"область\").replace(\"р-н\", \"район\"))\n",
    "informators[\"place\"] = informators[\"place\"].apply(lambda x: [i.strip() for i in re.split(\"[\\.,]+\", x) if i.strip()])\n",
    "informators[\"place\"] = informators[\"place\"].apply(tuple)\n",
    "informators[\"place\"] = informators[\"place\"].apply(lambda x: (x[0], None, x[1]) if len(x) == 2 else x)"
   ]
  },
  {
   "cell_type": "code",
   "execution_count": 225,
   "metadata": {},
   "outputs": [],
   "source": [
    "# informators[\"place\"] = informators[\"place\"].apply(lambda x: (\"Смоленская обл\", \"Велижский р-н\", \"Будница\") if x == (\"Будница\", \"Велижский р-н\", \"Смоленская обл\") else x)"
   ]
  },
  {
   "cell_type": "code",
   "execution_count": 566,
   "metadata": {},
   "outputs": [],
   "source": [
    "informators[\"region\"] = informators[\"place\"].apply(lambda x: x[0])\n",
    "informators[\"ditrict\"] = informators[\"place\"].apply(lambda x: x[1])\n",
    "informators[\"village\"] = informators[\"place\"].apply(lambda x: x[2])"
   ]
  },
  {
   "cell_type": "code",
   "execution_count": 592,
   "metadata": {},
   "outputs": [],
   "source": [
    "informators = informators.merge(dbinf, right_on=[\"code\", \"current_region\"], left_on=[\"инициалы\", \"region\"], how=\"left\")"
   ]
  },
  {
   "cell_type": "code",
   "execution_count": 593,
   "metadata": {},
   "outputs": [
    {
     "data": {
      "text/html": [
       "<div>\n",
       "<style scoped>\n",
       "    .dataframe tbody tr th:only-of-type {\n",
       "        vertical-align: middle;\n",
       "    }\n",
       "\n",
       "    .dataframe tbody tr th {\n",
       "        vertical-align: top;\n",
       "    }\n",
       "\n",
       "    .dataframe thead th {\n",
       "        text-align: right;\n",
       "    }\n",
       "</style>\n",
       "<table border=\"1\" class=\"dataframe\">\n",
       "  <thead>\n",
       "    <tr style=\"text-align: right;\">\n",
       "      <th></th>\n",
       "      <th>инициалы</th>\n",
       "      <th>ФИО</th>\n",
       "      <th>село</th>\n",
       "      <th>биография</th>\n",
       "      <th>порядковый номер информанта</th>\n",
       "      <th>db_name</th>\n",
       "      <th>place</th>\n",
       "      <th>region</th>\n",
       "      <th>ditrict</th>\n",
       "      <th>village</th>\n",
       "      <th>...</th>\n",
       "      <th>name_x</th>\n",
       "      <th>current_region_x</th>\n",
       "      <th>id_y</th>\n",
       "      <th>code_y</th>\n",
       "      <th>name_y</th>\n",
       "      <th>current_region_y</th>\n",
       "      <th>id</th>\n",
       "      <th>code</th>\n",
       "      <th>name</th>\n",
       "      <th>current_region</th>\n",
       "    </tr>\n",
       "  </thead>\n",
       "  <tbody>\n",
       "    <tr>\n",
       "      <th>567</th>\n",
       "      <td>БАГ</td>\n",
       "      <td>Бордюков Александр Григорьевич</td>\n",
       "      <td>Смоленская обл., Велиж</td>\n",
       "      <td>1928 г.р., род. в г. Велиж. Всю жизнь живет в ...</td>\n",
       "      <td>9980</td>\n",
       "      <td>NaN</td>\n",
       "      <td>(Смоленская область, None, Велиж)</td>\n",
       "      <td>Смоленская область</td>\n",
       "      <td>None</td>\n",
       "      <td>Велиж</td>\n",
       "      <td>...</td>\n",
       "      <td>NaN</td>\n",
       "      <td>NaN</td>\n",
       "      <td>476.0</td>\n",
       "      <td>БАГ</td>\n",
       "      <td>Бордюков Александр Григорьевич</td>\n",
       "      <td>Смоленская область</td>\n",
       "      <td>476.0</td>\n",
       "      <td>БАГ</td>\n",
       "      <td>Бордюков Александр Григорьевич</td>\n",
       "      <td>Смоленская область</td>\n",
       "    </tr>\n",
       "  </tbody>\n",
       "</table>\n",
       "<p>1 rows × 22 columns</p>\n",
       "</div>"
      ],
      "text/plain": [
       "    инициалы                             ФИО                    село  \\\n",
       "567      БАГ  Бордюков Александр Григорьевич  Смоленская обл., Велиж   \n",
       "\n",
       "                                             биография  \\\n",
       "567  1928 г.р., род. в г. Велиж. Всю жизнь живет в ...   \n",
       "\n",
       "     порядковый номер информанта  db_name                              place  \\\n",
       "567                         9980      NaN  (Смоленская область, None, Велиж)   \n",
       "\n",
       "                 region ditrict village  ...  name_x current_region_x   id_y  \\\n",
       "567  Смоленская область    None   Велиж  ...     NaN              NaN  476.0   \n",
       "\n",
       "    code_y                          name_y    current_region_y     id code  \\\n",
       "567    БАГ  Бордюков Александр Григорьевич  Смоленская область  476.0  БАГ   \n",
       "\n",
       "                               name      current_region  \n",
       "567  Бордюков Александр Григорьевич  Смоленская область  \n",
       "\n",
       "[1 rows x 22 columns]"
      ]
     },
     "execution_count": 593,
     "metadata": {},
     "output_type": "execute_result"
    }
   ],
   "source": [
    "informators[informators[\"инициалы\"] == \"БАГ\"]"
   ]
  },
  {
   "cell_type": "code",
   "execution_count": 569,
   "metadata": {},
   "outputs": [],
   "source": [
    "df[\"region\"] = df[\"region\"].replace(\"Будница\", \"Смоленская область\")\n",
    "df[\"village\"] = df[\"village\"].replace(\"Смоленская область\", \"Будница\")"
   ]
  },
  {
   "cell_type": "code",
   "execution_count": 590,
   "metadata": {},
   "outputs": [
    {
     "name": "stdout",
     "output_type": "stream",
     "text": [
      "7669 Смоленская область СМТ [] (0, 18)\n",
      "7670 Смоленская область СМТ [] (0, 18)\n",
      "7671 Смоленская область СМТ [] (0, 18)\n",
      "7672 Смоленская область СМТ [] (0, 18)\n",
      "7673 Смоленская область СМТ [] (0, 18)\n",
      "7674 Смоленская область СМТ [] (0, 18)\n",
      "7675 Смоленская область СМТ [] (0, 18)\n",
      "7676 Смоленская область СМТ [] (0, 18)\n",
      "7677 Смоленская область СМТ [] (0, 18)\n",
      "7678 Смоленская область СМТ [] (0, 18)\n",
      "7679 Смоленская область СМТ [] (0, 18)\n",
      "7680 Смоленская область СМТ [] (0, 18)\n",
      "7681 Смоленская область СМТ [] (0, 18)\n",
      "7682 Смоленская область СМТ [] (0, 18)\n",
      "7683 Смоленская область СМТ [] (0, 18)\n",
      "7684 Смоленская область СМТ [] (0, 18)\n",
      "7685 Смоленская область СМТ [] (0, 18)\n",
      "7686 Смоленская область СМТ [] (0, 18)\n",
      "7687 Смоленская область СМТ [] (0, 18)\n",
      "7725 Смоленская область ВА [] (0, 18)\n",
      "7725 Смоленская область М [] (0, 18)\n",
      "7751 Могилевская область КАТ [] (0, 18)\n",
      "7992 Могилевская область Х [] (0, 18)\n",
      "8329 Могилевская область С ['Могилевская область', 'Могилевская область', 'Могилевская область', 'Могилевская область'] (4, 18)\n",
      "8730 Витебская область КПВ [] (0, 18)\n",
      "9263 Витебская область КЕВ [] (0, 18)\n"
     ]
    }
   ],
   "source": [
    "result = []\n",
    "for i in range(df.shape[0]):\n",
    "    row = df.iloc[i]\n",
    "    \n",
    "    for code in row[\"informators\"]:\n",
    "        code = code.strip().strip(\".\")\n",
    "        if code == \"???\":\n",
    "            continue\n",
    "        infs = informators[informators[\"инициалы\"] == code]\n",
    "        if infs.shape[0] != 1:\n",
    "#             print(code)\n",
    "            infs = infs[infs[\"region\"] == row[\"region\"]]\n",
    "            if infs.shape[0] != 1:\n",
    "                print(row[\"id\"], row[\"region\"], code, infs[\"region\"].tolist(), infs.shape)\n",
    "            else:\n",
    "                result.append((row[\"id\"], infs[\"db_name\"].values[0]))"
   ]
  },
  {
   "cell_type": "code",
   "execution_count": 574,
   "metadata": {},
   "outputs": [],
   "source": [
    "new_informators = informators[(informators[\"id\"].isna()) & (informators[\"region\"] != \"Псковская область\")]"
   ]
  },
  {
   "cell_type": "code",
   "execution_count": 298,
   "metadata": {},
   "outputs": [],
   "source": [
    "new_informators = new_informators[[\"инициалы\", \"ФИО\", \"region\", \"ditrict\", \"village\", \"порядковый номер информанта\", \"биография\"]]"
   ]
  },
  {
   "cell_type": "code",
   "execution_count": 301,
   "metadata": {},
   "outputs": [],
   "source": [
    "cur.executemany(\"INSERT INTO informators (code, name, current_region, current_district, current_village, old_id, bio) VALUES (%s, %s, %s, %s, %s, %s, %s)\", new_informators.values.tolist())\n",
    "con.commit()"
   ]
  },
  {
   "cell_type": "code",
   "execution_count": 575,
   "metadata": {},
   "outputs": [],
   "source": [
    "dbinf = pd.read_sql_query(\"SELECT id, code, name, current_region FROM informators\", con=con)"
   ]
  },
  {
   "cell_type": "code",
   "execution_count": 594,
   "metadata": {},
   "outputs": [
    {
     "name": "stdout",
     "output_type": "stream",
     "text": [
      "7669 Смоленская область СМТ [] (0, 4)\n",
      "7670 Смоленская область СМТ [] (0, 4)\n",
      "7671 Смоленская область СМТ [] (0, 4)\n",
      "7672 Смоленская область СМТ [] (0, 4)\n",
      "7673 Смоленская область СМТ [] (0, 4)\n",
      "7674 Смоленская область СМТ [] (0, 4)\n",
      "7675 Смоленская область СМТ [] (0, 4)\n",
      "7676 Смоленская область СМТ [] (0, 4)\n",
      "7677 Смоленская область СМТ [] (0, 4)\n",
      "7678 Смоленская область СМТ [] (0, 4)\n",
      "7679 Смоленская область СМТ [] (0, 4)\n",
      "7680 Смоленская область СМТ [] (0, 4)\n",
      "7681 Смоленская область СМТ [] (0, 4)\n",
      "7682 Смоленская область СМТ [] (0, 4)\n",
      "7683 Смоленская область СМТ [] (0, 4)\n",
      "7684 Смоленская область СМТ [] (0, 4)\n",
      "7685 Смоленская область СМТ [] (0, 4)\n",
      "7686 Смоленская область СМТ [] (0, 4)\n",
      "7687 Смоленская область СМТ [] (0, 4)\n",
      "7725 Смоленская область ВА [] (0, 4)\n",
      "7725 Смоленская область М [] (0, 4)\n",
      "7751 Могилевская область КАТ [] (0, 4)\n",
      "7992 Могилевская область Х [] (0, 4)\n",
      "8329 Могилевская область С ['Могилевская область', 'Могилевская область'] (2, 4)\n",
      "8730 Витебская область КПВ [] (0, 4)\n",
      "9263 Витебская область КЕВ [] (0, 4)\n"
     ]
    }
   ],
   "source": [
    "result = []\n",
    "for i in range(df.shape[0]):\n",
    "    row = df.iloc[i]\n",
    "    \n",
    "    for code in row[\"informators\"]:\n",
    "        code = code.strip().strip(\".\")\n",
    "        if code == \"???\":\n",
    "            continue\n",
    "        infs = dbinf[dbinf[\"code\"] == code]\n",
    "        if infs.shape[0] != 1:\n",
    "#             print(code)\n",
    "            infs = infs[infs[\"current_region\"] == row[\"region\"]]\n",
    "            if infs.shape[0] != 1:\n",
    "                print(row[\"id\"], row[\"region\"], code, infs[\"current_region\"].tolist(), infs.shape)\n",
    "            else:\n",
    "                result.append((row[\"id\"], infs[\"id\"].values[0]))\n",
    "                \n",
    "        else:\n",
    "            result.append((row[\"id\"], infs[\"id\"].values[0]))"
   ]
  },
  {
   "cell_type": "code",
   "execution_count": 595,
   "metadata": {},
   "outputs": [],
   "source": [
    "cur.execute(\"SELECT id_text, id_informator FROM t_i WHERE id_text > 7294\")\n",
    "seen = set(cur.fetchall())"
   ]
  },
  {
   "cell_type": "code",
   "execution_count": 596,
   "metadata": {},
   "outputs": [],
   "source": [
    "result = [(int(i[0]), int(i[1])) for i in result]"
   ]
  },
  {
   "cell_type": "code",
   "execution_count": 597,
   "metadata": {},
   "outputs": [
    {
     "data": {
      "text/plain": [
       "2204"
      ]
     },
     "execution_count": 597,
     "metadata": {},
     "output_type": "execute_result"
    }
   ],
   "source": [
    "result = [i for i in result if i not in seen]\n",
    "len(result)"
   ]
  },
  {
   "cell_type": "code",
   "execution_count": 599,
   "metadata": {},
   "outputs": [],
   "source": [
    "# result"
   ]
  },
  {
   "cell_type": "code",
   "execution_count": 600,
   "metadata": {},
   "outputs": [],
   "source": [
    "cur.executemany(\"INSERT INTO t_i (id_text, id_informator) VALUES (%s, %s)\", result)\n",
    "con.commit()"
   ]
  },
  {
   "cell_type": "code",
   "execution_count": 314,
   "metadata": {},
   "outputs": [],
   "source": [
    "# СМТ\n",
    "\n",
    "# 7669, 7670, 7671, 7672, 7673, 7674, 7675, 7676, 7677, 7678, 7679, 7680, 7681, 7682, 7683, 7684, 7685, 7686, 7687 \n",
    "\n",
    "# (7751, КАТ)\n",
    "# (7992, Х)\n",
    "# (8329, С)\n",
    "# (8730, КПВ)\n",
    "# (9263, КЕВ)"
   ]
  },
  {
   "cell_type": "code",
   "execution_count": 315,
   "metadata": {},
   "outputs": [],
   "source": [
    "cur.execute(\"INSERT INTO t_i (id_text, id_informator) VALUES (%s, %s)\", (7725, 466))\n",
    "con.commit()"
   ]
  },
  {
   "cell_type": "markdown",
   "metadata": {},
   "source": [
    "### География"
   ]
  },
  {
   "cell_type": "code",
   "execution_count": 384,
   "metadata": {},
   "outputs": [],
   "source": [
    "geo = df[[\"region\", \"ditrict\", \"village\"]].drop_duplicates().sort_values(by=[\"region\", \"ditrict\", \"village\"])"
   ]
  },
  {
   "cell_type": "code",
   "execution_count": 386,
   "metadata": {},
   "outputs": [],
   "source": [
    "db_villages = pd.read_sql_query(\"SELECT * FROM g_villages WHERE id < 48\", con=con)"
   ]
  },
  {
   "cell_type": "code",
   "execution_count": 387,
   "metadata": {},
   "outputs": [],
   "source": [
    "geo2 = geo.merge(db_villages, left_on=[\"village\"], right_on=[\"village_name\"], how=\"left\")"
   ]
  },
  {
   "cell_type": "code",
   "execution_count": 388,
   "metadata": {},
   "outputs": [],
   "source": [
    "data = geo2[geo2[\"id\"].isna()][[\"region\", \"ditrict\", \"village\"]].values.tolist()"
   ]
  },
  {
   "cell_type": "code",
   "execution_count": 389,
   "metadata": {},
   "outputs": [],
   "source": [
    "# cur.executemany(\"INSERT INTO g_villages (map_region, map_district, village_name) VALUES (%s, %s, %s)\", data)\n",
    "# con.commit()"
   ]
  },
  {
   "cell_type": "code",
   "execution_count": 390,
   "metadata": {},
   "outputs": [],
   "source": [
    "village_district = {\n",
    "    \"Кричев\": \"Кричевский район\",\n",
    "    \"Мстиславль\": \"Мстиславский район\",\n",
    "    \"Себеж\": \"Себежский район\",\n",
    "    \"Велиж\": \"Велижский район\"\n",
    "}"
   ]
  },
  {
   "cell_type": "code",
   "execution_count": 391,
   "metadata": {},
   "outputs": [],
   "source": [
    "geo[\"ditrict\"].loc[geo[geo[\"ditrict\"].isna()][\"ditrict\"].index] = geo[geo[\"ditrict\"].isna()][\"village\"].apply(village_district.get)"
   ]
  },
  {
   "cell_type": "code",
   "execution_count": 392,
   "metadata": {},
   "outputs": [],
   "source": [
    "cur.execute(\"SELECT region_name, id FROM g_regions\")\n",
    "geor = dict(cur.fetchall())\n",
    "\n",
    "cur.execute(\"SELECT district_name, id FROM g_districts\")\n",
    "geod = dict(cur.fetchall())\n",
    "\n",
    "cur.execute(\"SELECT village_name, id FROM g_villages\")\n",
    "geov = dict(cur.fetchall())"
   ]
  },
  {
   "cell_type": "code",
   "execution_count": 393,
   "metadata": {},
   "outputs": [],
   "source": [
    "geo[\"reg\"] = geo[\"region\"].apply(geor.get)\n",
    "geo[\"dis\"] = geo[\"ditrict\"].apply(geod.get)\n",
    "geo[\"vil\"] = geo[\"village\"].apply(geov.get)"
   ]
  },
  {
   "cell_type": "code",
   "execution_count": 398,
   "metadata": {},
   "outputs": [],
   "source": [
    "# cur.executemany(\"INSERT INTO g_geo_text (id_region, id_district, id_village) VALUES (%s, %s, %s)\", geo[[\"reg\", \"dis\", \"vil\"]].values.tolist())\n",
    "# con.commit()"
   ]
  },
  {
   "cell_type": "code",
   "execution_count": 404,
   "metadata": {},
   "outputs": [
    {
     "data": {
      "text/html": [
       "<div>\n",
       "<style scoped>\n",
       "    .dataframe tbody tr th:only-of-type {\n",
       "        vertical-align: middle;\n",
       "    }\n",
       "\n",
       "    .dataframe tbody tr th {\n",
       "        vertical-align: top;\n",
       "    }\n",
       "\n",
       "    .dataframe thead th {\n",
       "        text-align: right;\n",
       "    }\n",
       "</style>\n",
       "<table border=\"1\" class=\"dataframe\">\n",
       "  <thead>\n",
       "    <tr style=\"text-align: right;\">\n",
       "      <th></th>\n",
       "      <th>id_village</th>\n",
       "      <th>id</th>\n",
       "    </tr>\n",
       "  </thead>\n",
       "  <tbody>\n",
       "    <tr>\n",
       "      <th>0</th>\n",
       "      <td>1</td>\n",
       "      <td>1</td>\n",
       "    </tr>\n",
       "    <tr>\n",
       "      <th>1</th>\n",
       "      <td>2</td>\n",
       "      <td>2</td>\n",
       "    </tr>\n",
       "    <tr>\n",
       "      <th>2</th>\n",
       "      <td>3</td>\n",
       "      <td>3</td>\n",
       "    </tr>\n",
       "    <tr>\n",
       "      <th>3</th>\n",
       "      <td>4</td>\n",
       "      <td>4</td>\n",
       "    </tr>\n",
       "    <tr>\n",
       "      <th>4</th>\n",
       "      <td>5</td>\n",
       "      <td>5</td>\n",
       "    </tr>\n",
       "    <tr>\n",
       "      <th>...</th>\n",
       "      <td>...</td>\n",
       "      <td>...</td>\n",
       "    </tr>\n",
       "    <tr>\n",
       "      <th>70</th>\n",
       "      <td>74</td>\n",
       "      <td>110</td>\n",
       "    </tr>\n",
       "    <tr>\n",
       "      <th>71</th>\n",
       "      <td>75</td>\n",
       "      <td>111</td>\n",
       "    </tr>\n",
       "    <tr>\n",
       "      <th>72</th>\n",
       "      <td>76</td>\n",
       "      <td>112</td>\n",
       "    </tr>\n",
       "    <tr>\n",
       "      <th>73</th>\n",
       "      <td>77</td>\n",
       "      <td>113</td>\n",
       "    </tr>\n",
       "    <tr>\n",
       "      <th>74</th>\n",
       "      <td>78</td>\n",
       "      <td>114</td>\n",
       "    </tr>\n",
       "  </tbody>\n",
       "</table>\n",
       "<p>75 rows × 2 columns</p>\n",
       "</div>"
      ],
      "text/plain": [
       "    id_village   id\n",
       "0            1    1\n",
       "1            2    2\n",
       "2            3    3\n",
       "3            4    4\n",
       "4            5    5\n",
       "..         ...  ...\n",
       "70          74  110\n",
       "71          75  111\n",
       "72          76  112\n",
       "73          77  113\n",
       "74          78  114\n",
       "\n",
       "[75 rows x 2 columns]"
      ]
     },
     "execution_count": 404,
     "metadata": {},
     "output_type": "execute_result"
    }
   ],
   "source": [
    "geo_text = pd.read_sql_query(\"SELECT id_village, id FROM g_geo_text\", con=con)\n",
    "geo_text"
   ]
  },
  {
   "cell_type": "code",
   "execution_count": 413,
   "metadata": {},
   "outputs": [],
   "source": [
    "# df.merge(geo)"
   ]
  },
  {
   "cell_type": "code",
   "execution_count": 526,
   "metadata": {},
   "outputs": [],
   "source": [
    "# geo"
   ]
  },
  {
   "cell_type": "code",
   "execution_count": 421,
   "metadata": {},
   "outputs": [],
   "source": [
    "text_to_geo = df.merge(geo, how=\"left\", left_on=[\"village\"], right_on=[\"village\"]).merge(geo_text, how=\"left\", left_on=[\"vil\"], right_on=[\"id_village\"])[[\"id_y\", \"id_x\"]]"
   ]
  },
  {
   "cell_type": "code",
   "execution_count": 423,
   "metadata": {},
   "outputs": [],
   "source": [
    "cur.executemany(\"UPDATE texts SET geo_id = %s WHERE id = %s\", text_to_geo.dropna().values.tolist())\n",
    "con.commit()"
   ]
  },
  {
   "cell_type": "code",
   "execution_count": 424,
   "metadata": {},
   "outputs": [
    {
     "data": {
      "text/html": [
       "<div>\n",
       "<style scoped>\n",
       "    .dataframe tbody tr th:only-of-type {\n",
       "        vertical-align: middle;\n",
       "    }\n",
       "\n",
       "    .dataframe tbody tr th {\n",
       "        vertical-align: top;\n",
       "    }\n",
       "\n",
       "    .dataframe thead th {\n",
       "        text-align: right;\n",
       "    }\n",
       "</style>\n",
       "<table border=\"1\" class=\"dataframe\">\n",
       "  <thead>\n",
       "    <tr style=\"text-align: right;\">\n",
       "      <th></th>\n",
       "      <th>id_y</th>\n",
       "      <th>id_x</th>\n",
       "    </tr>\n",
       "  </thead>\n",
       "  <tbody>\n",
       "    <tr>\n",
       "      <th>0</th>\n",
       "      <td>110</td>\n",
       "      <td>7295</td>\n",
       "    </tr>\n",
       "    <tr>\n",
       "      <th>1</th>\n",
       "      <td>110</td>\n",
       "      <td>7296</td>\n",
       "    </tr>\n",
       "    <tr>\n",
       "      <th>2</th>\n",
       "      <td>114</td>\n",
       "      <td>7297</td>\n",
       "    </tr>\n",
       "    <tr>\n",
       "      <th>3</th>\n",
       "      <td>114</td>\n",
       "      <td>7298</td>\n",
       "    </tr>\n",
       "    <tr>\n",
       "      <th>4</th>\n",
       "      <td>114</td>\n",
       "      <td>7299</td>\n",
       "    </tr>\n",
       "  </tbody>\n",
       "</table>\n",
       "</div>"
      ],
      "text/plain": [
       "   id_y  id_x\n",
       "0   110  7295\n",
       "1   110  7296\n",
       "2   114  7297\n",
       "3   114  7298\n",
       "4   114  7299"
      ]
     },
     "execution_count": 424,
     "metadata": {},
     "output_type": "execute_result"
    }
   ],
   "source": [
    "text_to_geo.head()"
   ]
  },
  {
   "cell_type": "markdown",
   "metadata": {},
   "source": [
    "### Ключевые слова"
   ]
  },
  {
   "cell_type": "code",
   "execution_count": 445,
   "metadata": {},
   "outputs": [],
   "source": [
    "mapping = {\n",
    "    \"смерть\": \"жизнь-смерть\",\n",
    "    \"нечистая сила\": \"демонология\",\n",
    "    \"непогода\": \"погода\",\n",
    "    \"угол дома\": \"угол\",\n",
    "    \"прозвища\": \"прозвище\",\n",
    "    \"предметы-обереги\": \"обереги\",\n",
    "    \"потоп\": \"всемирный потоп\",\n",
    "    \"коляда\": \"колядование\",\n",
    "    \"сказки\": \"сказка\",\n",
    "    \"новый\": \"новый-старый\",\n",
    "    \"инородец\": [\"народ\", \"свой-чужой\"], # \n",
    "    \"птица\": \"птицы\",\n",
    "    \"шитье\": \"шить\",\n",
    "    \"новобрачные\": \"молодожены\",\n",
    "    \"иноверец\": [\"вера\", \"свой-чужой\"], # \n",
    "    \"доля\": \"судьба\",\n",
    "    \"гадание\": \"гадания\",\n",
    "    \"булочка\": \"хлеб\",\n",
    "    \"язык\": \"язык (орган)\",\n",
    "    \"руки\": \"рука\",\n",
    "    \"рыбы\": \"рыба\",\n",
    "    \"терять–находить\": \"терять-находить\",\n",
    "    \"кол\": \"колдун\",\n",
    "    \"предания.\": \"предания\",\n",
    "    \"книг\": \"книга\",\n",
    "    \"молодой-ста\": \"молодой-старый\",\n",
    "    \"конец петра и павла день\": [\"конец\", \"петра и павла день\"],\n",
    "    \"животные\": \"животное\",\n",
    "    \"михаил св.\": \"михаила день\",\n",
    "    \"свадебный поезд\": \"поезд свадебный\",\n",
    "    \"козел\": \"коза\",\n",
    "    \"крещенье (календ.)\": \"крещенье (праздник)\",\n",
    "    \"старый-новый\": \"новый-старый\",\n",
    "    \"ласка\": \"ласка (зверь)\",\n",
    "    \"легенда\": \"легенды\",\n",
    "    \"освящать\": \"освящение\",\n",
    "    \"застолье\": \"еда\",\n",
    "    \"закрытый\": \"открытый-закрытый\",\n",
    "    \"знамение\": \"знак-знамение\",\n",
    "    \"правы-левый\": \"правый-левый\",\n",
    "    \"границы\": \"граница\",\n",
    "    \"хозяин\": \"хозяин-хозяйка\",\n",
    "    \"умываться\": \"умывание\"\n",
    "}"
   ]
  },
  {
   "cell_type": "code",
   "execution_count": 446,
   "metadata": {},
   "outputs": [],
   "source": [
    "cur.execute(\"SELECT word, id FROM keywords\")\n",
    "dbkeywords = {word.lower().strip(): i for word, i in cur.fetchall()}"
   ]
  },
  {
   "cell_type": "code",
   "execution_count": 448,
   "metadata": {},
   "outputs": [
    {
     "name": "stdout",
     "output_type": "stream",
     "text": [
      "воскрес\n",
      "пещера\n",
      "пещера\n",
      "огурец\n",
      "май\n",
      "зелень\n",
      "лопата\n",
      "\n",
      "кожа\n",
      "\n",
      "звон\n",
      "муравейник\n",
      "удавленник\n",
      "полнолуние\n",
      "кожа\n",
      "смола\n",
      "звон\n",
      "звон\n",
      "звон\n",
      "звон\n",
      "звон\n",
      "звон\n"
     ]
    }
   ],
   "source": [
    "result = []\n",
    "for idx, row in df[[\"id\", \"keywords\"]].values:\n",
    "    for word in row:\n",
    "        if word in dbkeywords:\n",
    "            result.append((idx, dbkeywords[word]))\n",
    "        elif word in mapping:\n",
    "            if type(mapping[word]) == list:\n",
    "                for w in mapping[word]:\n",
    "                    result.append((idx, dbkeywords[w]))\n",
    "            else:\n",
    "                result.append((idx, dbkeywords[mapping[word]]))\n",
    "        else:\n",
    "            print(word)"
   ]
  },
  {
   "cell_type": "code",
   "execution_count": 450,
   "metadata": {},
   "outputs": [],
   "source": [
    "cur.executemany(\"INSERT INTO t_k (id_text, id_keyword) VALUES (%s, %s)\", result)\n",
    "con.commit()"
   ]
  },
  {
   "cell_type": "markdown",
   "metadata": {},
   "source": [
    "### Доработка по информантам"
   ]
  },
  {
   "cell_type": "code",
   "execution_count": 452,
   "metadata": {},
   "outputs": [],
   "source": [
    "df = pd.read_sql_query(\"SELECT * FROM informators WHERE id > 445\", con=con)"
   ]
  },
  {
   "cell_type": "code",
   "execution_count": 465,
   "metadata": {},
   "outputs": [],
   "source": [
    "from pymystem3 import Mystem\n",
    "m = Mystem()\n",
    "\n",
    "def g_name(name):\n",
    "    global m\n",
    "    name = re.sub(\"\\(.*?\\)\", \" \", name)\n",
    "    res = m.analyze(name)\n",
    "    fem, mal = 0, 0\n",
    "    if len(res) == 6:\n",
    "        res = res[2:]\n",
    "    for i in res:\n",
    "        if 'analysis' in i:\n",
    "            try:\n",
    "                if ',жен,' in i['analysis'][0]['gr']:\n",
    "                    fem += 1\n",
    "                elif ',муж,' in i['analysis'][0]['gr']:\n",
    "                    mal += 1\n",
    "            except:\n",
    "                pass\n",
    "    if fem > 0 and mal == 0:\n",
    "        return 'f'\n",
    "    elif fem == 0 and mal > 0:\n",
    "        return 'm'\n",
    "    else:\n",
    "        return None"
   ]
  },
  {
   "cell_type": "code",
   "execution_count": 466,
   "metadata": {},
   "outputs": [],
   "source": [
    "df[\"gender\"] = df[\"name\"].apply(g_name)"
   ]
  },
  {
   "cell_type": "code",
   "execution_count": 476,
   "metadata": {},
   "outputs": [],
   "source": [
    "def get_year(bio):\n",
    "    years = re.findall(\"([0-9]{4}) +г. *р.\", bio[:20])\n",
    "    if years:\n",
    "        return int(years[0])\n",
    "    else:\n",
    "        return None"
   ]
  },
  {
   "cell_type": "code",
   "execution_count": 477,
   "metadata": {},
   "outputs": [],
   "source": [
    "df[\"birth_year\"] = df[\"bio\"].apply(get_year)"
   ]
  },
  {
   "cell_type": "code",
   "execution_count": 497,
   "metadata": {},
   "outputs": [],
   "source": [
    "geo_dict = dict({v: (d, r) for r, d, v in geo[[\"region\", \"ditrict\", \"village\"]].values})"
   ]
  },
  {
   "cell_type": "code",
   "execution_count": 502,
   "metadata": {},
   "outputs": [
    {
     "name": "stderr",
     "output_type": "stream",
     "text": [
      "/home/dkbrz/.local/lib/python3.8/site-packages/pandas/core/indexing.py:1732: SettingWithCopyWarning: \n",
      "A value is trying to be set on a copy of a slice from a DataFrame\n",
      "\n",
      "See the caveats in the documentation: https://pandas.pydata.org/pandas-docs/stable/user_guide/indexing.html#returning-a-view-versus-a-copy\n",
      "  self._setitem_single_block(indexer, value, name)\n"
     ]
    }
   ],
   "source": [
    "df[\"current_district\"].loc[df[\"current_district\"].isna()] = df[\"current_village\"].loc[df[\"current_district\"].isna()].apply(lambda x: geo_dict.get(x, [None, None])[0])"
   ]
  },
  {
   "cell_type": "code",
   "execution_count": 513,
   "metadata": {},
   "outputs": [],
   "source": [
    "import numpy as np"
   ]
  },
  {
   "cell_type": "code",
   "execution_count": 524,
   "metadata": {},
   "outputs": [],
   "source": [
    "df2 = df[[\"gender\", \"birth_year\", \"current_district\", \"id\"]]\n",
    "df2 = df2.replace({np.nan: None})"
   ]
  },
  {
   "cell_type": "code",
   "execution_count": 525,
   "metadata": {},
   "outputs": [],
   "source": [
    "cur.executemany(\n",
    "    \"UPDATE informators SET gender = %s, birth_year = %s, current_district = %s WHERE id = %s\", \n",
    "    df2.values.tolist()\n",
    ")\n",
    "con.commit()"
   ]
  },
  {
   "cell_type": "code",
   "execution_count": 527,
   "metadata": {},
   "outputs": [],
   "source": [
    "cur.execute(\"\"\"SELECT 2015, texts.id FROM texts\n",
    "JOIN g_geo_text ON g_geo_text.id = texts.geo_id\n",
    "JOIN g_villages ON g_geo_text.id_village = g_villages.id\n",
    "WHERE texts.id > 7294 AND texts.id < 9343 AND year = 2016\"\"\")\n",
    "ids = cur.fetchall()"
   ]
  },
  {
   "cell_type": "code",
   "execution_count": null,
   "metadata": {},
   "outputs": [],
   "source": []
  },
  {
   "cell_type": "code",
   "execution_count": 530,
   "metadata": {},
   "outputs": [],
   "source": [
    "cur.executemany(\"UPDATE texts SET year = %s WHERE id = %s\", ids)\n",
    "con.commit()"
   ]
  },
  {
   "cell_type": "code",
   "execution_count": null,
   "metadata": {},
   "outputs": [],
   "source": []
  },
  {
   "cell_type": "code",
   "execution_count": 533,
   "metadata": {},
   "outputs": [
    {
     "data": {
      "text/html": [
       "<div>\n",
       "<style scoped>\n",
       "    .dataframe tbody tr th:only-of-type {\n",
       "        vertical-align: middle;\n",
       "    }\n",
       "\n",
       "    .dataframe tbody tr th {\n",
       "        vertical-align: top;\n",
       "    }\n",
       "\n",
       "    .dataframe thead th {\n",
       "        text-align: right;\n",
       "    }\n",
       "</style>\n",
       "<table border=\"1\" class=\"dataframe\">\n",
       "  <thead>\n",
       "    <tr style=\"text-align: right;\">\n",
       "      <th></th>\n",
       "      <th>текст</th>\n",
       "      <th>ключевые слова</th>\n",
       "      <th>программа</th>\n",
       "      <th>вопрос</th>\n",
       "      <th>село</th>\n",
       "      <th>год</th>\n",
       "      <th>информант</th>\n",
       "      <th>информант2</th>\n",
       "      <th>информант3</th>\n",
       "      <th>информант4</th>\n",
       "      <th>собиратель</th>\n",
       "      <th>собиратель2</th>\n",
       "      <th>собиратель3</th>\n",
       "      <th>собиратель4</th>\n",
       "      <th>номер</th>\n",
       "    </tr>\n",
       "  </thead>\n",
       "  <tbody>\n",
       "    <tr>\n",
       "      <th>0</th>\n",
       "      <td>[А что за старичок, к которому вы водили мужа?...</td>\n",
       "      <td>Ребенок, Демонология, Говорить, Болезнь, Медиц...</td>\n",
       "      <td>XIII</td>\n",
       "      <td>9 а</td>\n",
       "      <td>Смоленская обл., Велижский р-н, Погорелье</td>\n",
       "      <td>2013</td>\n",
       "      <td>БТМ</td>\n",
       "      <td>NaN</td>\n",
       "      <td>NaN</td>\n",
       "      <td>NaN</td>\n",
       "      <td>НВП</td>\n",
       "      <td>АБМ</td>\n",
       "      <td>ОВБ</td>\n",
       "      <td>ПН</td>\n",
       "      <td>1</td>\n",
       "    </tr>\n",
       "  </tbody>\n",
       "</table>\n",
       "</div>"
      ],
      "text/plain": [
       "                                               текст  \\\n",
       "0  [А что за старичок, к которому вы водили мужа?...   \n",
       "\n",
       "                                      ключевые слова программа вопрос  \\\n",
       "0  Ребенок, Демонология, Говорить, Болезнь, Медиц...      XIII    9 а   \n",
       "\n",
       "                                        село   год информант информант2  \\\n",
       "0  Смоленская обл., Велижский р-н, Погорелье  2013       БТМ        NaN   \n",
       "\n",
       "  информант3 информант4 собиратель собиратель2 собиратель3 собиратель4  номер  \n",
       "0        NaN        NaN        НВП         АБМ         ОВБ          ПН      1  "
      ]
     },
     "execution_count": 533,
     "metadata": {},
     "output_type": "execute_result"
    }
   ],
   "source": [
    "cards = pd.read_csv(\"./data/undone/tblCards.csv\").drop([\"аннотация\", \"термины\", \"zvuk\", \"zvuk2\", \"photo\", \"photo2\"], axis=1)\n",
    "cards.head(1)"
   ]
  },
  {
   "cell_type": "code",
   "execution_count": 534,
   "metadata": {},
   "outputs": [],
   "source": [
    "cards[\"txtlen\"] = cards[\"текст\"].apply(len)"
   ]
  },
  {
   "cell_type": "code",
   "execution_count": 536,
   "metadata": {},
   "outputs": [
    {
     "data": {
      "text/html": [
       "<div>\n",
       "<style scoped>\n",
       "    .dataframe tbody tr th:only-of-type {\n",
       "        vertical-align: middle;\n",
       "    }\n",
       "\n",
       "    .dataframe tbody tr th {\n",
       "        vertical-align: top;\n",
       "    }\n",
       "\n",
       "    .dataframe thead th {\n",
       "        text-align: right;\n",
       "    }\n",
       "</style>\n",
       "<table border=\"1\" class=\"dataframe\">\n",
       "  <thead>\n",
       "    <tr style=\"text-align: right;\">\n",
       "      <th></th>\n",
       "      <th>текст</th>\n",
       "      <th>ключевые слова</th>\n",
       "      <th>программа</th>\n",
       "      <th>вопрос</th>\n",
       "      <th>село</th>\n",
       "      <th>год</th>\n",
       "      <th>информант</th>\n",
       "      <th>информант2</th>\n",
       "      <th>информант3</th>\n",
       "      <th>информант4</th>\n",
       "      <th>собиратель</th>\n",
       "      <th>собиратель2</th>\n",
       "      <th>собиратель3</th>\n",
       "      <th>собиратель4</th>\n",
       "      <th>номер</th>\n",
       "      <th>txtlen</th>\n",
       "    </tr>\n",
       "  </thead>\n",
       "  <tbody>\n",
       "    <tr>\n",
       "      <th>468</th>\n",
       "      <td>[До этого рассказывали, что редко собираются, ...</td>\n",
       "      <td>Растения, Родство, Свой-чужой, Давать-брать, П...</td>\n",
       "      <td>ХXIa</td>\n",
       "      <td>9 а, г, 2 а, б</td>\n",
       "      <td>Могилевская обл., Кричевский р-н, Ивановка</td>\n",
       "      <td>2014</td>\n",
       "      <td>АНИ</td>\n",
       "      <td>РАВ</td>\n",
       "      <td>КРИ</td>\n",
       "      <td>РНП</td>\n",
       "      <td>НВП</td>\n",
       "      <td>ОВБ</td>\n",
       "      <td>СНА</td>\n",
       "      <td>КВА</td>\n",
       "      <td>469</td>\n",
       "      <td>9966</td>\n",
       "    </tr>\n",
       "    <tr>\n",
       "      <th>411</th>\n",
       "      <td>[А на Крещение не гадали?]\\r\\n[ВТП:] Гада\\ли.\\...</td>\n",
       "      <td>Пространство, Дом, Праздники, Время, Календарь...</td>\n",
       "      <td>IVa</td>\n",
       "      <td>1 а, б, 8 б, а,</td>\n",
       "      <td>Будница, Велижский р-н, Смоленская обл.</td>\n",
       "      <td>2013</td>\n",
       "      <td>ВАМ</td>\n",
       "      <td>ВТП</td>\n",
       "      <td>ГЕА</td>\n",
       "      <td>NaN</td>\n",
       "      <td>АБМ</td>\n",
       "      <td>ОВБ</td>\n",
       "      <td>ВК</td>\n",
       "      <td>NaN</td>\n",
       "      <td>412</td>\n",
       "      <td>9836</td>\n",
       "    </tr>\n",
       "    <tr>\n",
       "      <th>850</th>\n",
       "      <td>[ТММ сама рассказывает после того, как КНД рас...</td>\n",
       "      <td>Пространство, Праздники, Время, Календарь, Сем...</td>\n",
       "      <td>IIIa</td>\n",
       "      <td>9 а, б</td>\n",
       "      <td>Могилевская обл., Кричевский р-н, Лобковичи</td>\n",
       "      <td>2014</td>\n",
       "      <td>КНД</td>\n",
       "      <td>ТММ</td>\n",
       "      <td>NaN</td>\n",
       "      <td>NaN</td>\n",
       "      <td>КВА</td>\n",
       "      <td>СНА</td>\n",
       "      <td>NaN</td>\n",
       "      <td>NaN</td>\n",
       "      <td>851</td>\n",
       "      <td>9723</td>\n",
       "    </tr>\n",
       "    <tr>\n",
       "      <th>854</th>\n",
       "      <td>[После общих рассуждений, что везде свои обряд...</td>\n",
       "      <td>Пространство, Дом, Праздники, Время, Календарь...</td>\n",
       "      <td>IVa</td>\n",
       "      <td>5 а, б</td>\n",
       "      <td>Могилевская обл., Кричевский р-н, Лобковичи</td>\n",
       "      <td>2014</td>\n",
       "      <td>КНД</td>\n",
       "      <td>ТММ</td>\n",
       "      <td>NaN</td>\n",
       "      <td>NaN</td>\n",
       "      <td>КВА</td>\n",
       "      <td>СНА</td>\n",
       "      <td>NaN</td>\n",
       "      <td>NaN</td>\n",
       "      <td>855</td>\n",
       "      <td>9714</td>\n",
       "    </tr>\n",
       "    <tr>\n",
       "      <th>464</th>\n",
       "      <td>[До этого рассказывали про то, что в день отел...</td>\n",
       "      <td>Пространство, Дом, Запреты, Демонология, Тело ...</td>\n",
       "      <td>ХIII</td>\n",
       "      <td>8 а, б, 9 а, г, д</td>\n",
       "      <td>Могилевская обл., Кричевский р-н, Ивановка</td>\n",
       "      <td>2014</td>\n",
       "      <td>АНИ</td>\n",
       "      <td>РАВ</td>\n",
       "      <td>КРИ</td>\n",
       "      <td>КТА</td>\n",
       "      <td>НВП</td>\n",
       "      <td>ОВБ</td>\n",
       "      <td>СНА</td>\n",
       "      <td>КВА</td>\n",
       "      <td>465</td>\n",
       "      <td>9697</td>\n",
       "    </tr>\n",
       "    <tr>\n",
       "      <th>...</th>\n",
       "      <td>...</td>\n",
       "      <td>...</td>\n",
       "      <td>...</td>\n",
       "      <td>...</td>\n",
       "      <td>...</td>\n",
       "      <td>...</td>\n",
       "      <td>...</td>\n",
       "      <td>...</td>\n",
       "      <td>...</td>\n",
       "      <td>...</td>\n",
       "      <td>...</td>\n",
       "      <td>...</td>\n",
       "      <td>...</td>\n",
       "      <td>...</td>\n",
       "      <td>...</td>\n",
       "      <td>...</td>\n",
       "    </tr>\n",
       "    <tr>\n",
       "      <th>1753</th>\n",
       "      <td>[На месте пожара нельзя строить дом. См. XV-12 б]</td>\n",
       "      <td>Пространство, Дом, Запреты, Огонь, Строительны...</td>\n",
       "      <td>IX</td>\n",
       "      <td>1 а</td>\n",
       "      <td>Витебская обл., Россонский р-н, Хотьково</td>\n",
       "      <td>2015</td>\n",
       "      <td>КМС</td>\n",
       "      <td>NaN</td>\n",
       "      <td>NaN</td>\n",
       "      <td>NaN</td>\n",
       "      <td>АБМ</td>\n",
       "      <td>КВА</td>\n",
       "      <td>СНА</td>\n",
       "      <td>ОФ</td>\n",
       "      <td>1754</td>\n",
       "      <td>49</td>\n",
       "    </tr>\n",
       "    <tr>\n",
       "      <th>1978</th>\n",
       "      <td>[На Купалу люди умывались росой – см. XIII-9 а]</td>\n",
       "      <td>Праздники, Календарь, Лето, Иван Купала, Умывание</td>\n",
       "      <td>VIa</td>\n",
       "      <td>6 б</td>\n",
       "      <td>Витебская обл., Россонский р-н, Амосенки</td>\n",
       "      <td>2016</td>\n",
       "      <td>РНЕ</td>\n",
       "      <td>РМФ</td>\n",
       "      <td>NaN</td>\n",
       "      <td>NaN</td>\n",
       "      <td>АБМ</td>\n",
       "      <td>НВП</td>\n",
       "      <td>NaN</td>\n",
       "      <td>NaN</td>\n",
       "      <td>1979</td>\n",
       "      <td>47</td>\n",
       "    </tr>\n",
       "    <tr>\n",
       "      <th>1955</th>\n",
       "      <td>[На Егорьев день выгоняли скот – см. VIII-14 a]</td>\n",
       "      <td>Праздники, Календарь, Скот, Скотоводство, Весн...</td>\n",
       "      <td>Va</td>\n",
       "      <td>12</td>\n",
       "      <td>Витебская обл., Россонский р-н, Амосенки</td>\n",
       "      <td>2016</td>\n",
       "      <td>РМФ</td>\n",
       "      <td>РНЕ</td>\n",
       "      <td>NaN</td>\n",
       "      <td>NaN</td>\n",
       "      <td>АБМ</td>\n",
       "      <td>НВП</td>\n",
       "      <td>NaN</td>\n",
       "      <td>NaN</td>\n",
       "      <td>1956</td>\n",
       "      <td>47</td>\n",
       "    </tr>\n",
       "    <tr>\n",
       "      <th>1258</th>\n",
       "      <td>[Трехцветная кошка – хороший знак. См. IX-5 б]</td>\n",
       "      <td>Животное, Хороший-плохой, Приметы, Знак-знамен...</td>\n",
       "      <td>XVII</td>\n",
       "      <td>13 в</td>\n",
       "      <td>Витебская обл., Россонский р-н, Краснополье</td>\n",
       "      <td>2015</td>\n",
       "      <td>АЛФ</td>\n",
       "      <td>NaN</td>\n",
       "      <td>NaN</td>\n",
       "      <td>NaN</td>\n",
       "      <td>АБМ</td>\n",
       "      <td>КВА</td>\n",
       "      <td>NaN</td>\n",
       "      <td>NaN</td>\n",
       "      <td>1259</td>\n",
       "      <td>46</td>\n",
       "    </tr>\n",
       "    <tr>\n",
       "      <th>1447</th>\n",
       "      <td>[Прощаясь с собирателями:] Иди\\те с Бо\\гом.</td>\n",
       "      <td>Бог, Поговорка, Частушки, Пословица, Благопоже...</td>\n",
       "      <td>XXIa</td>\n",
       "      <td>2 а</td>\n",
       "      <td>Витебская обл., Россонский р-н, Шилово</td>\n",
       "      <td>2015</td>\n",
       "      <td>КВП</td>\n",
       "      <td>NaN</td>\n",
       "      <td>NaN</td>\n",
       "      <td>NaN</td>\n",
       "      <td>ПН</td>\n",
       "      <td>ОФ</td>\n",
       "      <td>NaN</td>\n",
       "      <td>NaN</td>\n",
       "      <td>1448</td>\n",
       "      <td>43</td>\n",
       "    </tr>\n",
       "  </tbody>\n",
       "</table>\n",
       "<p>2100 rows × 16 columns</p>\n",
       "</div>"
      ],
      "text/plain": [
       "                                                  текст  \\\n",
       "468   [До этого рассказывали, что редко собираются, ...   \n",
       "411   [А на Крещение не гадали?]\\r\\n[ВТП:] Гада\\ли.\\...   \n",
       "850   [ТММ сама рассказывает после того, как КНД рас...   \n",
       "854   [После общих рассуждений, что везде свои обряд...   \n",
       "464   [До этого рассказывали про то, что в день отел...   \n",
       "...                                                 ...   \n",
       "1753  [На месте пожара нельзя строить дом. См. XV-12 б]   \n",
       "1978    [На Купалу люди умывались росой – см. XIII-9 а]   \n",
       "1955    [На Егорьев день выгоняли скот – см. VIII-14 a]   \n",
       "1258     [Трехцветная кошка – хороший знак. См. IX-5 б]   \n",
       "1447        [Прощаясь с собирателями:] Иди\\те с Бо\\гом.   \n",
       "\n",
       "                                         ключевые слова программа  \\\n",
       "468   Растения, Родство, Свой-чужой, Давать-брать, П...      ХXIa   \n",
       "411   Пространство, Дом, Праздники, Время, Календарь...       IVa   \n",
       "850   Пространство, Праздники, Время, Календарь, Сем...      IIIa   \n",
       "854   Пространство, Дом, Праздники, Время, Календарь...       IVa   \n",
       "464   Пространство, Дом, Запреты, Демонология, Тело ...      ХIII   \n",
       "...                                                 ...       ...   \n",
       "1753  Пространство, Дом, Запреты, Огонь, Строительны...        IX   \n",
       "1978  Праздники, Календарь, Лето, Иван Купала, Умывание       VIa   \n",
       "1955  Праздники, Календарь, Скот, Скотоводство, Весн...        Va   \n",
       "1258  Животное, Хороший-плохой, Приметы, Знак-знамен...      XVII   \n",
       "1447  Бог, Поговорка, Частушки, Пословица, Благопоже...      XXIa   \n",
       "\n",
       "                 вопрос                                         село   год  \\\n",
       "468      9 а, г, 2 а, б   Могилевская обл., Кричевский р-н, Ивановка  2014   \n",
       "411     1 а, б, 8 б, а,      Будница, Велижский р-н, Смоленская обл.  2013   \n",
       "850              9 а, б  Могилевская обл., Кричевский р-н, Лобковичи  2014   \n",
       "854              5 а, б  Могилевская обл., Кричевский р-н, Лобковичи  2014   \n",
       "464   8 а, б, 9 а, г, д   Могилевская обл., Кричевский р-н, Ивановка  2014   \n",
       "...                 ...                                          ...   ...   \n",
       "1753                1 а     Витебская обл., Россонский р-н, Хотьково  2015   \n",
       "1978                6 б     Витебская обл., Россонский р-н, Амосенки  2016   \n",
       "1955                 12     Витебская обл., Россонский р-н, Амосенки  2016   \n",
       "1258               13 в  Витебская обл., Россонский р-н, Краснополье  2015   \n",
       "1447                2 а       Витебская обл., Россонский р-н, Шилово  2015   \n",
       "\n",
       "     информант информант2 информант3 информант4 собиратель собиратель2  \\\n",
       "468        АНИ        РАВ        КРИ        РНП        НВП         ОВБ   \n",
       "411        ВАМ        ВТП        ГЕА        NaN        АБМ         ОВБ   \n",
       "850        КНД        ТММ        NaN        NaN        КВА         СНА   \n",
       "854        КНД        ТММ        NaN        NaN        КВА         СНА   \n",
       "464        АНИ        РАВ        КРИ        КТА        НВП         ОВБ   \n",
       "...        ...        ...        ...        ...        ...         ...   \n",
       "1753       КМС        NaN        NaN        NaN        АБМ         КВА   \n",
       "1978       РНЕ        РМФ        NaN        NaN        АБМ         НВП   \n",
       "1955       РМФ        РНЕ        NaN        NaN        АБМ         НВП   \n",
       "1258       АЛФ        NaN        NaN        NaN        АБМ         КВА   \n",
       "1447       КВП        NaN        NaN        NaN         ПН          ОФ   \n",
       "\n",
       "     собиратель3 собиратель4  номер  txtlen  \n",
       "468          СНА         КВА    469    9966  \n",
       "411           ВК         NaN    412    9836  \n",
       "850          NaN         NaN    851    9723  \n",
       "854          NaN         NaN    855    9714  \n",
       "464          СНА         КВА    465    9697  \n",
       "...          ...         ...    ...     ...  \n",
       "1753         СНА          ОФ   1754      49  \n",
       "1978         NaN         NaN   1979      47  \n",
       "1955         NaN         NaN   1956      47  \n",
       "1258         NaN         NaN   1259      46  \n",
       "1447         NaN         NaN   1448      43  \n",
       "\n",
       "[2100 rows x 16 columns]"
      ]
     },
     "execution_count": 536,
     "metadata": {},
     "output_type": "execute_result"
    }
   ],
   "source": [
    "cards.sort_values(by=\"txtlen\", ascending=False)"
   ]
  }
 ],
 "metadata": {
  "kernelspec": {
   "display_name": "Python 3",
   "language": "python",
   "name": "python3"
  },
  "language_info": {
   "codemirror_mode": {
    "name": "ipython",
    "version": 3
   },
   "file_extension": ".py",
   "mimetype": "text/x-python",
   "name": "python",
   "nbconvert_exporter": "python",
   "pygments_lexer": "ipython3",
   "version": "3.8.10"
  }
 },
 "nbformat": 4,
 "nbformat_minor": 4
}
