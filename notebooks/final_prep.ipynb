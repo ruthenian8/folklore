{
 "cells": [
  {
   "cell_type": "code",
   "execution_count": 1,
   "metadata": {},
   "outputs": [],
   "source": [
    "import pandas as pd\n",
    "import re"
   ]
  },
  {
   "cell_type": "code",
   "execution_count": 2,
   "metadata": {},
   "outputs": [],
   "source": [
    "import mysql.connector\n",
    "db = mysql.connector.connect(user='root', password='password', database='folklore_db')\n",
    "cur = db.cursor()"
   ]
  },
  {
   "cell_type": "code",
   "execution_count": 3,
   "metadata": {},
   "outputs": [],
   "source": [
    "from numpy import nan\n",
    "from collections import namedtuple\n",
    "import time\n",
    "from IPython.display import clear_output\n",
    "\n",
    "from pymystem3 import Mystem\n",
    "m = Mystem()"
   ]
  },
  {
   "cell_type": "markdown",
   "metadata": {},
   "source": [
    "## Zlynkovsk2016-2018"
   ]
  },
  {
   "cell_type": "markdown",
   "metadata": {},
   "source": [
    "### Собиратели"
   ]
  },
  {
   "cell_type": "markdown",
   "metadata": {},
   "source": [
    "```\n",
    "dkbrz@dkbrz:~/GitHub/folklore_corpus$ mdb-export -d \"\\t\" /home/dkbrz/Downloads/Zlynkovsk2016-2018.mdb \"tblCards\" > ./csv/tblCards.csv\n",
    "dkbrz@dkbrz:~/GitHub/folklore_corpus$ mdb-export -d \"\\t\" /home/dkbrz/Downloads/Zlynkovsk2016-2018.mdb \"tblSobirately\" > ./csv/tblSobirately.csv\n",
    "dkbrz@dkbrz:~/GitHub/folklore_corpus$ mdb-export -d \"\\t\" /home/dkbrz/Downloads/Zlynkovsk2016-2018.mdb \"tblKeywords\" > ./csv/tblKeywords.csv\n",
    "dkbrz@dkbrz:~/GitHub/folklore_corpus$ mdb-export -d \"\\t\" /home/dkbrz/Downloads/Zlynkovsk2016-2018.mdb \"tblInformators\" > ./csv/tblInformators.csv\n",
    "```"
   ]
  },
  {
   "cell_type": "code",
   "execution_count": 16,
   "metadata": {},
   "outputs": [
    {
     "data": {
      "text/plain": [
       "OneCollector(old_id=412, code='АБМ', name='Мороз Андрей Борисович')"
      ]
     },
     "execution_count": 16,
     "metadata": {},
     "output_type": "execute_result"
    }
   ],
   "source": [
    "OneCollector = namedtuple('OneCollector', ['old_id', 'code', 'name'])\n",
    "\n",
    "def parse_one_collector(row):\n",
    "    old_id = int(row['Номер'])\n",
    "    code = row['Код собирателя']\n",
    "    name = row['ФИО собирателя']\n",
    "    return OneCollector(old_id, code, name)\n",
    "\n",
    "data = pd.read_csv('./csv/tblSobirately.csv', sep='\\t')\n",
    "parse_one_collector(data.iloc[0])"
   ]
  },
  {
   "cell_type": "code",
   "execution_count": 17,
   "metadata": {},
   "outputs": [],
   "source": [
    "collectors = [parse_one_collector(data.iloc[i]) for i in range(len(data))]"
   ]
  },
  {
   "cell_type": "code",
   "execution_count": 18,
   "metadata": {},
   "outputs": [
    {
     "data": {
      "text/plain": [
       "[OneCollector(old_id=412, code='АБМ', name='Мороз Андрей Борисович'),\n",
       " OneCollector(old_id=413, code='ВК', name='Комарова Вера Андреевна')]"
      ]
     },
     "execution_count": 18,
     "metadata": {},
     "output_type": "execute_result"
    }
   ],
   "source": [
    "collectors[:2]"
   ]
  },
  {
   "cell_type": "code",
   "execution_count": 19,
   "metadata": {},
   "outputs": [
    {
     "name": "stdout",
     "output_type": "stream",
     "text": [
      "412 <class 'int'>\n",
      "АБМ <class 'str'>\n",
      "Мороз Андрей Борисович <class 'str'>\n"
     ]
    }
   ],
   "source": [
    "for i in collectors[0]:\n",
    "    print (i, type(i))"
   ]
  },
  {
   "cell_type": "code",
   "execution_count": 21,
   "metadata": {},
   "outputs": [],
   "source": [
    "cur.executemany('INSERT INTO collectors (old_id, code, name) VALUES (%s, %s, %s)', collectors)\n",
    "db.commit()"
   ]
  },
  {
   "cell_type": "markdown",
   "metadata": {},
   "source": [
    "### Информанты"
   ]
  },
  {
   "cell_type": "code",
   "execution_count": 23,
   "metadata": {},
   "outputs": [
    {
     "data": {
      "text/plain": [
       "OnePerson(old_id=1, code='КГИ', name='Католикова Галина Ивановна', birth_year=1941, gender='f', bio='1941 г.р., род. в с. Рогов. В 1961 г. переехала в д. Кривуша (= Зеленая Роща). С 1971 г. живет в Малых Щербиничах. Работала в колхозе.', current_village='Малые Щербиничи', birth_village='Рогов')"
      ]
     },
     "execution_count": 23,
     "metadata": {},
     "output_type": "execute_result"
    }
   ],
   "source": [
    "OnePerson = namedtuple('OnePerson', ['old_id', 'code', 'name', 'birth_year', 'gender', \n",
    "                                     'bio', 'current_village', 'birth_village'])\n",
    "\n",
    "def g_name(name):\n",
    "    global m\n",
    "    res = m.analyze(name)\n",
    "    fem, mal = 0, 0\n",
    "    if len(res) == 6:\n",
    "        res = res[2:]\n",
    "    for i in res:\n",
    "        if 'analysis' in i:\n",
    "            try:\n",
    "                if ',f,' in i['analysis'][0]['gr']:\n",
    "                    fem += 1\n",
    "                elif ',m,' in i['analysis'][0]['gr']:\n",
    "                    mal += 1\n",
    "            except:\n",
    "                pass\n",
    "    if fem > 0 and mal == 0:\n",
    "        return 'f'\n",
    "    elif fem == 0 and mal > 0:\n",
    "        return 'm'\n",
    "    else:\n",
    "        return None\n",
    "\n",
    "def parse_one_person(row):\n",
    "    old_id = int(row['номер'])\n",
    "    code = row['инициалы']\n",
    "    name = row['ФИО']\n",
    "    \n",
    "    date = re.findall('([0-9]{4}) г..?р.', row['биография'])\n",
    "    if len(date) > 0:\n",
    "        birth_year = int(date[0])\n",
    "    else: \n",
    "        birth_year = None\n",
    "    \n",
    "    gender = g_name(name)\n",
    "    bio = row['биография']\n",
    "    current_village = row['село'].strip()\n",
    "    \n",
    "    birthplace = re.findall('род.? в .{1,4}? (.*?)[.(,]', row['биография'])\n",
    "    if len(birthplace) > 0:\n",
    "        birth_village = birthplace[0].strip()\n",
    "    else: \n",
    "        birth_village = None\n",
    "    return OnePerson(old_id, code, name, birth_year, gender, bio, current_village, birth_village)\n",
    "\n",
    "data = pd.read_csv('./csv/tblInformators.csv', sep='\\t')\n",
    "parse_one_person(data.iloc[0])"
   ]
  },
  {
   "cell_type": "code",
   "execution_count": 24,
   "metadata": {},
   "outputs": [],
   "source": [
    "informators = [parse_one_person(data.iloc[i]) for i in range(len(data))]"
   ]
  },
  {
   "cell_type": "code",
   "execution_count": 25,
   "metadata": {},
   "outputs": [
    {
     "name": "stdout",
     "output_type": "stream",
     "text": [
      "1 <class 'int'>\n",
      "КГИ <class 'str'>\n",
      "Католикова Галина Ивановна <class 'str'>\n",
      "1941 <class 'int'>\n",
      "f <class 'str'>\n",
      "1941 г.р., род. в с. Рогов. В 1961 г. переехала в д. Кривуша (= Зеленая Роща). С 1971 г. живет в Малых Щербиничах. Работала в колхозе. <class 'str'>\n",
      "Малые Щербиничи <class 'str'>\n",
      "Рогов <class 'str'>\n"
     ]
    }
   ],
   "source": [
    "for i in informators[0]:\n",
    "    print (i, type(i))"
   ]
  },
  {
   "cell_type": "code",
   "execution_count": 26,
   "metadata": {},
   "outputs": [],
   "source": [
    "cur.executemany('INSERT INTO informators (old_id, code, name, birth_year, gender, bio, current_village, \\\n",
    "birth_village) VALUES (%s, %s, %s, %s, %s, %s, %s, %s)', informators)\n",
    "db.commit()"
   ]
  },
  {
   "cell_type": "markdown",
   "metadata": {},
   "source": [
    "### Тексты"
   ]
  },
  {
   "cell_type": "code",
   "execution_count": 36,
   "metadata": {},
   "outputs": [
    {
     "data": {
      "text/plain": [
       "OneText(old_id='1', year=2017, leader='АБМ', region='Брянская обл.', district='Злынковский р-н', village='Спиридонова Буда', raw_text='[Шёл разговор о пьющей женщине из Карпиловки, Г назвал её «Ма\\\\ндыка».] [Ма\\\\ндыка?] \\n\\n[Г:] Да. [Что это значит?] \\n\\n[Г, смеясь:] Ну, манды\\\\ка — э\\\\то… \\n\\n[А одновременно:] Коро\\\\че её ёб… \\n\\n[Г:] Все. \\n\\n[А:] Всё село\\\\. \\n\\n[Г:] Да, коро\\\\че… \\n\\n[А:] И… и… и из на\\\\шего, и коро\\\\че там… \\n\\n[Г:] Все подря\\\\д. \\n\\n[А:] Да. \\n\\n[А и Г одновременно:] Кому\\\\ не лень. \\n\\n[А:] Буты\\\\лку на стол, и… [Она пьёт, да?] \\n\\n[Г:] Ну, она\\\\ по-чё\\\\рному пьёт.', keywords=['Водка', 'Плата', 'Питье', 'Девственность', 'Женщина', 'Половой акт', 'Зов', 'Прозвище', 'Имя', 'Дразнить', 'Пьянство', 'Черный цвет', 'Цвет'], question_list='XXIa', questions=['5б'], informators=['А', 'Г'], collectors=['МЭГ', 'НВП', 'СЕ', 'ФЕЕ'])"
      ]
     },
     "execution_count": 36,
     "metadata": {},
     "output_type": "execute_result"
    }
   ],
   "source": [
    "OneText = namedtuple('OneText', ['old_id', 'year', 'leader', 'region', 'district', 'village', 'raw_text', \n",
    "                                 'keywords', 'question_list','questions', 'informators', 'collectors'])\n",
    "\n",
    "def restore_label(label):\n",
    "    label = label.split(',')\n",
    "    result = []\n",
    "    for i in label:\n",
    "        q = re.findall('^([0-9]*)[^0-9a-zа-я]*?([ a-zа-я\\.]*?)$', i.strip())[0]\n",
    "        result.append((q[0].strip(), q[1].strip()))\n",
    "    for key, value in enumerate(result):\n",
    "        if value[0] == '':\n",
    "            result[key] = (result[key-1][0].strip(), value[1].strip())\n",
    "    return [''.join(i) for i in result]\n",
    "\n",
    "def text_prettify(text):\n",
    "    text = text.replace('...','…')\n",
    "    text = re.sub('\\n*?(\\[[^\\[]*?:[^\\[]*?])',r'\\n\\n\\1', text)\n",
    "    return text.strip()\n",
    "\n",
    "def parse_one_row(row):\n",
    "    leader = 'АБМ'\n",
    "    old_id = str(row['номер'])\n",
    "    year = int(row['год'])\n",
    "    raw_text = text_prettify(row['текст'])\n",
    "    region, district, village = tuple([i.strip() for i in row['село'].split(',')])\n",
    "    try:\n",
    "        keywords = [word.strip() for word in row['ключевые слова'].split(',')]\n",
    "    except AttributeError:\n",
    "        keywords = []\n",
    "    question_list = row['программа'].strip()\n",
    "    questions = restore_label(row['вопрос'])\n",
    "    informators = []\n",
    "    for i in row[['информант','информант2','информант3','информант4']].values:\n",
    "        if i is not nan:\n",
    "            for j in i.split(','):\n",
    "                informators.append(j.strip())\n",
    "    collectors = [i for i in row[['собиратель','собиратель2','собиратель3','собиратель4']].values if i is not nan]\n",
    "    return OneText(old_id, year, leader, region, district, village, raw_text, keywords, question_list, questions, informators, collectors)\n",
    "\n",
    "data = pd.read_csv('./csv/tblCards.csv', sep='\\t')\n",
    "parse_one_row(data.iloc[0])"
   ]
  },
  {
   "cell_type": "code",
   "execution_count": 37,
   "metadata": {},
   "outputs": [],
   "source": [
    "for i in range(len(data)):\n",
    "    try:\n",
    "        parse_one_row(data.iloc[i])\n",
    "    except:\n",
    "        print (data.iloc[i]['вопрос'])"
   ]
  },
  {
   "cell_type": "code",
   "execution_count": 38,
   "metadata": {},
   "outputs": [],
   "source": [
    "parsed = [parse_one_row(data.iloc[i]) for i in range(len(data))]"
   ]
  },
  {
   "cell_type": "code",
   "execution_count": 39,
   "metadata": {},
   "outputs": [
    {
     "data": {
      "text/plain": [
       "OneText(old_id='1', year=2017, leader='АБМ', region='Брянская обл.', district='Злынковский р-н', village='Спиридонова Буда', raw_text='[Шёл разговор о пьющей женщине из Карпиловки, Г назвал её «Ма\\\\ндыка».] [Ма\\\\ндыка?] \\n\\n[Г:] Да. [Что это значит?] \\n\\n[Г, смеясь:] Ну, манды\\\\ка — э\\\\то… \\n\\n[А одновременно:] Коро\\\\че её ёб… \\n\\n[Г:] Все. \\n\\n[А:] Всё село\\\\. \\n\\n[Г:] Да, коро\\\\че… \\n\\n[А:] И… и… и из на\\\\шего, и коро\\\\че там… \\n\\n[Г:] Все подря\\\\д. \\n\\n[А:] Да. \\n\\n[А и Г одновременно:] Кому\\\\ не лень. \\n\\n[А:] Буты\\\\лку на стол, и… [Она пьёт, да?] \\n\\n[Г:] Ну, она\\\\ по-чё\\\\рному пьёт.', keywords=['Водка', 'Плата', 'Питье', 'Девственность', 'Женщина', 'Половой акт', 'Зов', 'Прозвище', 'Имя', 'Дразнить', 'Пьянство', 'Черный цвет', 'Цвет'], question_list='XXIa', questions=['5б'], informators=['А', 'Г'], collectors=['МЭГ', 'НВП', 'СЕ', 'ФЕЕ'])"
      ]
     },
     "execution_count": 39,
     "metadata": {},
     "output_type": "execute_result"
    }
   ],
   "source": [
    "parsed[0]"
   ]
  },
  {
   "cell_type": "code",
   "execution_count": 40,
   "metadata": {},
   "outputs": [],
   "source": [
    "texts = [i[:7] for i in parsed]\n",
    "col = [i.collectors for i in parsed]\n",
    "inf = [i.informators for i in parsed]\n",
    "questions = [(i.question_list, i.questions,) for i in parsed]\n",
    "keywords = [i.keywords for i in parsed]"
   ]
  },
  {
   "cell_type": "code",
   "execution_count": 41,
   "metadata": {},
   "outputs": [
    {
     "data": {
      "text/plain": [
       "[('1',\n",
       "  2017,\n",
       "  'АБМ',\n",
       "  'Брянская обл.',\n",
       "  'Злынковский р-н',\n",
       "  'Спиридонова Буда',\n",
       "  '[Шёл разговор о пьющей женщине из Карпиловки, Г назвал её «Ма\\\\ндыка».] [Ма\\\\ндыка?] \\n\\n[Г:] Да. [Что это значит?] \\n\\n[Г, смеясь:] Ну, манды\\\\ка — э\\\\то… \\n\\n[А одновременно:] Коро\\\\че её ёб… \\n\\n[Г:] Все. \\n\\n[А:] Всё село\\\\. \\n\\n[Г:] Да, коро\\\\че… \\n\\n[А:] И… и… и из на\\\\шего, и коро\\\\че там… \\n\\n[Г:] Все подря\\\\д. \\n\\n[А:] Да. \\n\\n[А и Г одновременно:] Кому\\\\ не лень. \\n\\n[А:] Буты\\\\лку на стол, и… [Она пьёт, да?] \\n\\n[Г:] Ну, она\\\\ по-чё\\\\рному пьёт.'),\n",
       " ('2',\n",
       "  2017,\n",
       "  'АБМ',\n",
       "  'Брянская обл.',\n",
       "  'Злынковский р-н',\n",
       "  'Спиридонова Буда',\n",
       "  '[Разговор о кусачей собаке:] \\n\\n[Г:] А раз её\\\\ э\\\\тот Жидо\\\\к погла\\\\дил, так ему\\\\ ру\\\\ку прокуси\\\\ла наскво\\\\зь. Всегда\\\\ к нему\\\\ так [?]. [Жидок?] Да, жидо\\\\к, у него\\\\ кли\\\\чка така\\\\я. [Кто это?] Рыба\\\\к наш. \\n\\n[А:] Да. Пе\\\\рвый на селе\\\\…. \\n\\n[Г:] Пе\\\\рвый на селе\\\\ рыба\\\\к. [Тот, что в фуражке?] \\n\\n[А и Г:] Нет. \\n\\n[Г:] Не… \\n\\n[А:] В фура\\\\жке — э\\\\то Хаса\\\\н.')]"
      ]
     },
     "execution_count": 41,
     "metadata": {},
     "output_type": "execute_result"
    }
   ],
   "source": [
    "texts[:2]"
   ]
  },
  {
   "cell_type": "code",
   "execution_count": 43,
   "metadata": {},
   "outputs": [],
   "source": [
    "cur.executemany('INSERT INTO texts (old_id, year, leader, region, district, village, raw_text) \\\n",
    "VALUES (%s,%s,%s,%s,%s,%s,%s)', texts)\n",
    "db.commit()"
   ]
  },
  {
   "cell_type": "code",
   "execution_count": null,
   "metadata": {},
   "outputs": [],
   "source": []
  },
  {
   "cell_type": "code",
   "execution_count": null,
   "metadata": {},
   "outputs": [],
   "source": []
  },
  {
   "cell_type": "code",
   "execution_count": null,
   "metadata": {},
   "outputs": [],
   "source": []
  },
  {
   "cell_type": "code",
   "execution_count": null,
   "metadata": {},
   "outputs": [],
   "source": []
  },
  {
   "cell_type": "code",
   "execution_count": 27,
   "metadata": {},
   "outputs": [],
   "source": [
    "con.commit()"
   ]
  },
  {
   "cell_type": "markdown",
   "metadata": {},
   "source": [
    "**Собиратели**"
   ]
  },
  {
   "cell_type": "code",
   "execution_count": 50,
   "metadata": {},
   "outputs": [],
   "source": [
    "cur.execute('SELECT * FROM collectors')\n",
    "d = {i[2]:i[0] for i in cur.fetchall()}"
   ]
  },
  {
   "cell_type": "code",
   "execution_count": 51,
   "metadata": {},
   "outputs": [
    {
     "data": {
      "text/plain": [
       "{'АБМ': 1,\n",
       " 'ВК': 2,\n",
       " 'ПН': 3,\n",
       " 'НВП': 4,\n",
       " 'СНА': 5,\n",
       " 'ГМО': 6,\n",
       " 'СЕ': 7,\n",
       " 'МЭГ': 8,\n",
       " 'САИ': 9,\n",
       " 'ГАА': 10,\n",
       " 'БТБ': 11,\n",
       " 'ДГЮ': 12,\n",
       " 'ЛМА': 13,\n",
       " 'ВДК': 14,\n",
       " 'ФДД': 15,\n",
       " 'БОВ': 16,\n",
       " 'ККК': 17,\n",
       " 'ТМА': 18,\n",
       " 'ЗАЛ': 19,\n",
       " 'НАС': 20,\n",
       " 'КАС': 21,\n",
       " 'ОЕС': 22,\n",
       " 'КУК': 23,\n",
       " 'ИДД': 24,\n",
       " 'ФЕЕ': 25,\n",
       " 'КЕА': 26,\n",
       " 'ЧМА': 27,\n",
       " 'БСК': 28,\n",
       " 'МВБ': 29}"
      ]
     },
     "execution_count": 51,
     "metadata": {},
     "output_type": "execute_result"
    }
   ],
   "source": [
    "d"
   ]
  },
  {
   "cell_type": "code",
   "execution_count": 55,
   "metadata": {},
   "outputs": [],
   "source": [
    "for key, value in enumerate(parsed):\n",
    "    try:\n",
    "        a = [d[i] for i in value.collectors]\n",
    "        for i in a:\n",
    "            cur.execute('INSERT into t_c (id_text, id_collector) VALUES (%s, %s)', (key+1, i))\n",
    "    except:\n",
    "        pass"
   ]
  },
  {
   "cell_type": "code",
   "execution_count": 56,
   "metadata": {},
   "outputs": [],
   "source": [
    "db.commit()"
   ]
  },
  {
   "cell_type": "code",
   "execution_count": 57,
   "metadata": {},
   "outputs": [],
   "source": [
    "assert len(d) == 29"
   ]
  },
  {
   "cell_type": "code",
   "execution_count": 32,
   "metadata": {},
   "outputs": [],
   "source": [
    "con.commit()"
   ]
  },
  {
   "cell_type": "markdown",
   "metadata": {},
   "source": [
    "**Информанты**"
   ]
  },
  {
   "cell_type": "code",
   "execution_count": 58,
   "metadata": {},
   "outputs": [],
   "source": [
    "cur.execute('SELECT * FROM informators')\n",
    "seen = set()\n",
    "d = {}\n",
    "for i in cur.fetchall():\n",
    "    if i[2] not in seen:\n",
    "        d[i[2]] = i[0]\n",
    "        seen.add(i[2])\n",
    "    else:\n",
    "        if i[2] in d:\n",
    "            del d[i[2]]"
   ]
  },
  {
   "cell_type": "code",
   "execution_count": 59,
   "metadata": {},
   "outputs": [
    {
     "data": {
      "text/plain": [
       "(225, 237)"
      ]
     },
     "execution_count": 59,
     "metadata": {},
     "output_type": "execute_result"
    }
   ],
   "source": [
    "len(d), len(seen)"
   ]
  },
  {
   "cell_type": "code",
   "execution_count": 63,
   "metadata": {},
   "outputs": [],
   "source": [
    "for key, value in enumerate(parsed):\n",
    "    try:\n",
    "        a = [d[i] for i in value.informators]\n",
    "        for i in a:\n",
    "            cur.execute('INSERT into t_i (id_text, id_informator) VALUES (%s, %s)', (key+1, i))\n",
    "    except:\n",
    "        pass"
   ]
  },
  {
   "cell_type": "code",
   "execution_count": 64,
   "metadata": {},
   "outputs": [],
   "source": [
    "db.commit()"
   ]
  },
  {
   "cell_type": "code",
   "execution_count": 108,
   "metadata": {},
   "outputs": [],
   "source": [
    "for i in d:\n",
    "    cur.execute('UPDATE TextInformators SET informator_id = ? WHERE code = ?', (d[i], i,))"
   ]
  },
  {
   "cell_type": "code",
   "execution_count": 109,
   "metadata": {},
   "outputs": [],
   "source": [
    "con.commit()"
   ]
  },
  {
   "cell_type": "code",
   "execution_count": 61,
   "metadata": {},
   "outputs": [],
   "source": [
    "double = seen - (seen&set(d.keys()))"
   ]
  },
  {
   "cell_type": "code",
   "execution_count": 62,
   "metadata": {},
   "outputs": [
    {
     "data": {
      "text/plain": [
       "{'А', 'В', 'ВА', 'ДНВ', 'КАИ', 'КВА', 'КВИ', 'ЛП', 'МАН', 'С', 'ХВМ', 'ХТА'}"
      ]
     },
     "execution_count": 62,
     "metadata": {},
     "output_type": "execute_result"
    }
   ],
   "source": [
    "double"
   ]
  },
  {
   "cell_type": "code",
   "execution_count": null,
   "metadata": {},
   "outputs": [],
   "source": []
  },
  {
   "cell_type": "code",
   "execution_count": 65,
   "metadata": {},
   "outputs": [],
   "source": [
    "from collections import defaultdict"
   ]
  },
  {
   "cell_type": "code",
   "execution_count": 90,
   "metadata": {},
   "outputs": [],
   "source": [
    "double_dict = defaultdict(dict)"
   ]
  },
  {
   "cell_type": "code",
   "execution_count": 91,
   "metadata": {},
   "outputs": [],
   "source": [
    "cur.execute('SELECT id, code, current_village FROM informators ORDER BY id DESC')\n",
    "data = cur.fetchall()"
   ]
  },
  {
   "cell_type": "code",
   "execution_count": null,
   "metadata": {},
   "outputs": [],
   "source": [
    "data"
   ]
  },
  {
   "cell_type": "code",
   "execution_count": 92,
   "metadata": {},
   "outputs": [],
   "source": [
    "for i in data:\n",
    "    if i[1] in double:\n",
    "        double_dict[i[1]][i[2]] = i[0]"
   ]
  },
  {
   "cell_type": "code",
   "execution_count": 93,
   "metadata": {},
   "outputs": [
    {
     "data": {
      "text/plain": [
       "{'КВА': {'Рогов': 238, 'Спиридонова Буда': 131},\n",
       " 'ЛП': {'Рогов': 225, 'Спиридонова Буда': 92},\n",
       " 'А': {'Рогов': 220, 'Спиридонова Буда': 101},\n",
       " 'В': {'Рогов': 206, 'Малые Щербиничи': 12},\n",
       " 'С': {'Рогов': 189, 'Спиридонова Буда': 119},\n",
       " 'ХВМ': {'Рогов': 187, 'Спиридонова Буда': 78},\n",
       " 'ДНВ': {'Рогов': 181, 'Малые Щербиничи': 22},\n",
       " 'МАН': {'Рогов': 178, 'Карпиловка': 114},\n",
       " 'КВИ': {'Спиридонова Буда': 162, 'Малые Щербиничи': 10},\n",
       " 'КАИ': {'Спиридонова Буда': 150, 'Кривуша': 59},\n",
       " 'ВА': {'Спиридонова Буда': 139, 'Шурубовка': 54},\n",
       " 'ХТА': {'Спиридонова Буда': 133, 'Шурубовка': 30}}"
      ]
     },
     "execution_count": 93,
     "metadata": {},
     "output_type": "execute_result"
    }
   ],
   "source": [
    "double_dict = dict(double_dict)\n",
    "double_dict"
   ]
  },
  {
   "cell_type": "code",
   "execution_count": null,
   "metadata": {},
   "outputs": [],
   "source": []
  },
  {
   "cell_type": "code",
   "execution_count": 94,
   "metadata": {},
   "outputs": [
    {
     "data": {
      "text/plain": [
       "\"('КВА', 'ЛП', 'А', 'В', 'С', 'ХВМ', 'ДНВ', 'МАН', 'КВИ', 'КАИ', 'ВА', 'ХТА')\""
      ]
     },
     "execution_count": 94,
     "metadata": {},
     "output_type": "execute_result"
    }
   ],
   "source": [
    "s = '(\\''+'\\', \\''.join(double_dict.keys())+'\\')'\n",
    "s"
   ]
  },
  {
   "cell_type": "code",
   "execution_count": 103,
   "metadata": {},
   "outputs": [],
   "source": [
    "for key, value in enumerate(parsed):\n",
    "    try:\n",
    "        for i in value.informators:\n",
    "            if i in double_dict:\n",
    "                if value.village in double_dict[i]:\n",
    "                    cur.execute('INSERT INTO t_i (id_text, id_informator) VALUES (%s, %s)', \n",
    "                                (key+1, double_dict[i][value.village],))\n",
    "                else:\n",
    "                    print ('!!!')\n",
    "    except:\n",
    "        print ('!!!')"
   ]
  },
  {
   "cell_type": "code",
   "execution_count": 104,
   "metadata": {},
   "outputs": [],
   "source": [
    "db.commit()"
   ]
  },
  {
   "cell_type": "code",
   "execution_count": 104,
   "metadata": {},
   "outputs": [
    {
     "data": {
      "text/plain": [
       "<sqlite3.Cursor at 0x7f4e4a0d0ab0>"
      ]
     },
     "execution_count": 104,
     "metadata": {},
     "output_type": "execute_result"
    }
   ],
   "source": [
    "cur.executemany('UPDATE TextInformators SET informator_id = ? WHERE code = ? AND id_text = ?', text_data)"
   ]
  },
  {
   "cell_type": "code",
   "execution_count": 105,
   "metadata": {},
   "outputs": [],
   "source": [
    "con.commit()"
   ]
  },
  {
   "cell_type": "code",
   "execution_count": null,
   "metadata": {},
   "outputs": [],
   "source": [
    "for i in double_dict:\n",
    "    for j in double_dict[i]:\n",
    "        "
   ]
  },
  {
   "cell_type": "code",
   "execution_count": 8,
   "metadata": {
    "scrolled": false
   },
   "outputs": [],
   "source": [
    "cur.execute('SELECT DISTINCT word FROM keywords')\n",
    "s = set()\n",
    "for i in sorted(set([i[0] for i in cur.fetchall()])):\n",
    "    s.add(i)"
   ]
  },
  {
   "cell_type": "code",
   "execution_count": 112,
   "metadata": {},
   "outputs": [],
   "source": [
    "s = set()\n",
    "for text in parsed:\n",
    "    s.update(text.keywords)"
   ]
  },
  {
   "cell_type": "code",
   "execution_count": 106,
   "metadata": {},
   "outputs": [],
   "source": [
    "words = pd.read_csv('./csv/tblKeywords.csv', header=0, sep='\\t')"
   ]
  },
  {
   "cell_type": "code",
   "execution_count": 107,
   "metadata": {},
   "outputs": [
    {
     "data": {
      "text/html": [
       "<div>\n",
       "<style scoped>\n",
       "    .dataframe tbody tr th:only-of-type {\n",
       "        vertical-align: middle;\n",
       "    }\n",
       "\n",
       "    .dataframe tbody tr th {\n",
       "        vertical-align: top;\n",
       "    }\n",
       "\n",
       "    .dataframe thead th {\n",
       "        text-align: right;\n",
       "    }\n",
       "</style>\n",
       "<table border=\"1\" class=\"dataframe\">\n",
       "  <thead>\n",
       "    <tr style=\"text-align: right;\">\n",
       "      <th></th>\n",
       "      <th>ключевые слова</th>\n",
       "      <th>код</th>\n",
       "    </tr>\n",
       "  </thead>\n",
       "  <tbody>\n",
       "    <tr>\n",
       "      <th>0</th>\n",
       "      <td>Ад</td>\n",
       "      <td>3</td>\n",
       "    </tr>\n",
       "  </tbody>\n",
       "</table>\n",
       "</div>"
      ],
      "text/plain": [
       "  ключевые слова  код\n",
       "0             Ад    3"
      ]
     },
     "execution_count": 107,
     "metadata": {},
     "output_type": "execute_result"
    }
   ],
   "source": [
    "words.head(1)"
   ]
  },
  {
   "cell_type": "code",
   "execution_count": 121,
   "metadata": {},
   "outputs": [],
   "source": [
    "for i in range(len(words)):\n",
    "    cur.execute('INSERT INTO keywords (word, old_id) VALUES (%s, %s)', \n",
    "                (words.iloc[i].values[0], int(words.iloc[i].values[1]),))"
   ]
  },
  {
   "cell_type": "code",
   "execution_count": 122,
   "metadata": {},
   "outputs": [],
   "source": [
    "db.commit()"
   ]
  },
  {
   "cell_type": "code",
   "execution_count": null,
   "metadata": {},
   "outputs": [],
   "source": []
  },
  {
   "cell_type": "code",
   "execution_count": 113,
   "metadata": {},
   "outputs": [],
   "source": [
    "s2 = set(words['ключевые слова'].values)"
   ]
  },
  {
   "cell_type": "code",
   "execution_count": 114,
   "metadata": {
    "scrolled": true
   },
   "outputs": [
    {
     "data": {
      "text/plain": [
       "354"
      ]
     },
     "execution_count": 114,
     "metadata": {},
     "output_type": "execute_result"
    }
   ],
   "source": [
    "len(s - (s2&s))"
   ]
  },
  {
   "cell_type": "code",
   "execution_count": 118,
   "metadata": {},
   "outputs": [],
   "source": [
    "df = pd.DataFrame({'bad':list(sorted(s - (s2&s)))})"
   ]
  },
  {
   "cell_type": "code",
   "execution_count": 117,
   "metadata": {
    "collapsed": true
   },
   "outputs": [
    {
     "name": "stdout",
     "output_type": "stream",
     "text": [
      "\n",
      "Бегать\n",
      "Безеза\n",
      "Белый\n",
      "Беременость\n",
      "Беремнность\n",
      "Берменность\n",
      "Бессоница\n",
      "Бить\n",
      "Битье посуда\n",
      "Благопжелания\n",
      "Благословение\n",
      "Благословление\n",
      "Блеый цвет\n",
      "Блин\n",
      "Блохи\n",
      "Болезь\n",
      "Большой-маленкий\n",
      "Брать-давать\n",
      "Быличка\n",
      "Варвара св.\n",
      "Ввремя\n",
      "Великий Пост\n",
      "Верх-них\n",
      "Весель\n",
      "Веснушники\n",
      "Ветка\n",
      "Внешний-внутренний\n",
      "Внуренний-внешний\n",
      "Внутрений-внешний\n",
      "Внутреннее-внешнее\n",
      "Внутренни-внешний\n",
      "Водко\n",
      "Вокресенье (день недели)\n",
      "Воскренье (день недели)\n",
      "Воскресенье\n",
      "Вреия\n",
      "Всемирынй потоп\n",
      "Втыкать\n",
      "Выбрасивать\n",
      "Выбрасывание\n",
      "Выбросить\n",
      "Говорит\n",
      "Годы\n",
      "Головая боль\n",
      "Головной убор\n",
      "Горорить\n",
      "Грешный-праведник\n",
      "Гулние\n",
      "ДВеснадцать\n",
      "Давать-брать\n",
      "Давать-брать Три\n",
      "Двать-брать\n",
      "Двери\n",
      "Демонологияя\n",
      "Дерева\n",
      "Деревно\n",
      "Дерево Ветки\n",
      "Дерецве обрядовое\n",
      "Десткий фольклор\n",
      "Детский дольклор\n",
      "Детский фолькор\n",
      "Детский фольлор\n",
      "Дни нелели\n",
      "Днмонология\n",
      "Добро-Зло\n",
      "Добрый-злой\n",
      "Додь\n",
      "Доп\n",
      "Древо\n",
      "Женский-Супругиской\n",
      "Женщины\n",
      "Животное Выгон скота\n",
      "Животные\n",
      "Жизнь-Смерть\n",
      "Жизнь-смерть Память\n",
      "Жизнь-сметь\n",
      "Завязывние-развязывание\n",
      "Загаворы\n",
      "Заговор\n",
      "Закрещевание\n",
      "Закрещивать\n",
      "Закрыть\n",
      "Запрет\n",
      "Звезда (рожд.)\n",
      "Звон\n",
      "Земледедие\n",
      "Земледелия\n",
      "Земледение\n",
      "Злеб ритуальный\n",
      "Змеля\n",
      "Знак-Знамение\n",
      "Знак-знаемние\n",
      "Знак-знакмение\n",
      "Знак-знамение Прорицание\n",
      "Зпреты\n",
      "Зуб\n",
      "Ивана Купала\n",
      "Игрушка\n",
      "Игры фольк\n",
      "Илься св.\n",
      "Календаврь\n",
      "Календари\n",
      "Кладбие\n",
      "Кладбише\n",
      "Кличка\n",
      "Книги\n",
      "Кодовство\n",
      "Кожух Давать-брать\n",
      "Колыбельный песни\n",
      "Колядовать\n",
      "Комление\n",
      "Коровая\n",
      "Кость\n",
      "Красный йвет\n",
      "Красный цве\n",
      "Кречтины\n",
      "Крещенье (праздники)\n",
      "Крнст\n",
      "Крупо\n",
      "Кумовье\n",
      "Кумовья\n",
      "Купаться\n",
      "Курицы\n",
      "Легенда\n",
      "Лиса\n",
      "Лошади\n",
      "Луные пятна\n",
      "Магия продуцирующая\n",
      "Меморт\n",
      "Молитвы\n",
      "Молний\n",
      "Молодой-Старый\n",
      "Молрдой-старый\n",
      "Молчантие\n",
      "Молчанье\n",
      "Музыкальные инстурументы\n",
      "Музыкальные интсрументы\n",
      "Музыкальный инструмент\n",
      "Мыть\n",
      "Мышь Тканье\n",
      "МышьЖивотное\n",
      "Наоброт\n",
      "Народное Православие\n",
      "Народное правосавие\n",
      "Народное православие Праздники\n",
      "Народное правславие\n",
      "Народное праовславие\n",
      "Народное праославие\n",
      "Народное првославие\n",
      "Нароное православие\n",
      "Насекомое\n",
      "Новй-старый\n",
      "Новый\n",
      "Новый- старый\n",
      "Нога\n",
      "Ночи\n",
      "Оберег\n",
      "Обходить\n",
      "Окрытый-закрытый\n",
      "Освящать\n",
      "Осень Праздники\n",
      "Отказ от заСупругиества\n",
      "Открыть\n",
      "Отстатки\n",
      "Очищение\tМытье\n",
      "Песня\n",
      "Печная утварь\n",
      "Поговворка\n",
      "Погойник\n",
      "Подпол\tВерх-низ\n",
      "Покойний\n",
      "Покойний ходячий\n",
      "Поконик\n",
      "Поминальный дни\n",
      "Поминка\n",
      "Поспыпание\n",
      "Постранство\n",
      "Посыпать\n",
      "Похойник\n",
      "Праздник\n",
      "Праздника\n",
      "Праздникик\n",
      "Предание\n",
      "Предания (топоним.)\n",
      "Предния топоним.\n",
      "Прздники\n",
      "Приветствие\n",
      "Приглащение\n",
      "Приговор\n",
      "Приданное\n",
      "Примета\n",
      "Пришлашение\n",
      "Продуцирующя магия\n",
      "Продучирующая магия\n",
      "ПрозвищеЮ Война\n",
      "Прозцище\n",
      "Проостранство\n",
      "Прорицания\n",
      "Пространсвто\n",
      "Пространство Христос\n",
      "Пространтво\n",
      "Пространтсво\n",
      "Пространцство\n",
      "Процесия\n",
      "Птиц\n",
      "Птица\n",
      "Путь обярдовый\n",
      "Пчелы\n",
      "Растния\n",
      "Ребеное\n",
      "РебенокБольшой-маленький\n",
      "Ремесло Неделя\n",
      "Речь Ритуальная\n",
      "Речь риутальная\n",
      "Ритуальное уничтожение\n",
      "Ритулаьное уничтожение\n",
      "Рога\n",
      "Родсво\n",
      "Росдвто\n",
      "Руки\n",
      "Русалки\n",
      "Русальная нееделя\n",
      "Рыть землю\n",
      "Рятье земли\n",
      "Сапог\n",
      "Сваденый обряд\n",
      "Свалебный обряд\n",
      "Сватовтсво\n",
      "Сведебный обряд\n",
      "Свекр\n",
      "Сверкровь\n",
      "Светь-тьма\n",
      "Свой-Чужой\n",
      "Святый\n",
      "Священиик\n",
      "Священние\n",
      "Священний\n",
      "Священник Спас\n",
      "Сговор свадебный Сласти\n",
      "Седрце\n",
      "Семейные  обряды\n",
      "Семейные обрядый\n",
      "Семеные обряды\n",
      "Семеныйные обряды\n",
      "Скотоводоство\n",
      "Скотородство\n",
      "Слусти\n",
      "Слушать Молодой-старый\n",
      "Слюни\n",
      "Смерть Животных\n",
      "Сновидение\n",
      "Соседи\n",
      "Старухи\n",
      "Стауха\n",
      "Страны светы\n",
      "Строители\n",
      "Субботу\n",
      "Супругиский-женский\n",
      "Супругиской-женский\n",
      "Супругичина\n",
      "Сырой-вареный\n",
      "Сытый- голодный\n",
      "Тело веловека\n",
      "Тело человеки\n",
      "Тело челоека\n",
      "Тело чеовека\n",
      "Теплый-холодный\n",
      "Ткание\n",
      "Тот  свет\n",
      "Трапеа ритуальная\n",
      "Трапеза ритаульная\n",
      "Трапеза риутальная\n",
      "Убока дома\n",
      "Уборка в доме\n",
      "Угощенье\n",
      "Украшение\n",
      "Уничтожение ритаульное\n",
      "Уничтожение риутальное\n",
      "Урожай-ниурожай\n",
      "Успние Богородицы\n",
      "Устро\n",
      "Утварья\n",
      "Фома св.\n",
      "Хлеб ритульный\n",
      "Ходиить\n",
      "Ходит\n",
      "Хозяин-хозйяка\n",
      "Хороший-пллохой\n",
      "Хорошйи-плохой\n",
      "Хтроший-плохой\n",
      "Цвета\n",
      "Цветочки\n",
      "Церовь\n",
      "Цыганы\n",
      "Чемер (Болезни скота)\n",
      "Черный-цвет\n",
      "Черый цвет\n",
      "Чины свадебые\n",
      "Чистотый-грязный\n",
      "Чистый грязный\n",
      "Чистый-грузный\n",
      "Чистый-грязынй\n",
      "Чистый-четверг\n",
      "Щедровать\n",
      "Ьог\n",
      "Яйца\n",
      "Яйцо (пасх.)\n",
      "Яйцо пасх\n",
      "демонология\n",
      "деньги\n",
      "дни\n",
      "дом\n",
      "еврей\n",
      "ерево\n",
      "жених\n",
      "женщина\n",
      "животное\n",
      "запах\n",
      "зима\n",
      "икона\n",
      "календарь\n",
      "крщенье (праздник)\n",
      "курица\n",
      "лежать\n",
      "молодой-старый\n",
      "над-под\n",
      "наоборот\n",
      "народное православие\n",
      "начало\n",
      "неделя\n",
      "ноги\n",
      "обере\n",
      "одежда\n",
      "очищение\n",
      "пение\n",
      "песни\n",
      "питье\n",
      "погода\n",
      "покойник\n",
      "полночь\n",
      "полотенце\n",
      "порча\n",
      "праздники\n",
      "приметы\n",
      "пространство\n",
      "птицы\n",
      "путь обрядовый\n",
      "растения\n",
      "ребенок\n",
      "святые\n",
      "семейные обряды\n",
      "т Радуница\n",
      "тело человека\n"
     ]
    }
   ],
   "source": [
    "print('\\n'.join(sorted(s - (s2&s))))"
   ]
  },
  {
   "cell_type": "code",
   "execution_count": 45,
   "metadata": {},
   "outputs": [],
   "source": [
    "for i in range(len(words)):\n",
    "    cur.execute('INSERT INTO Keywords (word, old_id) VALUES (?, ?)', (words.iloc[i].values[0], int(words.iloc[i].values[1]),))"
   ]
  },
  {
   "cell_type": "code",
   "execution_count": 46,
   "metadata": {},
   "outputs": [],
   "source": [
    "con.commit()"
   ]
  },
  {
   "cell_type": "code",
   "execution_count": null,
   "metadata": {},
   "outputs": [],
   "source": []
  },
  {
   "cell_type": "code",
   "execution_count": null,
   "metadata": {},
   "outputs": [],
   "source": []
  },
  {
   "cell_type": "code",
   "execution_count": null,
   "metadata": {},
   "outputs": [],
   "source": []
  },
  {
   "cell_type": "code",
   "execution_count": null,
   "metadata": {},
   "outputs": [],
   "source": []
  },
  {
   "cell_type": "code",
   "execution_count": null,
   "metadata": {},
   "outputs": [],
   "source": []
  },
  {
   "cell_type": "markdown",
   "metadata": {},
   "source": [
    "# Вторая часть"
   ]
  },
  {
   "cell_type": "code",
   "execution_count": 128,
   "metadata": {},
   "outputs": [],
   "source": [
    "informators = pd.read_csv('./csv/informators.tsv', sep='\\t').fillna('')"
   ]
  },
  {
   "cell_type": "code",
   "execution_count": 129,
   "metadata": {},
   "outputs": [
    {
     "data": {
      "text/html": [
       "<div>\n",
       "<style scoped>\n",
       "    .dataframe tbody tr th:only-of-type {\n",
       "        vertical-align: middle;\n",
       "    }\n",
       "\n",
       "    .dataframe tbody tr th {\n",
       "        vertical-align: top;\n",
       "    }\n",
       "\n",
       "    .dataframe thead th {\n",
       "        text-align: right;\n",
       "    }\n",
       "</style>\n",
       "<table border=\"1\" class=\"dataframe\">\n",
       "  <thead>\n",
       "    <tr style=\"text-align: right;\">\n",
       "      <th></th>\n",
       "      <th>шифр информанта</th>\n",
       "      <th>ФИО полное</th>\n",
       "      <th>год рождения</th>\n",
       "      <th>место рождения</th>\n",
       "      <th>gender</th>\n",
       "    </tr>\n",
       "  </thead>\n",
       "  <tbody>\n",
       "    <tr>\n",
       "      <th>0</th>\n",
       "      <td>АНВ-1958-НЛ-2018</td>\n",
       "      <td>Агеичева Нина Владиславовна</td>\n",
       "      <td>1958</td>\n",
       "      <td>г. Пестяки</td>\n",
       "      <td>f</td>\n",
       "    </tr>\n",
       "    <tr>\n",
       "      <th>1</th>\n",
       "      <td>АН-1940-Юж-2018</td>\n",
       "      <td>Альбина Николаевна</td>\n",
       "      <td>1940</td>\n",
       "      <td></td>\n",
       "      <td>f</td>\n",
       "    </tr>\n",
       "    <tr>\n",
       "      <th>2</th>\n",
       "      <td>ДЛЮ-1958-МН-2018</td>\n",
       "      <td>Дикина Людмила Юрьевна</td>\n",
       "      <td>1958</td>\n",
       "      <td></td>\n",
       "      <td>f</td>\n",
       "    </tr>\n",
       "    <tr>\n",
       "      <th>3</th>\n",
       "      <td>ЖЕА-1932-НЛ-2018</td>\n",
       "      <td>Жихарев Евгений Александрович</td>\n",
       "      <td>1932</td>\n",
       "      <td>Нижний Ландех</td>\n",
       "      <td>m</td>\n",
       "    </tr>\n",
       "    <tr>\n",
       "      <th>4</th>\n",
       "      <td>КЮН-1980-Юж-2018</td>\n",
       "      <td>Колесова Юлия Николаевна</td>\n",
       "      <td>1980</td>\n",
       "      <td>Г. Южа</td>\n",
       "      <td>f</td>\n",
       "    </tr>\n",
       "  </tbody>\n",
       "</table>\n",
       "</div>"
      ],
      "text/plain": [
       "    шифр информанта                     ФИО полное  год рождения  \\\n",
       "0  АНВ-1958-НЛ-2018    Агеичева Нина Владиславовна          1958   \n",
       "1   АН-1940-Юж-2018             Альбина Николаевна          1940   \n",
       "2  ДЛЮ-1958-МН-2018         Дикина Людмила Юрьевна          1958   \n",
       "3  ЖЕА-1932-НЛ-2018  Жихарев Евгений Александрович          1932   \n",
       "4  КЮН-1980-Юж-2018       Колесова Юлия Николаевна          1980   \n",
       "\n",
       "  место рождения gender  \n",
       "0     г. Пестяки      f  \n",
       "1                     f  \n",
       "2                     f  \n",
       "3  Нижний Ландех      m  \n",
       "4         Г. Южа      f  "
      ]
     },
     "execution_count": 129,
     "metadata": {},
     "output_type": "execute_result"
    }
   ],
   "source": [
    "informators.head()"
   ]
  },
  {
   "cell_type": "code",
   "execution_count": 130,
   "metadata": {},
   "outputs": [],
   "source": [
    "d_inf = {}\n",
    "k = 250\n",
    "for i in range(len(informators)):\n",
    "    d_inf[informators.iloc[i]['шифр информанта']] = k + i"
   ]
  },
  {
   "cell_type": "code",
   "execution_count": 131,
   "metadata": {
    "collapsed": true
   },
   "outputs": [
    {
     "data": {
      "text/plain": [
       "{'АНВ-1958-НЛ-2018': 250,\n",
       " 'АН-1940-Юж-2018': 251,\n",
       " 'ДЛЮ-1958-МН-2018': 252,\n",
       " 'ЖЕА-1932-НЛ-2018': 253,\n",
       " 'КЮН-1980-Юж-2018': 254,\n",
       " 'КЕП-1958-Не-2017': 255,\n",
       " 'КЛД-1947-Ро-2017': 256,\n",
       " 'КЛД-1947-Ро-2017-2': 257,\n",
       " 'КЕМ-1935-Лу-2018': 258,\n",
       " 'КНА-1940-Не-2017': 259,\n",
       " 'ЛИФ-1937-Му-2018': 260,\n",
       " 'ЛИС-1935-Лу-2018': 261,\n",
       " 'МСБ-1952-МН-2018': 262,\n",
       " 'МВН-1958-Му-2018': 263,\n",
       " 'МНП-1932-Юж-2018': 264,\n",
       " 'НАЛ-1950-МН-2018': 265,\n",
       " 'НА-1940-Юж-2018': 266,\n",
       " 'ОРА-1939-Не-2017': 267,\n",
       " 'ПЗИ-1948-Не-2017': 268,\n",
       " 'ПАА-1946-НЛ-2018': 269,\n",
       " 'ПЗЛ-1940-Вы-2017': 270,\n",
       " 'РНА-1940-НЛ-2018': 271,\n",
       " 'РЕ-1940-НЛ-2018': 272,\n",
       " 'РРМ-1955-Не-2017': 273,\n",
       " 'Се': 274,\n",
       " 'САП-1924-Му-2018': 275,\n",
       " 'СВВ-1956-Му-2018': 276,\n",
       " 'СМП-1945-Не-2017': 277,\n",
       " 'СЗТ-1930-Пр-2017': 278,\n",
       " 'СНП-1975-Му-2018': 279,\n",
       " 'СРВ-1935-МН-2018': 280,\n",
       " 'ТГП-1930-НЛ-2018': 281,\n",
       " 'ФНА-1931-Лу-2018': 282,\n",
       " 'ЧЛВ-1983-Не-2017': 283,\n",
       " 'ШНМ-1927-Му-2018': 284,\n",
       " 'ШНН-1957-МН-2018': 285,\n",
       " 'ШАВ-1938-Юж-2018': 286,\n",
       " 'АВА-1949-НЛ-2018': 287,\n",
       " 'КЛИ-1941-НЛ-2018': 288,\n",
       " 'КВН-1951-НЛ-2018': 289}"
      ]
     },
     "execution_count": 131,
     "metadata": {},
     "output_type": "execute_result"
    }
   ],
   "source": [
    "d_inf"
   ]
  },
  {
   "cell_type": "code",
   "execution_count": 132,
   "metadata": {},
   "outputs": [],
   "source": [
    "for i in range(len(informators)):\n",
    "    row = informators.iloc[i]\n",
    "    cur.execute('INSERT INTO informators (old_id, name, birth_year, birth_village, gender) \\\n",
    "    VALUES (%s, %s, %s, %s, %s )', (row['шифр информанта'],\n",
    "                                   row['ФИО полное'],\n",
    "                                   int(row['год рождения']),\n",
    "                                   row['место рождения'],\n",
    "                                   row['gender'],))"
   ]
  },
  {
   "cell_type": "code",
   "execution_count": 136,
   "metadata": {},
   "outputs": [],
   "source": [
    "for i in range(len(informators)):\n",
    "    row = informators.iloc[i]\n",
    "    cur.execute('UPDATE informators SET code=%s WHERE id=%s', (row['шифр информанта'].split('-')[0], k+i,))"
   ]
  },
  {
   "cell_type": "code",
   "execution_count": 137,
   "metadata": {},
   "outputs": [],
   "source": [
    "db.commit()"
   ]
  },
  {
   "cell_type": "code",
   "execution_count": 138,
   "metadata": {},
   "outputs": [],
   "source": [
    "collectors = pd.read_csv('./csv/collectors.tsv', sep='\\t').fillna('')"
   ]
  },
  {
   "cell_type": "code",
   "execution_count": 142,
   "metadata": {},
   "outputs": [
    {
     "data": {
      "text/html": [
       "<div>\n",
       "<style scoped>\n",
       "    .dataframe tbody tr th:only-of-type {\n",
       "        vertical-align: middle;\n",
       "    }\n",
       "\n",
       "    .dataframe tbody tr th {\n",
       "        vertical-align: top;\n",
       "    }\n",
       "\n",
       "    .dataframe thead th {\n",
       "        text-align: right;\n",
       "    }\n",
       "</style>\n",
       "<table border=\"1\" class=\"dataframe\">\n",
       "  <thead>\n",
       "    <tr style=\"text-align: right;\">\n",
       "      <th></th>\n",
       "      <th>код</th>\n",
       "      <th>имя</th>\n",
       "    </tr>\n",
       "  </thead>\n",
       "  <tbody>\n",
       "    <tr>\n",
       "      <th>0</th>\n",
       "      <td>АНВ</td>\n",
       "      <td>Агеичева Нина Владиславовна</td>\n",
       "    </tr>\n",
       "    <tr>\n",
       "      <th>1</th>\n",
       "      <td>ААЯ</td>\n",
       "      <td>Алина Алексеевна Яськова</td>\n",
       "    </tr>\n",
       "    <tr>\n",
       "      <th>2</th>\n",
       "      <td>БПА</td>\n",
       "      <td>Брюхачева Полина Александровна</td>\n",
       "    </tr>\n",
       "    <tr>\n",
       "      <th>3</th>\n",
       "      <td>БДД</td>\n",
       "      <td>Бударова Дарья Дмитриевна</td>\n",
       "    </tr>\n",
       "    <tr>\n",
       "      <th>4</th>\n",
       "      <td>ГНА</td>\n",
       "      <td>Григорьева Надежда Александровна</td>\n",
       "    </tr>\n",
       "  </tbody>\n",
       "</table>\n",
       "</div>"
      ],
      "text/plain": [
       "   код                               имя\n",
       "0  АНВ       Агеичева Нина Владиславовна\n",
       "1  ААЯ          Алина Алексеевна Яськова\n",
       "2  БПА    Брюхачева Полина Александровна\n",
       "3  БДД         Бударова Дарья Дмитриевна\n",
       "4  ГНА  Григорьева Надежда Александровна"
      ]
     },
     "execution_count": 142,
     "metadata": {},
     "output_type": "execute_result"
    }
   ],
   "source": [
    "collectors.head()"
   ]
  },
  {
   "cell_type": "code",
   "execution_count": 140,
   "metadata": {},
   "outputs": [],
   "source": [
    "d_collectors = {}\n",
    "k = 30\n",
    "for i in range(len(collectors)):\n",
    "    d_collectors[collectors.iloc[i]['код']] = k + i"
   ]
  },
  {
   "cell_type": "code",
   "execution_count": 141,
   "metadata": {
    "collapsed": true
   },
   "outputs": [
    {
     "data": {
      "text/plain": [
       "{'АНВ': 30,\n",
       " 'ААЯ': 31,\n",
       " 'БПА': 32,\n",
       " 'БДД': 33,\n",
       " 'ГНА': 34,\n",
       " 'ДВА': 35,\n",
       " 'ЗАА': 36,\n",
       " 'КЛИ': 37,\n",
       " 'КМП': 38,\n",
       " 'КАГ': 40,\n",
       " 'КЮМ': 41,\n",
       " 'МНМ': 42,\n",
       " 'ПМА': 43,\n",
       " 'ТОВ': 44,\n",
       " 'ТСХ': 45,\n",
       " 'ФВП': 46,\n",
       " 'ХТС': 47,\n",
       " 'ШДВ': 48,\n",
       " 'ЮМК': 49,\n",
       " 'НПЛ': 50,\n",
       " 'НИВ': 51,\n",
       " 'ЯАА': 52,\n",
       " 'БМВ': 53}"
      ]
     },
     "execution_count": 141,
     "metadata": {},
     "output_type": "execute_result"
    }
   ],
   "source": [
    "d_collectors"
   ]
  },
  {
   "cell_type": "code",
   "execution_count": 145,
   "metadata": {},
   "outputs": [],
   "source": [
    "for i in range(len(collectors)):\n",
    "    row = collectors.iloc[i]\n",
    "    cur.execute('INSERT INTO collectors (code, name) VALUES (%s, %s)', (row['код'], row['имя'],))"
   ]
  },
  {
   "cell_type": "code",
   "execution_count": 146,
   "metadata": {},
   "outputs": [],
   "source": [
    "db.commit()"
   ]
  },
  {
   "cell_type": "markdown",
   "metadata": {},
   "source": [
    "# A"
   ]
  },
  {
   "cell_type": "code",
   "execution_count": 151,
   "metadata": {},
   "outputs": [],
   "source": [
    "data = pd.read_csv('./csv/A.tsv', sep='\\t').fillna('')"
   ]
  },
  {
   "cell_type": "code",
   "execution_count": 152,
   "metadata": {},
   "outputs": [
    {
     "data": {
      "text/html": [
       "<div>\n",
       "<style scoped>\n",
       "    .dataframe tbody tr th:only-of-type {\n",
       "        vertical-align: middle;\n",
       "    }\n",
       "\n",
       "    .dataframe tbody tr th {\n",
       "        vertical-align: top;\n",
       "    }\n",
       "\n",
       "    .dataframe thead th {\n",
       "        text-align: right;\n",
       "    }\n",
       "</style>\n",
       "<table border=\"1\" class=\"dataframe\">\n",
       "  <thead>\n",
       "    <tr style=\"text-align: right;\">\n",
       "      <th></th>\n",
       "      <th>id</th>\n",
       "      <th>год</th>\n",
       "      <th>жанр</th>\n",
       "      <th>ключевые слова</th>\n",
       "      <th>ссылка на текст</th>\n",
       "      <th>ссылка на аудио</th>\n",
       "      <th>время начала</th>\n",
       "      <th>время конца</th>\n",
       "      <th>регион</th>\n",
       "      <th>район</th>\n",
       "      <th>деревня</th>\n",
       "      <th>адрес</th>\n",
       "      <th>информанты</th>\n",
       "      <th>собиратели</th>\n",
       "    </tr>\n",
       "  </thead>\n",
       "  <tbody>\n",
       "    <tr>\n",
       "      <th>0</th>\n",
       "      <td>Архив ВШЭ – ФЭ – 37 – 12 – 2018 – 300</td>\n",
       "      <td>2018</td>\n",
       "      <td>Рассказ о прошлом. Рассказ о хоре. Репертуар.</td>\n",
       "      <td>устная история, песни, молодой-старый</td>\n",
       "      <td></td>\n",
       "      <td></td>\n",
       "      <td>0:25</td>\n",
       "      <td>3:00</td>\n",
       "      <td>Ивановская область</td>\n",
       "      <td>Пестяковский район</td>\n",
       "      <td>с. Нижний Ландех</td>\n",
       "      <td>Дом культуры и досуга Нижнеландеховского сельс...</td>\n",
       "      <td>АВА-1949-НЛ-2018, КЛИ-1941-НЛ-2018, КВН-1951-Н...</td>\n",
       "      <td>КЮМ</td>\n",
       "    </tr>\n",
       "    <tr>\n",
       "      <th>1</th>\n",
       "      <td>Архив ВШЭ – ФЭ – 37 – 12 – 2018 – 301</td>\n",
       "      <td>2018</td>\n",
       "      <td>Лирическая песня. Протяжная. Сведения о песне</td>\n",
       "      <td>песни, лебедь, перо, девушка</td>\n",
       "      <td></td>\n",
       "      <td></td>\n",
       "      <td>3:01</td>\n",
       "      <td>8:20</td>\n",
       "      <td>Ивановская область</td>\n",
       "      <td>Пестяковский район</td>\n",
       "      <td>с. Нижний Ландех</td>\n",
       "      <td>Дом культуры и досуга Нижнеландеховского сельс...</td>\n",
       "      <td>АВА-1949-НЛ-2018, КЛИ-1941-НЛ-2018, КВН-1951-Н...</td>\n",
       "      <td>КЮМ</td>\n",
       "    </tr>\n",
       "  </tbody>\n",
       "</table>\n",
       "</div>"
      ],
      "text/plain": [
       "                                      id   год  \\\n",
       "0  Архив ВШЭ – ФЭ – 37 – 12 – 2018 – 300  2018   \n",
       "1  Архив ВШЭ – ФЭ – 37 – 12 – 2018 – 301  2018   \n",
       "\n",
       "                                            жанр  \\\n",
       "0  Рассказ о прошлом. Рассказ о хоре. Репертуар.   \n",
       "1  Лирическая песня. Протяжная. Сведения о песне   \n",
       "\n",
       "                          ключевые слова ссылка на текст ссылка на аудио  \\\n",
       "0  устная история, песни, молодой-старый                                   \n",
       "1           песни, лебедь, перо, девушка                                   \n",
       "\n",
       "  время начала время конца              регион               район  \\\n",
       "0         0:25        3:00  Ивановская область  Пестяковский район   \n",
       "1         3:01        8:20  Ивановская область  Пестяковский район   \n",
       "\n",
       "            деревня                                              адрес  \\\n",
       "0  с. Нижний Ландех  Дом культуры и досуга Нижнеландеховского сельс...   \n",
       "1  с. Нижний Ландех  Дом культуры и досуга Нижнеландеховского сельс...   \n",
       "\n",
       "                                          информанты собиратели  \n",
       "0  АВА-1949-НЛ-2018, КЛИ-1941-НЛ-2018, КВН-1951-Н...        КЮМ  \n",
       "1  АВА-1949-НЛ-2018, КЛИ-1941-НЛ-2018, КВН-1951-Н...        КЮМ  "
      ]
     },
     "execution_count": 152,
     "metadata": {},
     "output_type": "execute_result"
    }
   ],
   "source": [
    "data.head(2)"
   ]
  },
  {
   "cell_type": "code",
   "execution_count": 156,
   "metadata": {},
   "outputs": [],
   "source": [
    "parsed = []\n",
    "for row in range(len(data)):\n",
    "    i = data.iloc[row]\n",
    "    parsed.append(\n",
    "        (i['id'],int(i['год']),i['жанр'],i['время начала'],i['время конца'],\n",
    "         i['регион'],i['район'],i['деревня'],i['адрес'],)\n",
    "    )"
   ]
  },
  {
   "cell_type": "code",
   "execution_count": 157,
   "metadata": {},
   "outputs": [],
   "source": [
    "cur.executemany('INSERT INTO texts (old_id, year, genre, start_text, finish_text, \\\n",
    "region, district, village, address) \\\n",
    "VALUES (%s, %s, %s, %s,%s, %s, %s, %s,%s)', parsed)"
   ]
  },
  {
   "cell_type": "code",
   "execution_count": 158,
   "metadata": {},
   "outputs": [],
   "source": [
    "db.commit()"
   ]
  },
  {
   "cell_type": "code",
   "execution_count": 162,
   "metadata": {},
   "outputs": [],
   "source": [
    "loc_inf = []\n",
    "k = 4132\n",
    "for row in range(len(data)):\n",
    "    i = data.iloc[row]\n",
    "    #print (i['информанты'].split(','))\n",
    "    for j in i['информанты'].split(','):\n",
    "        loc_inf.append((row+k,d_inf[j.strip()],))"
   ]
  },
  {
   "cell_type": "code",
   "execution_count": 164,
   "metadata": {},
   "outputs": [],
   "source": [
    "cur.executemany('INSERT into t_i (id_text, id_informator) VALUES (%s, %s)', loc_inf)"
   ]
  },
  {
   "cell_type": "code",
   "execution_count": 165,
   "metadata": {},
   "outputs": [],
   "source": [
    "db.commit()"
   ]
  },
  {
   "cell_type": "code",
   "execution_count": 166,
   "metadata": {},
   "outputs": [],
   "source": [
    "loc_col = []\n",
    "k = 4132\n",
    "for row in range(len(data)):\n",
    "    i = data.iloc[row]\n",
    "    for j in i['собиратели'].split(','):\n",
    "        loc_col.append((row+k,d_collectors[j.strip()],))\n",
    "cur.executemany('INSERT into t_c (id_text, id_collector) VALUES (%s, %s)', loc_col)"
   ]
  },
  {
   "cell_type": "code",
   "execution_count": 167,
   "metadata": {},
   "outputs": [],
   "source": [
    "db.commit()"
   ]
  },
  {
   "cell_type": "markdown",
   "metadata": {},
   "source": [
    "# M"
   ]
  },
  {
   "cell_type": "code",
   "execution_count": 171,
   "metadata": {},
   "outputs": [
    {
     "data": {
      "text/html": [
       "<div>\n",
       "<style scoped>\n",
       "    .dataframe tbody tr th:only-of-type {\n",
       "        vertical-align: middle;\n",
       "    }\n",
       "\n",
       "    .dataframe tbody tr th {\n",
       "        vertical-align: top;\n",
       "    }\n",
       "\n",
       "    .dataframe thead th {\n",
       "        text-align: right;\n",
       "    }\n",
       "</style>\n",
       "<table border=\"1\" class=\"dataframe\">\n",
       "  <thead>\n",
       "    <tr style=\"text-align: right;\">\n",
       "      <th></th>\n",
       "      <th>id</th>\n",
       "      <th>год</th>\n",
       "      <th>жанр</th>\n",
       "      <th>ключевые слова</th>\n",
       "      <th>ссылка на текст</th>\n",
       "      <th>ссылка на аудио</th>\n",
       "      <th>время начала</th>\n",
       "      <th>время конца</th>\n",
       "      <th>регион</th>\n",
       "      <th>район</th>\n",
       "      <th>деревня</th>\n",
       "      <th>адрес</th>\n",
       "      <th>информанты</th>\n",
       "      <th>собиратели</th>\n",
       "    </tr>\n",
       "  </thead>\n",
       "  <tbody>\n",
       "    <tr>\n",
       "      <th>0</th>\n",
       "      <td>Архив ВШЭ – Э – 37 – 20 – 2018 – 400</td>\n",
       "      <td>2018</td>\n",
       "      <td>Легенда. Об отпечатавшемся образе</td>\n",
       "      <td>легенды, икона, церковь, народное православие,...</td>\n",
       "      <td></td>\n",
       "      <td></td>\n",
       "      <td>6:05</td>\n",
       "      <td>7:13</td>\n",
       "      <td>Ивановская область</td>\n",
       "      <td>Южский район</td>\n",
       "      <td>с. Мугреево-Никольское</td>\n",
       "      <td>с. Мугреево-Никольское, в храме Артемия Веркол...</td>\n",
       "      <td>МСБ-1952-МН-2018</td>\n",
       "      <td>КЮМ</td>\n",
       "    </tr>\n",
       "    <tr>\n",
       "      <th>1</th>\n",
       "      <td>Архив ВШЭ – Э – 37 – 20 – 2018 – 401</td>\n",
       "      <td>2018</td>\n",
       "      <td>Легенда. О свете в храме</td>\n",
       "      <td>легенды, церковь, пение, народное православие,...</td>\n",
       "      <td></td>\n",
       "      <td></td>\n",
       "      <td>7:13</td>\n",
       "      <td>9:55</td>\n",
       "      <td>Ивановская область</td>\n",
       "      <td>Южский район</td>\n",
       "      <td>с. Мугреево-Никольское</td>\n",
       "      <td>с. Мугреево-Никольское, в храме Артемия Веркол...</td>\n",
       "      <td>МСБ-1952-МН-2018</td>\n",
       "      <td>КЮМ</td>\n",
       "    </tr>\n",
       "  </tbody>\n",
       "</table>\n",
       "</div>"
      ],
      "text/plain": [
       "                                     id   год  \\\n",
       "0  Архив ВШЭ – Э – 37 – 20 – 2018 – 400  2018   \n",
       "1  Архив ВШЭ – Э – 37 – 20 – 2018 – 401  2018   \n",
       "\n",
       "                                жанр  \\\n",
       "0  Легенда. Об отпечатавшемся образе   \n",
       "1           Легенда. О свете в храме   \n",
       "\n",
       "                                      ключевые слова ссылка на текст  \\\n",
       "0  легенды, икона, церковь, народное православие,...                   \n",
       "1  легенды, церковь, пение, народное православие,...                   \n",
       "\n",
       "  ссылка на аудио время начала время конца              регион         район  \\\n",
       "0                         6:05        7:13  Ивановская область  Южский район   \n",
       "1                         7:13        9:55  Ивановская область  Южский район   \n",
       "\n",
       "                  деревня                                              адрес  \\\n",
       "0  с. Мугреево-Никольское  с. Мугреево-Никольское, в храме Артемия Веркол...   \n",
       "1  с. Мугреево-Никольское  с. Мугреево-Никольское, в храме Артемия Веркол...   \n",
       "\n",
       "         информанты собиратели  \n",
       "0  МСБ-1952-МН-2018        КЮМ  \n",
       "1  МСБ-1952-МН-2018        КЮМ  "
      ]
     },
     "execution_count": 171,
     "metadata": {},
     "output_type": "execute_result"
    }
   ],
   "source": [
    "data = pd.read_csv('./csv/M.tsv', sep='\\t').fillna('')\n",
    "data.head(2)"
   ]
  },
  {
   "cell_type": "code",
   "execution_count": 172,
   "metadata": {},
   "outputs": [],
   "source": [
    "parsed = []\n",
    "for row in range(len(data)):\n",
    "    i = data.iloc[row]\n",
    "    parsed.append(\n",
    "        (i['id'],int(i['год']),i['жанр'],i['время начала'],i['время конца'],\n",
    "         i['регион'],i['район'],i['деревня'],i['адрес'],)\n",
    "    )\n",
    "cur.executemany('INSERT INTO texts (old_id, year, genre, start_text, finish_text, \\\n",
    "region, district, village, address) \\\n",
    "VALUES (%s, %s, %s, %s,%s, %s, %s, %s,%s)', parsed)"
   ]
  },
  {
   "cell_type": "code",
   "execution_count": 173,
   "metadata": {},
   "outputs": [],
   "source": [
    "db.commit()"
   ]
  },
  {
   "cell_type": "code",
   "execution_count": 174,
   "metadata": {},
   "outputs": [],
   "source": [
    "loc_inf = []\n",
    "k = 4168\n",
    "for row in range(len(data)):\n",
    "    i = data.iloc[row]\n",
    "    #print (i['информанты'].split(','))\n",
    "    for j in i['информанты'].split(','):\n",
    "        loc_inf.append((row+k,d_inf[j.strip()],))\n",
    "cur.executemany('INSERT into t_i (id_text, id_informator) VALUES (%s, %s)', loc_inf)"
   ]
  },
  {
   "cell_type": "code",
   "execution_count": 175,
   "metadata": {},
   "outputs": [],
   "source": [
    "db.commit()"
   ]
  },
  {
   "cell_type": "code",
   "execution_count": 176,
   "metadata": {},
   "outputs": [],
   "source": [
    "loc_col = []\n",
    "k = 4168\n",
    "for row in range(len(data)):\n",
    "    i = data.iloc[row]\n",
    "    for j in i['собиратели'].split(','):\n",
    "        loc_col.append((row+k,d_collectors[j.strip()],))\n",
    "cur.executemany('INSERT into t_c (id_text, id_collector) VALUES (%s, %s)', loc_col)"
   ]
  },
  {
   "cell_type": "code",
   "execution_count": 177,
   "metadata": {},
   "outputs": [],
   "source": [
    "db.commit()"
   ]
  },
  {
   "cell_type": "markdown",
   "metadata": {},
   "source": [
    "# N"
   ]
  },
  {
   "cell_type": "code",
   "execution_count": 178,
   "metadata": {},
   "outputs": [
    {
     "data": {
      "text/html": [
       "<div>\n",
       "<style scoped>\n",
       "    .dataframe tbody tr th:only-of-type {\n",
       "        vertical-align: middle;\n",
       "    }\n",
       "\n",
       "    .dataframe tbody tr th {\n",
       "        vertical-align: top;\n",
       "    }\n",
       "\n",
       "    .dataframe thead th {\n",
       "        text-align: right;\n",
       "    }\n",
       "</style>\n",
       "<table border=\"1\" class=\"dataframe\">\n",
       "  <thead>\n",
       "    <tr style=\"text-align: right;\">\n",
       "      <th></th>\n",
       "      <th>id</th>\n",
       "      <th>год</th>\n",
       "      <th>жанр</th>\n",
       "      <th>ключевые слова</th>\n",
       "      <th>ссылка на текст</th>\n",
       "      <th>ссылка на аудио</th>\n",
       "      <th>время начала</th>\n",
       "      <th>время конца</th>\n",
       "      <th>регион</th>\n",
       "      <th>район</th>\n",
       "      <th>деревня</th>\n",
       "      <th>адрес</th>\n",
       "      <th>информанты</th>\n",
       "      <th>собиратели</th>\n",
       "    </tr>\n",
       "  </thead>\n",
       "  <tbody>\n",
       "    <tr>\n",
       "      <th>0</th>\n",
       "      <td>Архив ВШЭ – ФЭ – 69 – 14 – 2017 – 600</td>\n",
       "      <td>2018</td>\n",
       "      <td>Календарный обряд.Святки</td>\n",
       "      <td>календарь,праздник,Святки</td>\n",
       "      <td></td>\n",
       "      <td></td>\n",
       "      <td>2:52:33</td>\n",
       "      <td>2:53:19</td>\n",
       "      <td>Тверская область</td>\n",
       "      <td>Кимрский район</td>\n",
       "      <td>д.Высоково</td>\n",
       "      <td>музей крестьянского быта с. Неклюдово</td>\n",
       "      <td>ПЗЛ-1940-Вы-2017</td>\n",
       "      <td>НПЛ, НИВ</td>\n",
       "    </tr>\n",
       "    <tr>\n",
       "      <th>1</th>\n",
       "      <td>Архив ВШЭ – ФЭ – 69 – 14 – 2017 – 601</td>\n",
       "      <td>2018</td>\n",
       "      <td>Календарный обряд.Пасха</td>\n",
       "      <td>календарь,праздник,Пасха</td>\n",
       "      <td></td>\n",
       "      <td></td>\n",
       "      <td>2:57:01</td>\n",
       "      <td>2:59:45</td>\n",
       "      <td>Тверская область</td>\n",
       "      <td>Кимрский район</td>\n",
       "      <td>д.Высоково</td>\n",
       "      <td>музей крестьянского быта с. Неклюдово</td>\n",
       "      <td>ПЗЛ-1940-Вы-2017</td>\n",
       "      <td>НПЛ, НИВ</td>\n",
       "    </tr>\n",
       "  </tbody>\n",
       "</table>\n",
       "</div>"
      ],
      "text/plain": [
       "                                      id   год                      жанр  \\\n",
       "0  Архив ВШЭ – ФЭ – 69 – 14 – 2017 – 600  2018  Календарный обряд.Святки   \n",
       "1  Архив ВШЭ – ФЭ – 69 – 14 – 2017 – 601  2018   Календарный обряд.Пасха   \n",
       "\n",
       "              ключевые слова ссылка на текст ссылка на аудио время начала  \\\n",
       "0  календарь,праздник,Святки                                      2:52:33   \n",
       "1   календарь,праздник,Пасха                                      2:57:01   \n",
       "\n",
       "  время конца            регион           район     деревня  \\\n",
       "0     2:53:19  Тверская область  Кимрский район  д.Высоково   \n",
       "1     2:59:45  Тверская область  Кимрский район  д.Высоково   \n",
       "\n",
       "                                   адрес        информанты собиратели  \n",
       "0  музей крестьянского быта с. Неклюдово  ПЗЛ-1940-Вы-2017   НПЛ, НИВ  \n",
       "1  музей крестьянского быта с. Неклюдово  ПЗЛ-1940-Вы-2017   НПЛ, НИВ  "
      ]
     },
     "execution_count": 178,
     "metadata": {},
     "output_type": "execute_result"
    }
   ],
   "source": [
    "data = pd.read_csv('./csv/N.tsv', sep='\\t').fillna('')\n",
    "data.head(2)"
   ]
  },
  {
   "cell_type": "code",
   "execution_count": 179,
   "metadata": {},
   "outputs": [],
   "source": [
    "parsed = []\n",
    "for row in range(len(data)):\n",
    "    i = data.iloc[row]\n",
    "    parsed.append(\n",
    "        (i['id'],int(i['год']),i['жанр'],i['время начала'],i['время конца'],\n",
    "         i['регион'],i['район'],i['деревня'],i['адрес'],)\n",
    "    )\n",
    "cur.executemany('INSERT INTO texts (old_id, year, genre, start_text, finish_text, \\\n",
    "region, district, village, address) \\\n",
    "VALUES (%s, %s, %s, %s,%s, %s, %s, %s,%s)', parsed)"
   ]
  },
  {
   "cell_type": "code",
   "execution_count": 180,
   "metadata": {},
   "outputs": [],
   "source": [
    "db.commit()"
   ]
  },
  {
   "cell_type": "code",
   "execution_count": 181,
   "metadata": {},
   "outputs": [],
   "source": [
    "loc_inf = []\n",
    "k = 4267\n",
    "for row in range(len(data)):\n",
    "    i = data.iloc[row]\n",
    "    #print (i['информанты'].split(','))\n",
    "    for j in i['информанты'].split(','):\n",
    "        loc_inf.append((row+k,d_inf[j.strip()],))\n",
    "cur.executemany('INSERT into t_i (id_text, id_informator) VALUES (%s, %s)', loc_inf)"
   ]
  },
  {
   "cell_type": "code",
   "execution_count": 182,
   "metadata": {},
   "outputs": [],
   "source": [
    "db.commit()"
   ]
  },
  {
   "cell_type": "code",
   "execution_count": null,
   "metadata": {},
   "outputs": [],
   "source": [
    "loc_col = []\n",
    "k = 4267\n",
    "for row in range(len(data)):\n",
    "    i = data.iloc[row]\n",
    "    for j in i['собиратели'].split(','):\n",
    "        loc_col.append((row+k,d_collectors[j.strip()],))\n",
    "cur.executemany('INSERT into t_c (id_text, id_collector) VALUES (%s, %s)', loc_col)"
   ]
  },
  {
   "cell_type": "code",
   "execution_count": null,
   "metadata": {},
   "outputs": [],
   "source": [
    "db.commit()"
   ]
  },
  {
   "cell_type": "markdown",
   "metadata": {},
   "source": [
    "# Ns"
   ]
  },
  {
   "cell_type": "code",
   "execution_count": 186,
   "metadata": {},
   "outputs": [
    {
     "data": {
      "text/html": [
       "<div>\n",
       "<style scoped>\n",
       "    .dataframe tbody tr th:only-of-type {\n",
       "        vertical-align: middle;\n",
       "    }\n",
       "\n",
       "    .dataframe tbody tr th {\n",
       "        vertical-align: top;\n",
       "    }\n",
       "\n",
       "    .dataframe thead th {\n",
       "        text-align: right;\n",
       "    }\n",
       "</style>\n",
       "<table border=\"1\" class=\"dataframe\">\n",
       "  <thead>\n",
       "    <tr style=\"text-align: right;\">\n",
       "      <th></th>\n",
       "      <th>id</th>\n",
       "      <th>год</th>\n",
       "      <th>жанр</th>\n",
       "      <th>ключевые слова</th>\n",
       "      <th>ссылка на текст</th>\n",
       "      <th>ссылка на аудио</th>\n",
       "      <th>время начала</th>\n",
       "      <th>время конца</th>\n",
       "      <th>регион</th>\n",
       "      <th>район</th>\n",
       "      <th>деревня</th>\n",
       "      <th>адрес</th>\n",
       "      <th>информанты</th>\n",
       "      <th>собиратели</th>\n",
       "    </tr>\n",
       "  </thead>\n",
       "  <tbody>\n",
       "    <tr>\n",
       "      <th>0</th>\n",
       "      <td>Архив ВШЭ – ФЭ – 37 – 20 – 2018 – 1</td>\n",
       "      <td>2018</td>\n",
       "      <td>Похоронный обряд. Вынос из дома, дорога до кла...</td>\n",
       "      <td>гроб, покойник, похоронный обряд, дорога, проц...</td>\n",
       "      <td></td>\n",
       "      <td></td>\n",
       "      <td>0:00</td>\n",
       "      <td>1:47</td>\n",
       "      <td>Ивановская область</td>\n",
       "      <td>Южский район</td>\n",
       "      <td>г. Южа</td>\n",
       "      <td>Г. Южа, дом ремесел</td>\n",
       "      <td>КЮН-1980-Юж-2018</td>\n",
       "      <td>КЮМ</td>\n",
       "    </tr>\n",
       "    <tr>\n",
       "      <th>1</th>\n",
       "      <td>Архив ВШЭ – ФЭ – 37 – 20 – 2018 – 2</td>\n",
       "      <td>2018</td>\n",
       "      <td>Календарные праздники. Пасха. Обрядовая пища, ...</td>\n",
       "      <td>яйцо пасх., церковь, освящение, оберег, пожар,...</td>\n",
       "      <td></td>\n",
       "      <td></td>\n",
       "      <td>1:47</td>\n",
       "      <td>4:55</td>\n",
       "      <td>Ивановская область</td>\n",
       "      <td>Южский район</td>\n",
       "      <td>г. Южа</td>\n",
       "      <td>Г. Южа, дом ремесел</td>\n",
       "      <td>КЮН-1980-Юж-2018</td>\n",
       "      <td>КЮМ</td>\n",
       "    </tr>\n",
       "  </tbody>\n",
       "</table>\n",
       "</div>"
      ],
      "text/plain": [
       "                                    id   год  \\\n",
       "0  Архив ВШЭ – ФЭ – 37 – 20 – 2018 – 1  2018   \n",
       "1  Архив ВШЭ – ФЭ – 37 – 20 – 2018 – 2  2018   \n",
       "\n",
       "                                                жанр  \\\n",
       "0  Похоронный обряд. Вынос из дома, дорога до кла...   \n",
       "1  Календарные праздники. Пасха. Обрядовая пища, ...   \n",
       "\n",
       "                                      ключевые слова ссылка на текст  \\\n",
       "0  гроб, покойник, похоронный обряд, дорога, проц...                   \n",
       "1  яйцо пасх., церковь, освящение, оберег, пожар,...                   \n",
       "\n",
       "  ссылка на аудио время начала время конца              регион         район  \\\n",
       "0                         0:00        1:47  Ивановская область  Южский район   \n",
       "1                         1:47        4:55  Ивановская область  Южский район   \n",
       "\n",
       "  деревня                адрес        информанты собиратели  \n",
       "0  г. Южа  Г. Южа, дом ремесел  КЮН-1980-Юж-2018        КЮМ  \n",
       "1  г. Южа  Г. Южа, дом ремесел  КЮН-1980-Юж-2018        КЮМ  "
      ]
     },
     "execution_count": 186,
     "metadata": {},
     "output_type": "execute_result"
    }
   ],
   "source": [
    "data = pd.read_csv('./csv/Ns.tsv', sep='\\t').fillna('')\n",
    "data.head(2)"
   ]
  },
  {
   "cell_type": "code",
   "execution_count": 187,
   "metadata": {},
   "outputs": [],
   "source": [
    "parsed = []\n",
    "for row in range(len(data)):\n",
    "    i = data.iloc[row]\n",
    "    parsed.append(\n",
    "        (i['id'],int(i['год']),i['жанр'],i['время начала'],i['время конца'],\n",
    "         i['регион'],i['район'],i['деревня'],i['адрес'],)\n",
    "    )\n",
    "cur.executemany('INSERT INTO texts (old_id, year, genre, start_text, finish_text, \\\n",
    "region, district, village, address) \\\n",
    "VALUES (%s, %s, %s, %s,%s, %s, %s, %s,%s)', parsed)"
   ]
  },
  {
   "cell_type": "code",
   "execution_count": 188,
   "metadata": {},
   "outputs": [],
   "source": [
    "db.commit()"
   ]
  },
  {
   "cell_type": "code",
   "execution_count": 189,
   "metadata": {},
   "outputs": [],
   "source": [
    "loc_inf = []\n",
    "k = 4575\n",
    "for row in range(len(data)):\n",
    "    i = data.iloc[row]\n",
    "    #print (i['информанты'].split(','))\n",
    "    for j in i['информанты'].split(','):\n",
    "        loc_inf.append((row+k,d_inf[j.strip()],))\n",
    "cur.executemany('INSERT into t_i (id_text, id_informator) VALUES (%s, %s)', loc_inf)"
   ]
  },
  {
   "cell_type": "code",
   "execution_count": 190,
   "metadata": {},
   "outputs": [],
   "source": [
    "db.commit()"
   ]
  },
  {
   "cell_type": "code",
   "execution_count": 191,
   "metadata": {},
   "outputs": [],
   "source": [
    "loc_col = []\n",
    "k = 4575\n",
    "for row in range(len(data)):\n",
    "    i = data.iloc[row]\n",
    "    for j in i['собиратели'].split(','):\n",
    "        loc_col.append((row+k,d_collectors[j.strip()],))\n",
    "cur.executemany('INSERT into t_c (id_text, id_collector) VALUES (%s, %s)', loc_col)"
   ]
  },
  {
   "cell_type": "code",
   "execution_count": 192,
   "metadata": {},
   "outputs": [],
   "source": [
    "db.commit()"
   ]
  },
  {
   "cell_type": "markdown",
   "metadata": {},
   "source": [
    "# Тексты"
   ]
  },
  {
   "cell_type": "code",
   "execution_count": 4,
   "metadata": {},
   "outputs": [],
   "source": [
    "import os"
   ]
  },
  {
   "cell_type": "code",
   "execution_count": 5,
   "metadata": {},
   "outputs": [],
   "source": [
    "filelist = os.listdir('./txt/')"
   ]
  },
  {
   "cell_type": "code",
   "execution_count": 6,
   "metadata": {},
   "outputs": [],
   "source": [
    "name = 'Архив ВШЭ – Э – 37 – 20 – 2018 – 456.txt'"
   ]
  },
  {
   "cell_type": "code",
   "execution_count": 6,
   "metadata": {},
   "outputs": [],
   "source": [
    "def split_text(text):\n",
    "    result = re.findall('^(.*?Ключевые.*?\\n[\\nА-Яа-я0-9\\- ;]+?\\n)(.*?)$', text, re.DOTALL)\n",
    "    return result"
   ]
  },
  {
   "cell_type": "code",
   "execution_count": 7,
   "metadata": {},
   "outputs": [],
   "source": [
    "def find_keywords(meta):\n",
    "    result = [i.strip().capitalize() for i in re.findall('Ключевые слова:(.*?)\\n', meta)[0].split(',')]\n",
    "    if len(result) == 1 and len(result[0])<2:\n",
    "        return None\n",
    "    else:\n",
    "        return result"
   ]
  },
  {
   "cell_type": "code",
   "execution_count": 35,
   "metadata": {},
   "outputs": [
    {
     "data": {
      "text/plain": [
       "['Календарь', 'Купание', 'Запрет', 'Ильин день', 'Духов день', 'Троица']"
      ]
     },
     "execution_count": 35,
     "metadata": {},
     "output_type": "execute_result"
    }
   ],
   "source": [
    "find_keywords('Календарный обряд. Ильин день. Духов день. Троица \\n32:10-32:54\\nКлючевые слова: календарь, купание, запрет, Ильин день, Духов день, Троица\\nСРВ-1935-МН-2018')"
   ]
  },
  {
   "cell_type": "code",
   "execution_count": 10,
   "metadata": {},
   "outputs": [
    {
     "name": "stdout",
     "output_type": "stream",
     "text": [
      "Архив ВШЭ – ФЭ – 37 – 20 – 2018 – 36.txt\n",
      "Архив ВШЭ – ФЭ – 37 – 20 – 2018 – 69.txt\n",
      "Архив ВШЭ – ФЭ – 37 – 20 – 2018 – 67.txt\n",
      "Архив ВШЭ – ФЭ – 37 – 20 – 2018 – 40.txt\n",
      "Архив ВШЭ – ФЭ – 37 – 20 – 2018 – 43.txt\n",
      "Архив ВШЭ – ФЭ – 37 – 20 – 2018 – 45.txt\n"
     ]
    }
   ],
   "source": [
    "for name in filelist:\n",
    "    with open ('./txt/'+name) as f:\n",
    "            text = f.read()\n",
    "            result = split_text(text)\n",
    "            if find_keywords(result[0]) == False:\n",
    "                print (name)\n",
    "            "
   ]
  },
  {
   "cell_type": "code",
   "execution_count": 262,
   "metadata": {},
   "outputs": [
    {
     "name": "stdout",
     "output_type": "stream",
     "text": [
      "Календарный обряд. Ильин день. Духов день. Троица \n",
      "32:10-32:54\n",
      "Ключевые слова: календарь, купание, запрет, Ильин день, Духов день, Троица\n",
      "СРВ-1935-МН-2018\n",
      "\n",
      "С: Купаться ходили? \n",
      "РВ: Ну, у нас пруды были. Ходили, конечно, купались.\n",
      "С: А когда начинали? Приметы были какие-то? \n",
      "РВ: А вот, наверно, с Духова дня, начинали купаться, а в Ильин день кончали. Ильин день 2 августа, по моему. А Троица, она же не в числах. Когда Духов день.\n",
      "С: В Ильин день уже нельзя было купаться или еще…\n",
      "РВ: Ну, раньше-то мы как-то не купались, а теперь не обращают внимания, купаются. \n",
      "\n"
     ]
    }
   ],
   "source": [
    "with open ('./txt/Архив ВШЭ – Э – 37 – 20 – 2018 – 434.txt') as f:\n",
    "    print (f.read())"
   ]
  },
  {
   "cell_type": "code",
   "execution_count": 263,
   "metadata": {},
   "outputs": [
    {
     "name": "stdout",
     "output_type": "stream",
     "text": [
      "[('Календарный обряд. Ильин день. Духов день. Троица \\n32:10-32:54\\nКлючевые слова: календарь, купание, запрет, Ильин день, Духов день, Троица\\nСРВ-1935-МН-2018\\n', '\\nС: Купаться ходили? \\nРВ: Ну, у нас пруды были. Ходили, конечно, купались.\\nС: А когда начинали? Приметы были какие-то? \\nРВ: А вот, наверно, с Духова дня, начинали купаться, а в Ильин день кончали. Ильин день 2 августа, по моему. А Троица, она же не в числах. Когда Духов день.\\nС: В Ильин день уже нельзя было купаться или еще…\\nРВ: Ну, раньше-то мы как-то не купались, а теперь не обращают внимания, купаются. ')]\n"
     ]
    }
   ],
   "source": [
    "with open ('./txt/Архив ВШЭ – Э – 37 – 20 – 2018 – 434.txt') as f:\n",
    "    print (split_text(f.read()))"
   ]
  },
  {
   "cell_type": "code",
   "execution_count": 278,
   "metadata": {},
   "outputs": [],
   "source": [
    "for name in filelist:\n",
    "    cur.execute('SELECT id FROM texts WHERE old_id=%s', (name.replace('.txt',''),))\n",
    "    id_text = cur.fetchall()[0][0]\n",
    "    with open ('./txt/'+name) as f:\n",
    "        text = split_text(f.read())[0][1]\n",
    "        cur.execute('UPDATE texts SET raw_text=%s WHERE id=%s', (text, id_text))"
   ]
  },
  {
   "cell_type": "code",
   "execution_count": 279,
   "metadata": {},
   "outputs": [],
   "source": [
    "db.commit()"
   ]
  },
  {
   "cell_type": "markdown",
   "metadata": {},
   "source": [
    "# Ключевые слова"
   ]
  },
  {
   "cell_type": "code",
   "execution_count": 20,
   "metadata": {},
   "outputs": [],
   "source": [
    "data = pd.read_csv('/home/dkbrz/GitHub/folklore_corpus/csv/prev/tblCards.csv', sep='\\t').fillna('')"
   ]
  },
  {
   "cell_type": "code",
   "execution_count": 13,
   "metadata": {},
   "outputs": [
    {
     "data": {
      "text/plain": [
       "(4131, 21)"
      ]
     },
     "execution_count": 13,
     "metadata": {},
     "output_type": "execute_result"
    }
   ],
   "source": [
    "data.shape"
   ]
  },
  {
   "cell_type": "code",
   "execution_count": 21,
   "metadata": {},
   "outputs": [
    {
     "data": {
      "text/html": [
       "<div>\n",
       "<style scoped>\n",
       "    .dataframe tbody tr th:only-of-type {\n",
       "        vertical-align: middle;\n",
       "    }\n",
       "\n",
       "    .dataframe tbody tr th {\n",
       "        vertical-align: top;\n",
       "    }\n",
       "\n",
       "    .dataframe thead th {\n",
       "        text-align: right;\n",
       "    }\n",
       "</style>\n",
       "<table border=\"1\" class=\"dataframe\">\n",
       "  <thead>\n",
       "    <tr style=\"text-align: right;\">\n",
       "      <th></th>\n",
       "      <th>текст</th>\n",
       "      <th>аннотация</th>\n",
       "      <th>ключевые слова</th>\n",
       "      <th>термины</th>\n",
       "      <th>программа</th>\n",
       "      <th>вопрос</th>\n",
       "      <th>село</th>\n",
       "      <th>год</th>\n",
       "      <th>информант</th>\n",
       "      <th>информант2</th>\n",
       "      <th>...</th>\n",
       "      <th>информант4</th>\n",
       "      <th>собиратель</th>\n",
       "      <th>собиратель2</th>\n",
       "      <th>собиратель3</th>\n",
       "      <th>собиратель4</th>\n",
       "      <th>номер</th>\n",
       "      <th>zvuk</th>\n",
       "      <th>zvuk2</th>\n",
       "      <th>photo</th>\n",
       "      <th>photo2</th>\n",
       "    </tr>\n",
       "  </thead>\n",
       "  <tbody>\n",
       "    <tr>\n",
       "      <th>0</th>\n",
       "      <td>[Шёл разговор о пьющей женщине из Карпиловки, ...</td>\n",
       "      <td></td>\n",
       "      <td>Водка, Плата, Питье, Девственность, Женщина, П...</td>\n",
       "      <td></td>\n",
       "      <td>XXIa</td>\n",
       "      <td>5 б</td>\n",
       "      <td>Брянская обл., Злынковский р-н, Спиридонова Буда</td>\n",
       "      <td>2017</td>\n",
       "      <td>А</td>\n",
       "      <td>Г</td>\n",
       "      <td>...</td>\n",
       "      <td></td>\n",
       "      <td>МЭГ</td>\n",
       "      <td>НВП</td>\n",
       "      <td>СЕ</td>\n",
       "      <td>ФЕЕ</td>\n",
       "      <td>1</td>\n",
       "      <td></td>\n",
       "      <td></td>\n",
       "      <td></td>\n",
       "      <td></td>\n",
       "    </tr>\n",
       "    <tr>\n",
       "      <th>1</th>\n",
       "      <td>[Разговор о кусачей собаке:] [Г:] А раз её\\ э\\...</td>\n",
       "      <td></td>\n",
       "      <td>Первый, Прозвище, Имя, Еврей, Народ, Свой-чужой</td>\n",
       "      <td></td>\n",
       "      <td>XXIa</td>\n",
       "      <td>5 б</td>\n",
       "      <td>Брянская обл., Злынковский р-н, Спиридонова Буда</td>\n",
       "      <td>2017</td>\n",
       "      <td>А</td>\n",
       "      <td>Г</td>\n",
       "      <td>...</td>\n",
       "      <td></td>\n",
       "      <td>МЭГ</td>\n",
       "      <td>НВП</td>\n",
       "      <td>СЕ</td>\n",
       "      <td>ФЕЕ</td>\n",
       "      <td>2</td>\n",
       "      <td></td>\n",
       "      <td></td>\n",
       "      <td></td>\n",
       "      <td></td>\n",
       "    </tr>\n",
       "  </tbody>\n",
       "</table>\n",
       "<p>2 rows × 21 columns</p>\n",
       "</div>"
      ],
      "text/plain": [
       "                                               текст аннотация  \\\n",
       "0  [Шёл разговор о пьющей женщине из Карпиловки, ...             \n",
       "1  [Разговор о кусачей собаке:] [Г:] А раз её\\ э\\...             \n",
       "\n",
       "                                      ключевые слова термины программа вопрос  \\\n",
       "0  Водка, Плата, Питье, Девственность, Женщина, П...              XXIa    5 б   \n",
       "1    Первый, Прозвище, Имя, Еврей, Народ, Свой-чужой              XXIa    5 б   \n",
       "\n",
       "                                               село   год информант  \\\n",
       "0  Брянская обл., Злынковский р-н, Спиридонова Буда  2017         А   \n",
       "1  Брянская обл., Злынковский р-н, Спиридонова Буда  2017         А   \n",
       "\n",
       "  информант2  ...   информант4 собиратель собиратель2 собиратель3 собиратель4  \\\n",
       "0          Г  ...                     МЭГ         НВП          СЕ         ФЕЕ   \n",
       "1          Г  ...                     МЭГ         НВП          СЕ         ФЕЕ   \n",
       "\n",
       "  номер  zvuk zvuk2 photo photo2  \n",
       "0     1                           \n",
       "1     2                           \n",
       "\n",
       "[2 rows x 21 columns]"
      ]
     },
     "execution_count": 21,
     "metadata": {},
     "output_type": "execute_result"
    }
   ],
   "source": [
    "data.head(2)"
   ]
  },
  {
   "cell_type": "code",
   "execution_count": 32,
   "metadata": {},
   "outputs": [],
   "source": [
    "cur.execute('SELECT id, word FROM keywords')\n",
    "d_key = {}\n",
    "for i in cur.fetchall():\n",
    "    d_key[i[1]] = i[0]"
   ]
  },
  {
   "cell_type": "code",
   "execution_count": 37,
   "metadata": {},
   "outputs": [],
   "source": [
    "for i in range(len(data)):\n",
    "    row = data.iloc[i]\n",
    "    keywords = list(set([word.strip() for word in row['ключевые слова'].split(',')]))\n",
    "    for word in keywords:\n",
    "        if word in s:\n",
    "            cur.execute('INSERT INTO t_k (id_text, id_keyword) VALUES (%s, %s)', (i+1, d_key[word],))"
   ]
  },
  {
   "cell_type": "code",
   "execution_count": 38,
   "metadata": {},
   "outputs": [],
   "source": [
    "db.commit()"
   ]
  },
  {
   "cell_type": "code",
   "execution_count": 31,
   "metadata": {},
   "outputs": [
    {
     "data": {
      "text/plain": [
       "{'', 'Варвара св.', 'Давать-брать', 'Фома св.'}"
      ]
     },
     "execution_count": 31,
     "metadata": {},
     "output_type": "execute_result"
    }
   ],
   "source": [
    "found -(found&s) - set([\"Вкус\",\"Гадюка\",\"Глина\",\"Двенадцать\",\"Десять\",\"Звон\",\"Каштан\",\"Кнут\",\"Красота\",\"Обряд\",\"Помидор\",\"Пять\",\"Ребро\",\"Рогоз\",\"Сабельник\",\"Сапоги\",\"Свекла\",\"Смородина\",\"Сто\",\"Теленок\",\"Туман\",\"Улица\",\"Чай\",\"Четыре\",\"Читать\"])"
   ]
  },
  {
   "cell_type": "code",
   "execution_count": 10,
   "metadata": {},
   "outputs": [],
   "source": [
    "misspell = {\"Благословение\":\"Благословлять\",\"Быличка\":\"Былички\",\"Вербное воскресенье\":\"Вербное воскресение\",\"Воскресенье\":\"Воскресенье (день недели)\",\"Гад\":\"Гады\",\"Гадание\":\"Гадания\",\"Гуляние\":\"Гулять\",\"Гулянь\":\"Гулять\",\"Духовные стихи.\":\"Духовные стихи\",\"Жаворонки\":\"Жаворонок\",\"Жена\":\"Супруги\",\"Заговор\":\"Заговоры\",\"Запрет\":\"Запреты\",\"Знахари\":\"Знахарь\",\"Иван купала\":\"Иван Купала\",\"Иконы\":\"Икона\",\"Каравай\":\"Коровай\",\"Кикиимора\":\"Кикимора\",\"Кладище\":\"Кладбище\",\"Колдуны\":\"Колдун\",\"Красный\":\"Красный цвет\",\"Крещение\":\"Крещенье (праздник)\",\"Крещенье\":\"Крещенье (праздник)\",\"Легенда\":\"Легенды\",\"Музыкальный инструмент\":\"Музыкальные инструменты\",\"Мыть\":\"Мытье\",\"Новороденный\":\"Новорожденный\",\"Оберег\":\"Обереги\",\"Обмывание\":\"Обмывание покойника\",\"Осыпать\":\"Осыпать\",\"Песня\":\"Песни\",\"Петр и павел\":\"Петр и Павел\",\"Петра и павла день\":\"Петра и Павла день\",\"Петух 31:07-36:26\":\"Петух\",\"Покойники\":\"Покойник\",\"Покров\":\"Покров (календ.)\",\"Поминальный дни\":\"Поминальные дни\",\"Праздник\":\"Праздники\",\"Предание\":\"Предания\",\"Предание топоним.\":\"Предания топоним.\",\"Предания топоним\":\"Предания топоним.\",\"Приговор\":\"Приговоры\",\"Примета\":\"Приметы\",\"Прозвища\":\"Прозвище\",\"Птица\":\"Птицы\",\"Радоница\":\"Радуница\",\"Рождество богородицы\":\"Рождество Богородицы\",\"Ряжение\":\"Ряженье\",\"Свечаэ=\":\"Свеча\",\"Святой\":\"Святые\",\"Смерть\":\"Жизнь-смерть\",\"Сновидение\":\"Сновидения\",\"Соседи\":\"Сосед\",\"Танцевать\":\"Танец\",\"Угощать\":\"Угощение\",\"Урожай\":\"Урожай-неурожай\",\"Успение богородицы\":\"Успение Богородицы\",\"Шутка\":\"Шутки\",\"Яйца\":\"Яйцо\"}"
   ]
  },
  {
   "cell_type": "code",
   "execution_count": 48,
   "metadata": {},
   "outputs": [],
   "source": [
    "not_found = set()\n",
    "for name in filelist:\n",
    "    cur.execute('SELECT id FROM texts WHERE old_id=%s', (name.replace('.txt',''),))\n",
    "    id_text = cur.fetchall()[0][0]\n",
    "    with open ('./txt/'+name) as f:\n",
    "            keywords = find_keywords(split_text(f.read())[0][0])\n",
    "            if keywords is not None:\n",
    "                for word in keywords:\n",
    "                    if word not in s:\n",
    "                        if word in misspell:\n",
    "                            word = misspell[word]"
   ]
  },
  {
   "cell_type": "code",
   "execution_count": 49,
   "metadata": {},
   "outputs": [
    {
     "name": "stdout",
     "output_type": "stream",
     "text": [
      "|||||||||||||||||||||||||||||||||||||||||||||||||||||||||||||||||||||||||||||||||||||||||||||||||||||||||||||||||||||||||||||||||||||||||||||||||||||||||||||||||||||||||||||||||||||||"
     ]
    }
   ],
   "source": [
    "for name in filelist:\n",
    "    cur.execute('SELECT id FROM texts WHERE old_id=%s', (name.replace('.txt',''),))\n",
    "    id_text = cur.fetchall()[0][0]\n",
    "    with open ('./txt/'+name) as f:\n",
    "            keywords = find_keywords(split_text(f.read())[0][0])\n",
    "            if keywords is not None:\n",
    "                for word in keywords:\n",
    "                    try:\n",
    "                        if word != '':\n",
    "                            if word in misspell:\n",
    "                                word = misspell[word]\n",
    "                                print ('|',end='')\n",
    "                            if word in s:\n",
    "                                cur.execute('SELECT id FROM keywords WHERE word = %s', (word,))\n",
    "                                id_word = cur.fetchone()[0]\n",
    "                                cur.execute('INSERT INTO t_k (id_text, id_keyword) VALUES (%s, %s)', (id_text, id_word,))\n",
    "                    except:\n",
    "                        print(word)"
   ]
  },
  {
   "cell_type": "code",
   "execution_count": 9,
   "metadata": {},
   "outputs": [],
   "source": [
    "cur.execute('SELECT DISTINCT word FROM keywords')\n",
    "s = set()\n",
    "for i in sorted(set([i[0] for i in cur.fetchall()])):\n",
    "    s.add(i)"
   ]
  },
  {
   "cell_type": "code",
   "execution_count": 27,
   "metadata": {},
   "outputs": [],
   "source": [
    "misspell2 = {\"Бывальщина\":\"Былички\",\"Егорьев день\":\"Юрьев день\",\"Егорьер день\":\"Юрьев день\",\"Застолье\":\"Трапеза ритуальная\",\"Знамение\":\"Знак-знамение\",\"Игры\":\"Игры фольк.\",\"Коса\":\"Коса (волосы)\",\"Лук\":\"Лук (раст.)\",\"Мальчишник\":\"Девишник\",\"Молодые\":\"Молодожены\",\"Муж\":\"Супруги\",\"Обрядовое деревце\":\"Деревце обрядовое\",\"Петровский обряд\":\"Петра и Павла день\",\"Плач\":\"Причитания\",\"Поминание\":\"Поминальные дни\",\"хороны\":\"Похоронный обряд\",\"Рассказ о прошлом\":\"Устная история\",\"Ритуальная речь\":\"Говорить\",\"Родственники\":\"Родство\",\"Ряженые\":\"Ряженье\",\"Ряженый\":\"Ряженье\",\"Свадебный\":\"Свадебный обряд\",\"Свадьба\":\"Свадебный обряд\",\"Сваты\":[\"Сват\", \"Сваха\"], \"Гора, лес\":[\"Гора\", \"Лес\"], \"Семья\":[\"Родство\",\"Супруги\"],\"Стихи\":\"Народная литература\",\"Частушка\":\"Песни\"}"
   ]
  },
  {
   "cell_type": "code",
   "execution_count": 29,
   "metadata": {},
   "outputs": [],
   "source": [
    "for name in filelist:\n",
    "    cur.execute('SELECT id FROM texts WHERE old_id=%s', (name.replace('.txt',''),))\n",
    "    id_text = cur.fetchall()[0][0]\n",
    "    with open ('./txt/'+name) as f:\n",
    "            keywords = find_keywords(split_text(f.read())[0][0])\n",
    "            if keywords is not None:\n",
    "                for word in keywords:\n",
    "                    try:\n",
    "                    #if True:\n",
    "                        if word != '':\n",
    "                            if (not word in misspell) and (not word in s):\n",
    "                                if word in misspell2:\n",
    "                                    if type(misspell2[word]) != list:\n",
    "                                        if misspell2[word] in s:\n",
    "                                            cur.execute('SELECT id FROM keywords WHERE word = %s', (misspell2[word],))\n",
    "                                            id_word = cur.fetchone()[0]\n",
    "                                            cur.execute('INSERT INTO t_k (id_text, id_keyword) VALUES (%s, %s)', (id_text, id_word,))\n",
    "                                    else:\n",
    "                                        for w in misspell2[word]:\n",
    "                                            cur.execute('SELECT id FROM keywords WHERE word = %s', (w,))\n",
    "                                            id_word = cur.fetchone()[0]\n",
    "                                            cur.execute('INSERT INTO t_k (id_text, id_keyword) VALUES (%s, %s)', (id_text, id_word,))\n",
    "                    except:\n",
    "                        print(word)"
   ]
  },
  {
   "cell_type": "code",
   "execution_count": 30,
   "metadata": {},
   "outputs": [],
   "source": [
    "db.commit()"
   ]
  },
  {
   "cell_type": "code",
   "execution_count": null,
   "metadata": {},
   "outputs": [],
   "source": []
  },
  {
   "cell_type": "markdown",
   "metadata": {},
   "source": [
    "# Fixes"
   ]
  },
  {
   "cell_type": "code",
   "execution_count": 32,
   "metadata": {},
   "outputs": [],
   "source": [
    "cur.execute('SELECT region, id FROM texts')\n",
    "data = cur.fetchall()\n",
    "for i in data:\n",
    "    if 'обл.' in i[0]:\n",
    "        new = i[0].replace('обл.','область')\n",
    "        cur.execute('UPDATE texts SET region=%s WHERE id = %s', (new, i[1]))"
   ]
  },
  {
   "cell_type": "code",
   "execution_count": 34,
   "metadata": {},
   "outputs": [],
   "source": [
    "cur.execute('SELECT district, id FROM texts')\n",
    "data = cur.fetchall()\n",
    "for i in data:\n",
    "    if 'р-н' in i[0]:\n",
    "        new = i[0].replace('р-н','район')\n",
    "        cur.execute('UPDATE texts SET district=%s WHERE id = %s', (new, i[1]))"
   ]
  },
  {
   "cell_type": "code",
   "execution_count": 57,
   "metadata": {},
   "outputs": [],
   "source": [
    "db.commit()"
   ]
  },
  {
   "cell_type": "code",
   "execution_count": 40,
   "metadata": {},
   "outputs": [],
   "source": [
    "cur.execute('SELECT village, id FROM texts')\n",
    "data = cur.fetchall()\n",
    "for i in data:\n",
    "    if '.' in i[0]:\n",
    "        if len(i[0]) < 30:\n",
    "            new = i[0].split('.')[1].strip()\n",
    "            cur.execute('UPDATE texts SET village=%s WHERE id = %s', (new, i[1]))"
   ]
  },
  {
   "cell_type": "code",
   "execution_count": 55,
   "metadata": {},
   "outputs": [],
   "source": [
    "video = {\"Архив ВШЭ – ФЭ – 37 – 12 – 2018 – 109\":\"WTA5A1DE_M0\",\n",
    "         \"Архив ВШЭ – ФЭ – 37 – 12 – 2018 – 110\":\"wMghKiSvZkU\",\n",
    "         \"Архив ВШЭ – ФЭ – 37 – 12 – 2018 – 112\":\"wAH27oKlFus\",\n",
    "         \"Архив ВШЭ – ФЭ – 37 – 12 – 2018 – 113\":\"QxNt-Xnpm4s\",\n",
    "         \"Архив ВШЭ – ФЭ – 37 – 12 – 2018 – 114\":\"vNTrN7YS0s8\",\n",
    "         \"Архив ВШЭ – ФЭ – 37 – 12 – 2018 – 115\":\"FNbjE2iR5ns\",\n",
    "         \"Архив ВШЭ – ФЭ – 37 – 12 – 2018 – 116\":\"gHKWxfYAVR4\",\n",
    "         \"Архив ВШЭ – ФЭ – 37 – 12 – 2018 – 117\":\"AQPzilvewjo\",\n",
    "         \"Архив ВШЭ – ФЭ – 37 – 12 – 2018 – 303\":\"a9I-emOXnl0\",\n",
    "         \"Архив ВШЭ – ФЭ – 37 – 12 – 2018 – 304\":\"a9aPIdPt1AM\",\n",
    "         \"Архив ВШЭ – ФЭ – 37 – 12 – 2018 – 305\":\"N9gVWcywOps\",\n",
    "         \"Архив ВШЭ – ФЭ – 37 – 12 – 2018 – 306\":\"Gp7JUuCw6Kc\",\n",
    "         \"Архив ВШЭ – ФЭ – 37 – 12 – 2018 – 311\":\"EJ9PLvrSwdg\",\n",
    "         \"Архив ВШЭ – ФЭ – 37 – 12 – 2018 – 312\":\"ksFPLPooIjg\",\n",
    "         \"Архив ВШЭ – ФЭ – 37 – 12 – 2018 – 313\":\"pvvK4ZcwAVE\"}"
   ]
  },
  {
   "cell_type": "code",
   "execution_count": 58,
   "metadata": {},
   "outputs": [],
   "source": [
    "video = {\"3888\":\"G60R8AfP4JQ\\n0xks23g-zxo\t\",\"2449\":\"n-PbiQaAN-w\",\"2448\":\"8vop3TONDCk\",\"2446\":\"tDrlvI_cyzs\",\"2427\":\"gipJfuGFkx8\",\"2426\":\"c6FQQyJJY-s\",\"2425\":\"0wnPouXWimg\",\"2524\":\"UlmJaMy87nM\",\"2423\":\"qO533x_parc\",\"2422\":\"JgRk2AS9F_Y\",\"2420\":\"ZGP03YEYd8s\",\"2415\":\"_E26Wu-RX3w\",\"2414\":\"VThjHM1-iHU\",\"2413\":\"ZbRy6g3B-yk\",\"2412\":\"sgmg7lmMbzU\",\"2411\":\"rUK3OlyEeYo\",\"2410\":\"DmZWW45VeXw\",\"2409\":\"MyZHSEUeUb8\\n_S_fdEFcRa0\\nW-OtlWXfpuY\",\"1697\":\"6k1m8IyltYg\"}"
   ]
  },
  {
   "cell_type": "code",
   "execution_count": 61,
   "metadata": {},
   "outputs": [
    {
     "name": "stdout",
     "output_type": "stream",
     "text": [
      "3884\n",
      "2465\n",
      "2464\n",
      "2462\n",
      "2443\n",
      "2442\n",
      "2441\n",
      "2540\n",
      "2439\n",
      "2438\n",
      "2436\n",
      "2431\n",
      "2430\n",
      "2429\n",
      "2428\n",
      "2427\n",
      "2426\n",
      "2425\n",
      "1751\n"
     ]
    }
   ],
   "source": [
    "for name in video:\n",
    "    cur.execute('SELECT id FROM texts WHERE old_id=%s', (name,))\n",
    "    id_text = cur.fetchall()[0][0]\n",
    "    cur.execute('UPDATE texts SET video=%s WHERE id = %s', (video[name], id_text))\n",
    "    print (id_text)"
   ]
  },
  {
   "cell_type": "code",
   "execution_count": 62,
   "metadata": {},
   "outputs": [],
   "source": [
    "db.commit()"
   ]
  },
  {
   "cell_type": "code",
   "execution_count": 54,
   "metadata": {},
   "outputs": [
    {
     "data": {
      "text/plain": [
       "['12233']"
      ]
     },
     "execution_count": 54,
     "metadata": {},
     "output_type": "execute_result"
    }
   ],
   "source": [
    "'12233'.split('\\n')"
   ]
  }
 ],
 "metadata": {
  "kernelspec": {
   "display_name": "Python 3",
   "language": "python",
   "name": "python3"
  },
  "language_info": {
   "codemirror_mode": {
    "name": "ipython",
    "version": 3
   },
   "file_extension": ".py",
   "mimetype": "text/x-python",
   "name": "python",
   "nbconvert_exporter": "python",
   "pygments_lexer": "ipython3",
   "version": "3.8.10"
  }
 },
 "nbformat": 4,
 "nbformat_minor": 2
}
